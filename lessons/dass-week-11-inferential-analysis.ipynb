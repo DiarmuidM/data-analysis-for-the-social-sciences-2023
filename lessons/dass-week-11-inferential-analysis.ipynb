{
 "cells": [
  {
   "cell_type": "markdown",
   "id": "otherwise-cache",
   "metadata": {},
   "source": [
    "<p align=\"right\"><i>Data Analysis for the Social Sciences - Part II - 2023-11-21</i></p>"
   ]
  },
  {
   "cell_type": "markdown",
   "id": "dynamic-conjunction",
   "metadata": {},
   "source": [
    "# Week 11 - Inferential Analysis"
   ]
  },
  {
   "cell_type": "markdown",
   "id": "8d0a2b59-3e38-4559-9ffe-4f66a73669e8",
   "metadata": {},
   "source": [
    "Welcome to Part II of Data Analysis for the Social Sciences. In this lab session we will conduct a range of inferential statistical analyses and tests for categorical and numeric variables."
   ]
  },
  {
   "cell_type": "markdown",
   "id": "f8e6aeaa-408f-458b-8229-0b19ba38863e",
   "metadata": {},
   "source": [
    "We will use real data from the *British Social Attitudes survey, 2019: Poverty and Welfare*, specifically the open dataset available from the UK Data Service: https://doi.org/10.5255/UKDA-SN-8850-1"
   ]
  },
  {
   "cell_type": "markdown",
   "id": "2ea28256-4c66-43e1-93a8-2b4ff868fca6",
   "metadata": {},
   "source": [
    "We will structure our analyses around the following research question:"
   ]
  },
  {
   "cell_type": "markdown",
   "id": "d5f42e1a-05fc-49a4-9756-f05c99cb353c",
   "metadata": {},
   "source": [
    "<p><center><i>Are attitudes to welfare associated with sex, age, interest in politics, and perception of benefits fraud?</i></center></p>"
   ]
  },
  {
   "cell_type": "markdown",
   "id": "scenic-silly",
   "metadata": {},
   "source": [
    "### Aims\n",
    "\n",
    "This lesson - **Inferential Analysis** - has two aims:\n",
    "1. Demonstrate how to calculate and communicate measures of uncertainty relating to your quantitative findings.\n",
    "2. Cultivate your computational skills through the use of the statistical programming langauge *R*. For example, there are a number of opportunities for you to amend or write R syntax (code)."
   ]
  },
  {
   "cell_type": "markdown",
   "id": "judicial-prediction",
   "metadata": {},
   "source": [
    "### Lesson details\n",
    "\n",
    "* **Level**: Introductory, for individuals with minimal prior knowledge or experience of quantitative data analysis.\n",
    "* **Duration**: 45-60 minutes.\n",
    "* **Pre-requisites**: Completed [*Univariate Data Analysis*](./dass-week-9-univariate-analysis.ipynb), [*Bivariate Data Analysis*](./dass-week-10-bivariate-analysis.ipynb) and [*Multivariate Data Analysis*](./dass-week-11-multivariate-analysis.ipynb) lessons.\n",
    "* **Programming language**: R.\n",
    "* **Learning outcomes**:\n",
    "\t1. Understand how to use R for conducting inferential analyses.\n",
    "\t2. Understand how to select and apply common data analysis techniques for categorical and numeric variables."
   ]
  },
  {
   "cell_type": "markdown",
   "id": "terminal-agenda",
   "metadata": {},
   "source": [
    "## Guide to using this resource\n",
    "\n",
    "This learning resource was built using <a href=\"https://jupyter.org/\" target=_blank>Jupyter Notebook</a>, an open-source software application that allows you to mix code, results and narrative in a single document. As <a href=\"https://jupyter4edu.github.io/jupyter-edu-book/\" target=_blank>Barba et al. (2019)</a> espouse:\n",
    "> In a world where every subject matter can have a data-supported treatment, where computational devices are omnipresent and pervasive, the union of natural language and computation creates compelling communication and learning opportunities.\n",
    "\n",
    "If you are familiar with Jupyter notebooks then skip ahead to the main content (*Introduction to Inferential Analysis*). Otherwise, the following is a quick guide to navigating and interacting with the notebook."
   ]
  },
  {
   "cell_type": "markdown",
   "id": "interested-radar",
   "metadata": {},
   "source": [
    "### Interaction\n",
    "\n",
    "**You only need to execute the code that is contained in sections which are marked by `[]`.**\n",
    "\n",
    "To execute a cell, click or double-click the cell and press the `Play` button next to the cell or select the `Run` button on the top toolbar (*Runtime > Run the focused cell*); you can also use the keyboard shortcuts `Shift + Enter` or `Ctrl + Enter`).\n",
    "\n",
    "Try it for yourself:"
   ]
  },
  {
   "cell_type": "code",
   "execution_count": null,
   "id": "dominican-hardware",
   "metadata": {},
   "outputs": [],
   "source": [
    "name <- readline(prompt=\"Enter name: \")\n",
    "print(paste(\"Hi,\", name, \"enjoy learning more about R and inferential analysis!\"))"
   ]
  },
  {
   "cell_type": "markdown",
   "id": "through-storm",
   "metadata": {},
   "source": [
    "Notebooks are sequential, meaning code should be executed in order (top to bottom). For example, the following code won't work:"
   ]
  },
  {
   "cell_type": "code",
   "execution_count": null,
   "id": "outstanding-bulgaria",
   "metadata": {},
   "outputs": [],
   "source": [
    "x * 5"
   ]
  },
  {
   "cell_type": "markdown",
   "id": "handmade-madagascar",
   "metadata": {},
   "source": [
    "As the error message suggests, there is no object (variable) called `x`, therefore we cannot do any calculations with it. \n",
    "\n",
    "Let's try a sequential approach:"
   ]
  },
  {
   "cell_type": "code",
   "execution_count": null,
   "id": "addressed-assumption",
   "metadata": {},
   "outputs": [],
   "source": [
    "x <- 10 # create an object called 'x' and give it the value '10'"
   ]
  },
  {
   "cell_type": "code",
   "execution_count": null,
   "id": "crucial-implement",
   "metadata": {},
   "outputs": [],
   "source": [
    "x * 5 # multiply 'x' by 5"
   ]
  },
  {
   "cell_type": "markdown",
   "id": "covered-round",
   "metadata": {},
   "source": [
    "### Learn more\n",
    "\n",
    "Jupyter notebooks provide rich, flexible features for conducting and documenting your data analysis workflow. To learn more about additional notebook features, we recommend working through some of the <a href=\"https://github.com/darribas/gds19/blob/master/content/labs/lab_00.ipynb\" target=_blank>materials</a> provided by Dani Arribas-Bel at the University of Liverpool. "
   ]
  },
  {
   "cell_type": "markdown",
   "id": "floppy-escape",
   "metadata": {},
   "source": [
    "### Learner input\n",
    "\n",
    "Throughout the lessons there are times when you need to do the following activities:\n",
    "* **TASK:** A coding task for you to complete (e.g. analyse different variables).\n",
    "* **QUESTION:** A question regarding your interpretation of some code or a technique (e.g. what is the piece of code doing?).\n",
    "* **EXERCISE:** A data analysis challenge for you to complete."
   ]
  },
  {
   "cell_type": "markdown",
   "id": "democratic-office",
   "metadata": {},
   "source": [
    "## Introduction to Inferential Analysis"
   ]
  },
  {
   "cell_type": "markdown",
   "id": "respected-comedy",
   "metadata": {},
   "source": [
    "In the [**previous lessons**](https://github.com/DiarmuidM/data-analysis-for-the-social-sciences-2023/blob/main/lessons), we learned how to conduct a range of univariate, bivariate and multivariate analyses. The results of these analyses are often quite precise and accurate:\n",
    "* The percentage of individuals perceived to be engaging in benefit fraud (35.8%).\n",
    "* The average welfare sympathy score (2.731 - slightly unsympathetic).\n",
    "\n",
    "However the ability to produce such exact summaries ignores the great deal of **uncertainty** associated with any piece of quantitative data analysis. For example, how confident are we that the wider population of British adults perceive that ~36 out of every 100 benefit claimants are doing so fraudulently? If it isn't ~36, then how much larger or smaller is the 'true' extent of benefit fraud in the wider British population (e.g., if you were able to survey all adults in the UK)? \n",
    "\n",
    "Remember, our estimate comes from the **sample** of people who happened to participate in the *British Social Attitudes survey 2019*. Is this group perfectly representative of the wider **population** from which it was drawn (18+ year olds in Britain)?\n",
    "\n",
    "The short answer is this:"
   ]
  },
  {
   "cell_type": "markdown",
   "id": "signal-expert",
   "metadata": {},
   "source": [
    "<p><center><i>Samples will always differ from the population they were drawn from due to random chance, and sometimes due to more systematic factors</i></center></p>"
   ]
  },
  {
   "cell_type": "markdown",
   "id": "agricultural-virtue",
   "metadata": {},
   "source": [
    "Thus in this lesson we will focus on expressing the inherent uncertainty in our quantitative analyses. There are a variety of measures of uncertainty but all are united by trying to answer the following question:\n",
    "* Can we generalise our result to the wider population from which we drew our sample?\n",
    "\n",
    "That is, can we make inferences about units of analysis (e.g., British adults) that were **not included** in our sample i.e., those in the wider population?"
   ]
  },
  {
   "cell_type": "markdown",
   "id": "standing-welding",
   "metadata": {},
   "source": [
    "## Making Inferences"
   ]
  },
  {
   "cell_type": "markdown",
   "id": "coordinate-jonathan",
   "metadata": {},
   "source": [
    "### Importing data"
   ]
  },
  {
   "cell_type": "markdown",
   "id": "4479670d-2cba-479f-9a54-5e6f1e6a9de0",
   "metadata": {},
   "source": [
    "The first step is to import the *British Social Attitudes survey* data for analysis."
   ]
  },
  {
   "cell_type": "code",
   "execution_count": null,
   "id": "d344ae1e-48d1-44a2-ba27-af8054f75b31",
   "metadata": {},
   "outputs": [],
   "source": [
    "bsa2019 <- read.table(\"https://raw.githubusercontent.com/DiarmuidM/data-analysis-for-the-social-sciences-2023/main/lessons/data/bsa2019_poverty_open.tab\", header=TRUE, na=\"NA\", sep=\"\\t\")\n",
    "head(bsa2019) # view the first six observations"
   ]
  },
  {
   "cell_type": "code",
   "execution_count": null,
   "id": "a7738465-09db-4ed5-93d2-c74a63f4eaa9",
   "metadata": {},
   "outputs": [],
   "source": [
    "nrow(bsa2019) # number of rows (observations) in the dataset"
   ]
  },
  {
   "cell_type": "markdown",
   "id": "c43ee4ce",
   "metadata": {},
   "source": [
    "### Data cleaning"
   ]
  },
  {
   "cell_type": "markdown",
   "id": "54dccdc1-7dc4-4e71-ac3e-aca8f087edab",
   "metadata": {},
   "source": [
    "There are a number of important steps that need to be executed before proceeding with the analysis:\n",
    "* Handling missing values\n",
    "* Labelling values of categorical variables\n",
    "\n",
    "We cover these techniques in a separate notebook: [Data Cleaning](./dass-bsa-data-cleaning.ipynb) \n",
    "\n",
    "**Please note that you will be expected to perform these tasks for your own analysis.**"
   ]
  },
  {
   "cell_type": "code",
   "execution_count": null,
   "id": "6667f2eb-ca17-4c8d-9348-b91acc66cba0",
   "metadata": {},
   "outputs": [],
   "source": [
    "bsa2019$welfare2[bsa2019$welfare2<1 | bsa2019$welfare2>5] <- NA # convert \"-1\" and \"9\" to missing"
   ]
  },
  {
   "cell_type": "code",
   "execution_count": null,
   "id": "f611c605-9cbc-4293-ab32-4c1a9f012c89",
   "metadata": {},
   "outputs": [],
   "source": [
    "bsa2019$NatFrEst[bsa2019$NatFrEst>100] <- NA # convert \"998\" and \"999\" to missing"
   ]
  },
  {
   "cell_type": "code",
   "execution_count": null,
   "id": "85e3e45c-e7d8-4c68-93ea-df563ec88f0d",
   "metadata": {},
   "outputs": [],
   "source": [
    "bsa2019$RSex <- factor(bsa2019$RSex, levels = c(1,2), labels = c(\"Male\", \"Female\"))"
   ]
  },
  {
   "cell_type": "code",
   "execution_count": null,
   "id": "31d5c153-e18d-4e92-99f7-ae7ddede917c",
   "metadata": {},
   "outputs": [],
   "source": [
    "bsa2019$RAgeCat <- factor(bsa2019$RAgeCat, levels = c(1,2,3,4,5,6,7), labels = c(\"18-24\", \"25-34\", \"35-44\", \"45-54\", \"55-59\", \"60-64\", \"65+\"))"
   ]
  },
  {
   "cell_type": "code",
   "execution_count": null,
   "id": "7505b0ca-de7c-4e23-89e6-79f25416de75",
   "metadata": {},
   "outputs": [],
   "source": [
    "bsa2019$Married <- factor(bsa2019$Married, levels = c(1,2,3,4), labels = c(\"Married/living as married\", \n",
    "                                                                               \"Separated/divorced\", \n",
    "                                                                               \"Widowed\", \n",
    "                                                                               \"Never married\"))"
   ]
  },
  {
   "cell_type": "code",
   "execution_count": null,
   "id": "a19e4dfe-2321-464c-9978-e99598cbc358",
   "metadata": {},
   "outputs": [],
   "source": [
    "bsa2019$HEdQual3 <- factor(bsa2019$HEdQual3, levels = c(1,2,3,4), labels = c(\"Degree\", \"Below degree / A level\", \"O level\", \"No qual\"))"
   ]
  },
  {
   "cell_type": "markdown",
   "id": "f002ecf9",
   "metadata": {},
   "source": [
    "### Univariate analysis"
   ]
  },
  {
   "cell_type": "markdown",
   "id": "complicated-ebony",
   "metadata": {},
   "source": [
    "Univariate analysis produces statistical summaries of numeric and categorical variables e.g., average attitude to welfare; proportion of respondents with a degree etc. However these single numbers give a false sense of accuracy if we want to make generalisations to the wider population. Thus we need some way of expressing the **range** of plausible values for a given statistical summary. You may have heard of this range referred to as **confidence intervals**, **margins of error**, **polling error** etc."
   ]
  },
  {
   "cell_type": "markdown",
   "id": "streaming-ticket",
   "metadata": {},
   "source": [
    "#### Numeric variables"
   ]
  },
  {
   "cell_type": "markdown",
   "id": "sensitive-victory",
   "metadata": {},
   "source": [
    "Let's look at an example for our measure of perceived benefit fraud (`NatFrEst`)."
   ]
  },
  {
   "cell_type": "code",
   "execution_count": null,
   "id": "equal-shuttle",
   "metadata": {},
   "outputs": [],
   "source": [
    "summary(bsa2019$NatFrEst)"
   ]
  },
  {
   "cell_type": "markdown",
   "id": "junior-recognition",
   "metadata": {},
   "source": [
    "We see that the average estimate of benefit fraud is 35.8 individuals out of every 100 claimants. However this finding was generated by using data on our current sample of 3,224 18+ year olds in Britain who were surveyed in 2019. What if we had a different sample of respondents, both in terms of size and the individuals surveyed? Would we also expect the average estimate to be exactly the same across all potential samples?\n",
    "\n",
    "Thanks to sampling theory, we can produce a range or interval of plausible values for the average (mean) of a numeric variable."
   ]
  },
  {
   "cell_type": "code",
   "execution_count": null,
   "id": "convinced-landscape",
   "metadata": {},
   "outputs": [],
   "source": [
    "t.test(bsa2019$NatFrEst, na.rm = TRUE)$conf.int # calculate 95% confidence intervals for the mean of `NatFrEst`"
   ]
  },
  {
   "cell_type": "markdown",
   "id": "convinced-telephone",
   "metadata": {},
   "source": [
    "The one-line summary is this: the mean estimate of benefit fraud in the wider population of British adults is very probably between '34.9' and '36.7'. The sample figure of '35.8' remains our best estimate but we now acknowledge that the value in the population could actually be between '34.9' and '36.7'."
   ]
  },
  {
   "cell_type": "markdown",
   "id": "developing-emphasis",
   "metadata": {},
   "source": [
    "This can be tricky to get your head around, so let's look at another example: attitude to welfare (`welfare2`)."
   ]
  },
  {
   "cell_type": "code",
   "execution_count": null,
   "id": "45159aba",
   "metadata": {},
   "outputs": [],
   "source": [
    "mean(bsa2019$welfare2, na.rm = TRUE)"
   ]
  },
  {
   "cell_type": "code",
   "execution_count": null,
   "id": "superb-vegetation",
   "metadata": {},
   "outputs": [],
   "source": [
    "t.test(bsa2019$welfare2, na.rm = TRUE)$conf.int # calculate 95% confidence intervals for the mean of `welfare2`"
   ]
  },
  {
   "cell_type": "markdown",
   "id": "greater-tactics",
   "metadata": {},
   "source": [
    "The mean attitude to welfare is '2.73' (slightly unsympathetic), but we acknowledge that the mean score in the wider population from which the sample was drawn could actually be between '2.71' and '2.76'. Therefore the range of the confidence interval is very tight around the mean, providing confidence that '2.73' is a good estimate of average attitudes to welfare.\n",
    "\n",
    "Imagine our mean was still '2.73' but the confidence interval ranged from '1.55' to '4.29'. Now the mean does not look like such a good estimate of the average attitude to welfare, as its 'true' value in the wider population could be much lower or much higher.\n",
    "\n",
    "Calculating a confidence interval does not invalidate your estimate of the mean of a numeric variable, it simply provides some caution when making claims about a **population** based on a **sample**."
   ]
  },
  {
   "cell_type": "markdown",
   "id": "compressed-steps",
   "metadata": {},
   "source": [
    "#### Categorical variables"
   ]
  },
  {
   "cell_type": "markdown",
   "id": "logical-sherman",
   "metadata": {},
   "source": [
    "We can also calculate a range of uncertainty for categories of a categorical variable."
   ]
  },
  {
   "cell_type": "code",
   "execution_count": null,
   "id": "changing-librarian",
   "metadata": {},
   "outputs": [],
   "source": [
    "round(prop.table(table(bsa2019$HEdQual3)) * 100, 0)"
   ]
  },
  {
   "cell_type": "markdown",
   "id": "banned-austria",
   "metadata": {},
   "source": [
    "We observe that 25% of respondents claim their highest qualification is a degree. Is this a good estimate of the 'true' percentage of adults in Britain with a degree?"
   ]
  },
  {
   "cell_type": "code",
   "execution_count": null,
   "id": "6c181013",
   "metadata": {},
   "outputs": [],
   "source": [
    "install.packages(\"DescTools\") # install the necessary package - only needs to be done once"
   ]
  },
  {
   "cell_type": "code",
   "execution_count": null,
   "id": "dental-details",
   "metadata": {},
   "outputs": [],
   "source": [
    "library(DescTools) # import the package containing the `MultinomCI` command"
   ]
  },
  {
   "cell_type": "code",
   "execution_count": null,
   "id": "hearing-netscape",
   "metadata": {},
   "outputs": [],
   "source": [
    "MultinomCI(table(bsa2019$HEdQual3)) # 95% confidence interval is the default"
   ]
  },
  {
   "cell_type": "markdown",
   "id": "brilliant-genealogy",
   "metadata": {},
   "source": [
    "Note that proportions are reported but you can convert to percentages by multiplying by 100.\n",
    "\n",
    "We are 95% confident that the 'true' percentage of adults in Britain who have a degree is between 23% and 27% (lwr.ci = lower end of the confidence interval, upr.ci = upper end of the confidence interval)."
   ]
  },
  {
   "cell_type": "markdown",
   "id": "lonely-certificate",
   "metadata": {},
   "source": [
    "**TASK**: Calculate confidence intervals for the `Married` variable. Look at the [codebooks](./codebook/8850_bsa_open_poverty_2019_codebook.pdf) to see what this variable measures."
   ]
  },
  {
   "cell_type": "code",
   "execution_count": null,
   "id": "bound-endorsement",
   "metadata": {},
   "outputs": [],
   "source": [
    "# INSERT CODE HERE"
   ]
  },
  {
   "cell_type": "markdown",
   "id": "vietnamese-tongue",
   "metadata": {},
   "source": [
    "#### A note on confidence"
   ]
  },
  {
   "cell_type": "markdown",
   "id": "retired-bunny",
   "metadata": {},
   "source": [
    "You'll have seen reference to '95% confidence interval' and rightly wondered what it meant.\n",
    "\n",
    "Let's imagine that the *British Social Attitudes survey* was completed by 100 different samples of respondents (obviously this would be wildly expensive, impractical and unnecessary). The sampling procedure is the same (i.e., random sampling) and the sample sizes are the same (i.e., 3,224). And for each sample we calculate the mean of some numeric variable - let's say perceived level of benefit fraud.\n",
    "\n",
    "In such a scenario, a 95% confidence interval represents the following:\n",
    "* 95 of the 100 samples have a mean that falls **into** the range between '34.9' and '36.7'\n",
    "* 5 of the 100 samples have a mean that falls **outside** of the range between '34.9' and '36.7'\n",
    "\n",
    "The intractable problem is that we have no way telling whether the **actual** sample we observed (i.e., the people who completed the *British Social Attitudes survey*) is one of the 95 or one of the 5. \n",
    "\n",
    "All we know is that in 95 out of 100 random samples the mean falls between a given range of values."
   ]
  },
  {
   "cell_type": "markdown",
   "id": "breathing-france",
   "metadata": {},
   "source": [
    "### Bivariate Analysis"
   ]
  },
  {
   "cell_type": "markdown",
   "id": "reliable-lemon",
   "metadata": {},
   "source": [
    "A key aspect of bivariate analysis is producing a **measure of association** that summarises the strength / direction of a relationship between two variables. In this instance our uncertainty is not related to the exact value of a measure of association, **but in how confident we are that the relationship is present in the population from which the sample was drawn**.\n",
    "\n",
    "For example, we find a weak association between sex and relationship status:"
   ]
  },
  {
   "cell_type": "code",
   "execution_count": null,
   "id": "stainless-drove",
   "metadata": {},
   "outputs": [],
   "source": [
    "CramerV(bsa2019$RSex, bsa2019$Married)"
   ]
  },
  {
   "cell_type": "markdown",
   "id": "boolean-dialogue",
   "metadata": {},
   "source": [
    "How confident are we that this association exists in the population of British adults and not just in our sample? We can answer this question by calculating what are known as measures of **statistical significance**. \n",
    "\n",
    "A common measure of statistical significance is a **p-value**. This can be interpreted as a proportion ranging from 0 to 1. In contrast to measures of association, we are interested in values close to 0, as these indicate a low chance of your association **NOT** being found in the population from which your sample was drawn. Put another way:\n",
    "* a p-value < 0.05 indicates a high probability that the association is found in the wider population and not just in the sample.\n",
    "* an association with a p-value < 0.05 is therefore said to be **statistically significant**. \n",
    "\n",
    "Therefore a p-value &mdash; and other measures of statistical significance &mdash; provides a summary of our confidence in the **generalisability** of the association / pattern we observe in the data."
   ]
  },
  {
   "cell_type": "markdown",
   "id": "valued-league",
   "metadata": {},
   "source": [
    "#### Categorical vs Categorical"
   ]
  },
  {
   "cell_type": "markdown",
   "id": "golden-devil",
   "metadata": {},
   "source": [
    "Let's return to the association between sex and relationship status:"
   ]
  },
  {
   "cell_type": "code",
   "execution_count": null,
   "id": "coordinated-fireplace",
   "metadata": {},
   "outputs": [],
   "source": [
    "CramerV(bsa2019$RSex, bsa2019$Married)"
   ]
  },
  {
   "cell_type": "code",
   "execution_count": null,
   "id": "addressed-creek",
   "metadata": {},
   "outputs": [],
   "source": [
    "options(scipen=999) # suppress scientific notation\n",
    "chisq.test(bsa2019$RSex, bsa2019$Married)"
   ]
  },
  {
   "cell_type": "markdown",
   "id": "administrative-providence",
   "metadata": {},
   "source": [
    "We observe that the p-value is well below the 0.05 threshold, therefore we conclude that the association is statistically significant. That is, the association is very likely present in the population from which the sample was drawn."
   ]
  },
  {
   "cell_type": "markdown",
   "id": "ef643e95",
   "metadata": {},
   "source": [
    "However, even weak associations are likely to generate small p-values if the sample is large enough - this is due to how p-values are calculated and should be kept in mind as you interpret statistically significant findings."
   ]
  },
  {
   "cell_type": "markdown",
   "id": "d226debf",
   "metadata": {},
   "source": [
    "What if we had a smaller sample of respondents?"
   ]
  },
  {
   "cell_type": "code",
   "execution_count": null,
   "id": "db2eb417",
   "metadata": {},
   "outputs": [],
   "source": [
    "bsa2019_samp <- bsa2019[sample(nrow(bsa2019), 100), ] # randomly sample 100 observations from the dataset"
   ]
  },
  {
   "cell_type": "code",
   "execution_count": null,
   "id": "de9ec61f",
   "metadata": {},
   "outputs": [],
   "source": [
    "CramerV(bsa2019_samp$RSex, bsa2019_samp$Married)"
   ]
  },
  {
   "cell_type": "code",
   "execution_count": null,
   "id": "c60c8e44",
   "metadata": {},
   "outputs": [],
   "source": [
    "options(scipen=999) # suppress scientific notation\n",
    "chisq.test(bsa2019_samp$RSex, bsa2019_samp$Married)"
   ]
  },
  {
   "cell_type": "markdown",
   "id": "28441618",
   "metadata": {},
   "source": [
    "**QUESTION:** Why is the p-value no longer below the 0.05 threshold? Put another way: why are we less confident that the association we observed in the sample also exists in the population from which the sample was drawn?"
   ]
  },
  {
   "cell_type": "markdown",
   "id": "existing-wildlife",
   "metadata": {},
   "source": [
    "#### Categorical vs Numeric"
   ]
  },
  {
   "cell_type": "markdown",
   "id": "tracked-clinton",
   "metadata": {},
   "source": [
    "Recall that the appropriate summary statistic for a bivariate analysis of one categorical and one numeric variable is:\n",
    "* *Eta squared*\n",
    "\n",
    "This tells us the strength of the association but not the direction. *Eta squared* coefficient ranges from 0 to 1, with higher values representing stronger associations."
   ]
  },
  {
   "cell_type": "code",
   "execution_count": null,
   "id": "c9250623",
   "metadata": {},
   "outputs": [],
   "source": [
    "install.packages(\"lsr\") # install the necessary package - only needs to be done once"
   ]
  },
  {
   "cell_type": "code",
   "execution_count": null,
   "id": "molecular-current",
   "metadata": {},
   "outputs": [],
   "source": [
    "library(lsr) # import the package containing the `etaSquared()` command"
   ]
  },
  {
   "cell_type": "code",
   "execution_count": null,
   "id": "maritime-hybrid",
   "metadata": {},
   "outputs": [],
   "source": [
    "model <- aov(welfare2 ~ RAgeCat, data = bsa2019)\n",
    "etaSquared(model)"
   ]
  },
  {
   "cell_type": "markdown",
   "id": "endangered-contractor",
   "metadata": {},
   "source": [
    "We can recover the p-value for this association by summarising the results of the `aov(welfare2 ~ RAgeCat, data = bsa2019)` command:"
   ]
  },
  {
   "cell_type": "code",
   "execution_count": null,
   "id": "immune-teacher",
   "metadata": {},
   "outputs": [],
   "source": [
    "summary(model)"
   ]
  },
  {
   "cell_type": "markdown",
   "id": "usual-transparency",
   "metadata": {},
   "source": [
    "In this instance we are looking at the `Pr(>F)` statistic, which is another way of describing a p-value.\n",
    "\n",
    "This is slightly above the '0.05' threshold and thus we would conclude that the non-existent association might not be present in the population from which the sample was drawn."
   ]
  },
  {
   "cell_type": "markdown",
   "id": "young-torture",
   "metadata": {},
   "source": [
    "#### Numeric vs Numeric"
   ]
  },
  {
   "cell_type": "markdown",
   "id": "essential-oliver",
   "metadata": {},
   "source": [
    "Recall that the appropriate measure of association for two numeric variables is:\n",
    "* *Pearson's correlation coefficient (r)*\n",
    "\n",
    "Similar to other measures of association, it tells us the strength and direction of the association between two variables. The coefficient ranges between -1 and 1, with negative values representing negative associations, and positive values positive associations. Values closer to -1 or 1 indicate stronger associations than those closer to 0."
   ]
  },
  {
   "cell_type": "code",
   "execution_count": null,
   "id": "environmental-powell",
   "metadata": {},
   "outputs": [],
   "source": [
    "plot(bsa2019$NatFrEst, bsa2019$welfare2) # X variable (axis) is listed first, Y variable (axis) second"
   ]
  },
  {
   "cell_type": "markdown",
   "id": "7ebcffa4",
   "metadata": {},
   "source": [
    "A visual inspection of the joint distribution reveals a pattern: the more people a respondent thinks is committing benefit fraud, the less sympathetic their attitude is to wlefare claimants / welfare system more generally. We can confirm our interpretation by calculating an appropriate measure of association (*Pearson's correlation coefficient (r)*)."
   ]
  },
  {
   "cell_type": "code",
   "execution_count": null,
   "id": "infinite-attack",
   "metadata": {},
   "outputs": [],
   "source": [
    "cor(bsa2019$NatFrEst, bsa2019$welfare2, use = \"complete.obs\")"
   ]
  },
  {
   "cell_type": "markdown",
   "id": "going-thursday",
   "metadata": {},
   "source": [
    "To produce the p-value calculated for this association, we use the `cor.test()` command:"
   ]
  },
  {
   "cell_type": "code",
   "execution_count": null,
   "id": "single-timothy",
   "metadata": {},
   "outputs": [],
   "source": [
    "cor.test(bsa2019$NatFrEst, bsa2019$welfare2, use = \"complete.obs\")"
   ]
  },
  {
   "cell_type": "markdown",
   "id": "certain-apartment",
   "metadata": {},
   "source": [
    "And once more, the p-value is well below the '0.05' threshold and we conclude that the moderate-to-strong association is very likely present in the population from which the sample of respondents was drawn."
   ]
  },
  {
   "cell_type": "markdown",
   "id": "obvious-scale",
   "metadata": {},
   "source": [
    "#### A note on statistical significance"
   ]
  },
  {
   "cell_type": "markdown",
   "id": "radio-floor",
   "metadata": {},
   "source": [
    "Statistically significant **does not** mean a finding is important or of practical significance. The term comes from an older use of English (significant = signals). Therefore, statistically significant signals that a finding may be important and worth investigating further (MacInnes, 2019).\n",
    "\n",
    "To claim that a finding is of practical significance, we look at the **magnitude** of a statistic:\n",
    "* Whether an association is strong or not\n",
    "* Whether a proportion for one group is considerably different to a proportion for another group (e.g., differences between males and females in terms of attitudes to welfare)\n",
    "* And so on\n",
    "\n",
    "Put simply:\n",
    "> Statistical significance tells us what we can infer about a target population from what we find in a sample. (MacInnes, 2019: 10)"
   ]
  },
  {
   "cell_type": "markdown",
   "id": "colored-plate",
   "metadata": {},
   "source": [
    "## Conclusion"
   ]
  },
  {
   "cell_type": "markdown",
   "id": "southeast-giving",
   "metadata": {},
   "source": [
    "In this lesson we encountered a range of techniques for expressing the uncertainty inherent in our quantitative analyses.\n",
    "\n",
    "In Week 12, we bring all our learning together to write a report based on a piece of quantitative data analysis, including how to produce publication-ready graphs."
   ]
  }
 ],
 "metadata": {
  "kernelspec": {
   "display_name": "R",
   "language": "R",
   "name": "ir"
  },
  "language_info": {
   "codemirror_mode": "r",
   "file_extension": ".r",
   "mimetype": "text/x-r-source",
   "name": "R",
   "pygments_lexer": "r",
   "version": "4.3.1"
  }
 },
 "nbformat": 4,
 "nbformat_minor": 5
}
