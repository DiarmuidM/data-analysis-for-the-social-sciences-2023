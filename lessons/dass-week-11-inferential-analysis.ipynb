{
 "cells": [
  {
   "cell_type": "markdown",
   "id": "otherwise-cache",
   "metadata": {},
   "source": [
    "<p align=\"right\"><i>Data Analysis for the Social Sciences - Part II - YYYY-MM-DD</i></p>"
   ]
  },
  {
   "cell_type": "markdown",
   "id": "dynamic-conjunction",
   "metadata": {},
   "source": [
    "# Week 11 - Inferential Analysis"
   ]
  },
  {
   "cell_type": "markdown",
   "id": "8d0a2b59-3e38-4559-9ffe-4f66a73669e8",
   "metadata": {},
   "source": [
    "Welcome to Part II of Data Analysis for the Social Sciences. In this lab session we will conduct a range of inferential statistical analyses and tests for categorical and numeric variables."
   ]
  },
  {
   "cell_type": "markdown",
   "id": "f8e6aeaa-408f-458b-8229-0b19ba38863e",
   "metadata": {},
   "source": [
    "We will use real data from the *British Social Attitudes survey, 2019: Poverty and Welfare*, specifically the open dataset available from the UK Data Service: https://doi.org/10.5255/UKDA-SN-8850-1"
   ]
  },
  {
   "cell_type": "markdown",
   "id": "2ea28256-4c66-43e1-93a8-2b4ff868fca6",
   "metadata": {},
   "source": [
    "We will structure our analyses around the following research question:"
   ]
  },
  {
   "cell_type": "markdown",
   "id": "d5f42e1a-05fc-49a4-9756-f05c99cb353c",
   "metadata": {},
   "source": [
    "<p><center><i>Are attitudes to welfare associated with sex, age, interest in politics, and perception of benefits fraud?</i></center></p>"
   ]
  },
  {
   "cell_type": "markdown",
   "id": "scenic-silly",
   "metadata": {},
   "source": [
    "### Aims\n",
    "\n",
    "This lesson - **Inferential Analysis** - has two aims:\n",
    "1. Demonstrate how to calculate and communicate measures of uncertainty relating to your quantitative findings.\n",
    "2. Cultivate your computational skills through the use of the statistical programming langauge *R*. For example, there are a number of opportunities for you to amend or write R syntax (code)."
   ]
  },
  {
   "cell_type": "markdown",
   "id": "judicial-prediction",
   "metadata": {},
   "source": [
    "### Lesson details\n",
    "\n",
    "* **Level**: Introductory, for individuals with minimal prior knowledge or experience of quantitative data analysis.\n",
    "* **Duration**: 45-60 minutes.\n",
    "* **Pre-requisites**: Completed [*Univariate Data Analysis*](./dass-week-9-univariate-analysis.ipynb), [*Bivariate Data Analysis*](./dass-week-10-bivariate-analysis.ipynb) and [*Multivariate Data Analysis*](./dass-week-11-multivariate-analysis.ipynb) lessons.\n",
    "* **Programming language**: R.\n",
    "* **Learning outcomes**:\n",
    "\t1. Understand how to use R for conducting inferential analyses.\n",
    "\t2. Understand how to select and apply common data analysis techniques for categorical and numeric variables."
   ]
  },
  {
   "cell_type": "markdown",
   "id": "terminal-agenda",
   "metadata": {},
   "source": [
    "## Guide to using this resource\n",
    "\n",
    "This learning resource was built using <a href=\"https://jupyter.org/\" target=_blank>Jupyter Notebook</a>, an open-source software application that allows you to mix code, results and narrative in a single document. As <a href=\"https://jupyter4edu.github.io/jupyter-edu-book/\" target=_blank>Barba et al. (2019)</a> espouse:\n",
    "> In a world where every subject matter can have a data-supported treatment, where computational devices are omnipresent and pervasive, the union of natural language and computation creates compelling communication and learning opportunities.\n",
    "\n",
    "If you are familiar with Jupyter notebooks then skip ahead to the main content (*Introduction to Inferential Analysis*). Otherwise, the following is a quick guide to navigating and interacting with the notebook."
   ]
  },
  {
   "cell_type": "markdown",
   "id": "interested-radar",
   "metadata": {},
   "source": [
    "### Interaction\n",
    "\n",
    "**You only need to execute the code that is contained in sections which are marked by `[]`.**\n",
    "\n",
    "To execute a cell, click or double-click the cell and press the `Play` button next to the cell or select the `Run` button on the top toolbar (*Runtime > Run the focused cell*); you can also use the keyboard shortcuts `Shift + Enter` or `Ctrl + Enter`).\n",
    "\n",
    "Try it for yourself:"
   ]
  },
  {
   "cell_type": "code",
   "execution_count": 2,
   "id": "dominican-hardware",
   "metadata": {},
   "outputs": [
    {
     "name": "stdin",
     "output_type": "stream",
     "text": [
      "Enter name:  ssd\n"
     ]
    },
    {
     "name": "stdout",
     "output_type": "stream",
     "text": [
      "[1] \"Hi, ssd enjoy learning more about R and inferential analysis!\"\n"
     ]
    }
   ],
   "source": [
    "name <- readline(prompt=\"Enter name: \")\n",
    "print(paste(\"Hi,\", name, \"enjoy learning more about R and inferential analysis!\"))"
   ]
  },
  {
   "cell_type": "markdown",
   "id": "through-storm",
   "metadata": {},
   "source": [
    "Notebooks are sequential, meaning code should be executed in order (top to bottom). For example, the following code won't work:"
   ]
  },
  {
   "cell_type": "code",
   "execution_count": 3,
   "id": "outstanding-bulgaria",
   "metadata": {},
   "outputs": [
    {
     "ename": "ERROR",
     "evalue": "Error in eval(expr, envir, enclos): object 'x' not found\n",
     "output_type": "error",
     "traceback": [
      "Error in eval(expr, envir, enclos): object 'x' not found\nTraceback:\n"
     ]
    }
   ],
   "source": [
    "x * 5"
   ]
  },
  {
   "cell_type": "markdown",
   "id": "handmade-madagascar",
   "metadata": {},
   "source": [
    "As the error message suggests, there is no object (variable) called `x`, therefore we cannot do any calculations with it. \n",
    "\n",
    "Let's try a sequential approach:"
   ]
  },
  {
   "cell_type": "code",
   "execution_count": 4,
   "id": "addressed-assumption",
   "metadata": {},
   "outputs": [],
   "source": [
    "x <- 10 # create an object called 'x' and give it the value '10'"
   ]
  },
  {
   "cell_type": "code",
   "execution_count": 5,
   "id": "crucial-implement",
   "metadata": {},
   "outputs": [
    {
     "data": {
      "text/html": [
       "50"
      ],
      "text/latex": [
       "50"
      ],
      "text/markdown": [
       "50"
      ],
      "text/plain": [
       "[1] 50"
      ]
     },
     "metadata": {},
     "output_type": "display_data"
    }
   ],
   "source": [
    "x * 5 # multiply 'x' by 5"
   ]
  },
  {
   "cell_type": "markdown",
   "id": "covered-round",
   "metadata": {},
   "source": [
    "### Learn more\n",
    "\n",
    "Jupyter notebooks provide rich, flexible features for conducting and documenting your data analysis workflow. To learn more about additional notebook features, we recommend working through some of the <a href=\"https://github.com/darribas/gds19/blob/master/content/labs/lab_00.ipynb\" target=_blank>materials</a> provided by Dani Arribas-Bel at the University of Liverpool. "
   ]
  },
  {
   "cell_type": "markdown",
   "id": "floppy-escape",
   "metadata": {},
   "source": [
    "### Learner input\n",
    "\n",
    "Throughout the lessons there are times when you need to do the following activities:\n",
    "* **TASK:** A coding task for you to complete (e.g. analyse different variables).\n",
    "* **QUESTION:** A question regarding your interpretation of some code or a technique (e.g. what is the piece of code doing?).\n",
    "* **EXERCISE:** A data analysis challenge for you to complete."
   ]
  },
  {
   "cell_type": "markdown",
   "id": "democratic-office",
   "metadata": {},
   "source": [
    "## Introduction to Inferential Analysis"
   ]
  },
  {
   "cell_type": "markdown",
   "id": "respected-comedy",
   "metadata": {},
   "source": [
    "In the [**previous lessons**](https://github.com/DiarmuidM/data-analysis-for-the-social-sciences-2023/blob/main/lessons), we learned how to conduct a range of univariate, bivariate and multivariate analyses. The results of these analyses are often quite precise and accurate:\n",
    "* The perceived percentage of individuals engaging in benefit fraud (35.8%).\n",
    "* The average welfare score (2.731).\n",
    "\n",
    "However the ability to produce such exact summaries ignores the great deal of **uncertainty** associated with any piece of quantitative data analysis. For example, how confident are we that the wider population of British adults perceive that 35.8 out of 100 benefit claimants are doing so fraudulently? If it isn't 35.8, then how much larger or smaller is the 'true' estimate of fraud in the wider British population (e.g., if you were able to survey all c. 50mn adults)? \n",
    "\n",
    "Remember, our estimate comes from the **sample** of people who happened to participate in the *British Social Attitudes survey 2019*. Is this group perfectly representative of the wider **population** from which it was drawn (18+ year olds in Britain)?\n",
    "\n",
    "The short answer is this:"
   ]
  },
  {
   "cell_type": "markdown",
   "id": "signal-expert",
   "metadata": {},
   "source": [
    "<p><center><i>Samples will always differ from the population they were drawn from due to random chance</i></center></p>"
   ]
  },
  {
   "cell_type": "markdown",
   "id": "agricultural-virtue",
   "metadata": {},
   "source": [
    "Thus in this lesson we will focus on expressing the inherent uncertainty in our quantitative analyses. There are a variety of measures of uncertainty but all are united by trying to answer the following question:\n",
    "* Can we generalise our result to the wider population from which we drew our sample?\n",
    "\n",
    "That is, can we make inferences about units of analysis (e.g., British adults) that were **not included** in our sample i.e., those in the wider population?"
   ]
  },
  {
   "cell_type": "markdown",
   "id": "standing-welding",
   "metadata": {},
   "source": [
    "## Making Inferences"
   ]
  },
  {
   "cell_type": "markdown",
   "id": "coordinate-jonathan",
   "metadata": {},
   "source": [
    "### Importing data"
   ]
  },
  {
   "cell_type": "markdown",
   "id": "4479670d-2cba-479f-9a54-5e6f1e6a9de0",
   "metadata": {},
   "source": [
    "The first step is to import the *British Social Attitudes survey* data for analysis."
   ]
  },
  {
   "cell_type": "code",
   "execution_count": 7,
   "id": "d344ae1e-48d1-44a2-ba27-af8054f75b31",
   "metadata": {},
   "outputs": [
    {
     "data": {
      "text/html": [
       "<table class=\"dataframe\">\n",
       "<caption>A data.frame: 6 × 26</caption>\n",
       "<thead>\n",
       "\t<tr><th></th><th scope=col>Sserial</th><th scope=col>WtFactor</th><th scope=col>RSex</th><th scope=col>RAgeCat</th><th scope=col>eq_inc_quintiles</th><th scope=col>RClassGp</th><th scope=col>HEdQual3</th><th scope=col>Married</th><th scope=col>ChildHh</th><th scope=col>skipmeal</th><th scope=col>⋯</th><th scope=col>Dole</th><th scope=col>TaxSpend</th><th scope=col>MuchPov</th><th scope=col>Poverty1</th><th scope=col>Poverty2</th><th scope=col>NatFrEst</th><th scope=col>incdiffs</th><th scope=col>welfare2</th><th scope=col>leftrigh</th><th scope=col>libauth</th></tr>\n",
       "\t<tr><th></th><th scope=col>&lt;int&gt;</th><th scope=col>&lt;dbl&gt;</th><th scope=col>&lt;int&gt;</th><th scope=col>&lt;int&gt;</th><th scope=col>&lt;int&gt;</th><th scope=col>&lt;int&gt;</th><th scope=col>&lt;int&gt;</th><th scope=col>&lt;int&gt;</th><th scope=col>&lt;int&gt;</th><th scope=col>&lt;int&gt;</th><th scope=col>⋯</th><th scope=col>&lt;int&gt;</th><th scope=col>&lt;int&gt;</th><th scope=col>&lt;int&gt;</th><th scope=col>&lt;int&gt;</th><th scope=col>&lt;int&gt;</th><th scope=col>&lt;int&gt;</th><th scope=col>&lt;int&gt;</th><th scope=col>&lt;dbl&gt;</th><th scope=col>&lt;dbl&gt;</th><th scope=col>&lt;dbl&gt;</th></tr>\n",
       "</thead>\n",
       "<tbody>\n",
       "\t<tr><th scope=row>1</th><td>310001</td><td>0.9119594</td><td>2</td><td>6</td><td>-1</td><td>1</td><td>2</td><td>1</td><td>2</td><td>-1</td><td>⋯</td><td>3</td><td>3</td><td>8</td><td>2</td><td>1</td><td> 5</td><td>-1</td><td>2.500</td><td>2.4</td><td>3.500000</td></tr>\n",
       "\t<tr><th scope=row>2</th><td>310002</td><td>0.4439626</td><td>2</td><td>3</td><td> 5</td><td>1</td><td>2</td><td>2</td><td>2</td><td> 1</td><td>⋯</td><td>2</td><td>3</td><td>2</td><td>2</td><td>2</td><td>30</td><td> 2</td><td>3.125</td><td>2.0</td><td>3.833333</td></tr>\n",
       "\t<tr><th scope=row>3</th><td>310003</td><td>1.2182741</td><td>2</td><td>4</td><td>-1</td><td>1</td><td>3</td><td>1</td><td>1</td><td>-1</td><td>⋯</td><td>2</td><td>2</td><td>2</td><td>2</td><td>2</td><td>50</td><td>-1</td><td>3.125</td><td>2.2</td><td>4.166667</td></tr>\n",
       "\t<tr><th scope=row>4</th><td>310004</td><td>1.5839969</td><td>1</td><td>2</td><td> 4</td><td>1</td><td>2</td><td>4</td><td>2</td><td>-1</td><td>⋯</td><td>3</td><td>3</td><td>2</td><td>2</td><td>1</td><td>50</td><td>-1</td><td>2.250</td><td>3.2</td><td>2.166667</td></tr>\n",
       "\t<tr><th scope=row>5</th><td>310005</td><td>0.4743091</td><td>1</td><td>6</td><td>-1</td><td>5</td><td>4</td><td>4</td><td>2</td><td> 1</td><td>⋯</td><td>2</td><td>3</td><td>1</td><td>2</td><td>1</td><td>50</td><td> 4</td><td>3.375</td><td>1.6</td><td>4.666667</td></tr>\n",
       "\t<tr><th scope=row>6</th><td>310006</td><td>1.1363125</td><td>1</td><td>4</td><td> 1</td><td>3</td><td>8</td><td>1</td><td>1</td><td>-1</td><td>⋯</td><td>2</td><td>2</td><td>1</td><td>1</td><td>1</td><td>10</td><td>-1</td><td>2.875</td><td>1.8</td><td>3.666667</td></tr>\n",
       "</tbody>\n",
       "</table>\n"
      ],
      "text/latex": [
       "A data.frame: 6 × 26\n",
       "\\begin{tabular}{r|lllllllllllllllllllll}\n",
       "  & Sserial & WtFactor & RSex & RAgeCat & eq\\_inc\\_quintiles & RClassGp & HEdQual3 & Married & ChildHh & skipmeal & ⋯ & Dole & TaxSpend & MuchPov & Poverty1 & Poverty2 & NatFrEst & incdiffs & welfare2 & leftrigh & libauth\\\\\n",
       "  & <int> & <dbl> & <int> & <int> & <int> & <int> & <int> & <int> & <int> & <int> & ⋯ & <int> & <int> & <int> & <int> & <int> & <int> & <int> & <dbl> & <dbl> & <dbl>\\\\\n",
       "\\hline\n",
       "\t1 & 310001 & 0.9119594 & 2 & 6 & -1 & 1 & 2 & 1 & 2 & -1 & ⋯ & 3 & 3 & 8 & 2 & 1 &  5 & -1 & 2.500 & 2.4 & 3.500000\\\\\n",
       "\t2 & 310002 & 0.4439626 & 2 & 3 &  5 & 1 & 2 & 2 & 2 &  1 & ⋯ & 2 & 3 & 2 & 2 & 2 & 30 &  2 & 3.125 & 2.0 & 3.833333\\\\\n",
       "\t3 & 310003 & 1.2182741 & 2 & 4 & -1 & 1 & 3 & 1 & 1 & -1 & ⋯ & 2 & 2 & 2 & 2 & 2 & 50 & -1 & 3.125 & 2.2 & 4.166667\\\\\n",
       "\t4 & 310004 & 1.5839969 & 1 & 2 &  4 & 1 & 2 & 4 & 2 & -1 & ⋯ & 3 & 3 & 2 & 2 & 1 & 50 & -1 & 2.250 & 3.2 & 2.166667\\\\\n",
       "\t5 & 310005 & 0.4743091 & 1 & 6 & -1 & 5 & 4 & 4 & 2 &  1 & ⋯ & 2 & 3 & 1 & 2 & 1 & 50 &  4 & 3.375 & 1.6 & 4.666667\\\\\n",
       "\t6 & 310006 & 1.1363125 & 1 & 4 &  1 & 3 & 8 & 1 & 1 & -1 & ⋯ & 2 & 2 & 1 & 1 & 1 & 10 & -1 & 2.875 & 1.8 & 3.666667\\\\\n",
       "\\end{tabular}\n"
      ],
      "text/markdown": [
       "\n",
       "A data.frame: 6 × 26\n",
       "\n",
       "| <!--/--> | Sserial &lt;int&gt; | WtFactor &lt;dbl&gt; | RSex &lt;int&gt; | RAgeCat &lt;int&gt; | eq_inc_quintiles &lt;int&gt; | RClassGp &lt;int&gt; | HEdQual3 &lt;int&gt; | Married &lt;int&gt; | ChildHh &lt;int&gt; | skipmeal &lt;int&gt; | ⋯ ⋯ | Dole &lt;int&gt; | TaxSpend &lt;int&gt; | MuchPov &lt;int&gt; | Poverty1 &lt;int&gt; | Poverty2 &lt;int&gt; | NatFrEst &lt;int&gt; | incdiffs &lt;int&gt; | welfare2 &lt;dbl&gt; | leftrigh &lt;dbl&gt; | libauth &lt;dbl&gt; |\n",
       "|---|---|---|---|---|---|---|---|---|---|---|---|---|---|---|---|---|---|---|---|---|---|\n",
       "| 1 | 310001 | 0.9119594 | 2 | 6 | -1 | 1 | 2 | 1 | 2 | -1 | ⋯ | 3 | 3 | 8 | 2 | 1 |  5 | -1 | 2.500 | 2.4 | 3.500000 |\n",
       "| 2 | 310002 | 0.4439626 | 2 | 3 |  5 | 1 | 2 | 2 | 2 |  1 | ⋯ | 2 | 3 | 2 | 2 | 2 | 30 |  2 | 3.125 | 2.0 | 3.833333 |\n",
       "| 3 | 310003 | 1.2182741 | 2 | 4 | -1 | 1 | 3 | 1 | 1 | -1 | ⋯ | 2 | 2 | 2 | 2 | 2 | 50 | -1 | 3.125 | 2.2 | 4.166667 |\n",
       "| 4 | 310004 | 1.5839969 | 1 | 2 |  4 | 1 | 2 | 4 | 2 | -1 | ⋯ | 3 | 3 | 2 | 2 | 1 | 50 | -1 | 2.250 | 3.2 | 2.166667 |\n",
       "| 5 | 310005 | 0.4743091 | 1 | 6 | -1 | 5 | 4 | 4 | 2 |  1 | ⋯ | 2 | 3 | 1 | 2 | 1 | 50 |  4 | 3.375 | 1.6 | 4.666667 |\n",
       "| 6 | 310006 | 1.1363125 | 1 | 4 |  1 | 3 | 8 | 1 | 1 | -1 | ⋯ | 2 | 2 | 1 | 1 | 1 | 10 | -1 | 2.875 | 1.8 | 3.666667 |\n",
       "\n"
      ],
      "text/plain": [
       "  Sserial WtFactor  RSex RAgeCat eq_inc_quintiles RClassGp HEdQual3 Married\n",
       "1 310001  0.9119594 2    6       -1               1        2        1      \n",
       "2 310002  0.4439626 2    3        5               1        2        2      \n",
       "3 310003  1.2182741 2    4       -1               1        3        1      \n",
       "4 310004  1.5839969 1    2        4               1        2        4      \n",
       "5 310005  0.4743091 1    6       -1               5        4        4      \n",
       "6 310006  1.1363125 1    4        1               3        8        1      \n",
       "  ChildHh skipmeal ⋯ Dole TaxSpend MuchPov Poverty1 Poverty2 NatFrEst incdiffs\n",
       "1 2       -1       ⋯ 3    3        8       2        1         5       -1      \n",
       "2 2        1       ⋯ 2    3        2       2        2        30        2      \n",
       "3 1       -1       ⋯ 2    2        2       2        2        50       -1      \n",
       "4 2       -1       ⋯ 3    3        2       2        1        50       -1      \n",
       "5 2        1       ⋯ 2    3        1       2        1        50        4      \n",
       "6 1       -1       ⋯ 2    2        1       1        1        10       -1      \n",
       "  welfare2 leftrigh libauth \n",
       "1 2.500    2.4      3.500000\n",
       "2 3.125    2.0      3.833333\n",
       "3 3.125    2.2      4.166667\n",
       "4 2.250    3.2      2.166667\n",
       "5 3.375    1.6      4.666667\n",
       "6 2.875    1.8      3.666667"
      ]
     },
     "metadata": {},
     "output_type": "display_data"
    }
   ],
   "source": [
    "bsa2019 <- read.table(\"https://raw.githubusercontent.com/DiarmuidM/data-analysis-for-the-social-sciences-2023/main/lessons/data/bsa2019_poverty_open.tab\", header=TRUE, na=\"NA\", sep=\"\\t\")\n",
    "head(bsa2019) # view the first six observations"
   ]
  },
  {
   "cell_type": "code",
   "execution_count": 17,
   "id": "a7738465-09db-4ed5-93d2-c74a63f4eaa9",
   "metadata": {},
   "outputs": [
    {
     "data": {
      "text/html": [
       "3224"
      ],
      "text/latex": [
       "3224"
      ],
      "text/markdown": [
       "3224"
      ],
      "text/plain": [
       "[1] 3224"
      ]
     },
     "metadata": {},
     "output_type": "display_data"
    }
   ],
   "source": [
    "nrow(bsa2019) # number of rows (observations) in the dataset"
   ]
  },
  {
   "cell_type": "markdown",
   "id": "c43ee4ce",
   "metadata": {},
   "source": [
    "### Data cleaning"
   ]
  },
  {
   "cell_type": "markdown",
   "id": "54dccdc1-7dc4-4e71-ac3e-aca8f087edab",
   "metadata": {},
   "source": [
    "There are a number of important steps that need to be executed before proceeding with the analysis:\n",
    "* Handling missing values\n",
    "* Labelling values of categorical variables\n",
    "\n",
    "We cover these techniques in a separate notebook: [Data Cleaning](./dass-bsa-data-cleaning.ipynb) \n",
    "\n",
    "**Please note that you will be expected to perform these tasks for your own analysis.**"
   ]
  },
  {
   "cell_type": "code",
   "execution_count": 8,
   "id": "6667f2eb-ca17-4c8d-9348-b91acc66cba0",
   "metadata": {},
   "outputs": [],
   "source": [
    "bsa2019$welfare2[bsa2019$welfare2<1 | bsa2019$welfare2>5] <- NA # convert \"-1\" and \"9\" to missing"
   ]
  },
  {
   "cell_type": "code",
   "execution_count": 9,
   "id": "f611c605-9cbc-4293-ab32-4c1a9f012c89",
   "metadata": {},
   "outputs": [],
   "source": [
    "bsa2019$NatFrEst[bsa2019$NatFrEst>100] <- NA # convert \"998\" and \"999\" to missing"
   ]
  },
  {
   "cell_type": "code",
   "execution_count": 10,
   "id": "85e3e45c-e7d8-4c68-93ea-df563ec88f0d",
   "metadata": {},
   "outputs": [],
   "source": [
    "bsa2019$RSex <- factor(bsa2019$RSex, levels = c(1,2), labels = c(\"Male\", \"Female\"))"
   ]
  },
  {
   "cell_type": "code",
   "execution_count": 11,
   "id": "31d5c153-e18d-4e92-99f7-ae7ddede917c",
   "metadata": {},
   "outputs": [],
   "source": [
    "bsa2019$RAgeCat <- factor(bsa2019$RAgeCat, levels = c(1,2,3,4,5,6,7), labels = c(\"18-24\", \"25-34\", \"35-44\", \"45-54\", \"55-59\", \"60-64\", \"65+\"))"
   ]
  },
  {
   "cell_type": "code",
   "execution_count": 12,
   "id": "7505b0ca-de7c-4e23-89e6-79f25416de75",
   "metadata": {},
   "outputs": [],
   "source": [
    "bsa2019$Married <- factor(bsa2019$Married, levels = c(1,2,3,4), labels = c(\"Married/living as married\", \n",
    "                                                                               \"Separated/divorced\", \n",
    "                                                                               \"Widowed\", \n",
    "                                                                               \"Never married\"))"
   ]
  },
  {
   "cell_type": "code",
   "execution_count": 13,
   "id": "a19e4dfe-2321-464c-9978-e99598cbc358",
   "metadata": {},
   "outputs": [],
   "source": [
    "bsa2019$HEdQual3 <- factor(bsa2019$HEdQual3, levels = c(1,2,3,4), labels = c(\"Degree\", \"Below degree / A level\", \"O level\", \"No qual\"))"
   ]
  },
  {
   "cell_type": "markdown",
   "id": "f002ecf9",
   "metadata": {},
   "source": [
    "### Univariate analysis"
   ]
  },
  {
   "cell_type": "markdown",
   "id": "complicated-ebony",
   "metadata": {},
   "source": [
    "Univariate analysis produces statistical summaries of numeric and categorical variables e.g., average attitude to welfare; proportion of respondents with a degree etc. However these single numbers give an inflated sense of accuracy and precision. Thus we need some way of expressing the **range** of plausible values for a given statistical summary. You may have heard of this range referred to as **confidence intervals**, **margins of error**, **polling error** etc."
   ]
  },
  {
   "cell_type": "markdown",
   "id": "streaming-ticket",
   "metadata": {},
   "source": [
    "#### Numeric variables"
   ]
  },
  {
   "cell_type": "markdown",
   "id": "sensitive-victory",
   "metadata": {},
   "source": [
    "Let's look at an example for our measure of perceived benefit fraud (`NatFrEst`)."
   ]
  },
  {
   "cell_type": "code",
   "execution_count": 14,
   "id": "equal-shuttle",
   "metadata": {},
   "outputs": [
    {
     "data": {
      "text/plain": [
       "   Min. 1st Qu.  Median    Mean 3rd Qu.    Max.    NA's \n",
       "    0.0    10.0    30.0    35.8    50.0   100.0     246 "
      ]
     },
     "metadata": {},
     "output_type": "display_data"
    }
   ],
   "source": [
    "summary(bsa2019$NatFrEst)"
   ]
  },
  {
   "cell_type": "markdown",
   "id": "junior-recognition",
   "metadata": {},
   "source": [
    "We see that the average estimate of benefit fraud is 35.8 individuals out of every 100 claimants. However this finding was generated by using data on our current sample of 3,224 18+ year olds in Britain who were surveyed in 2019. What if we had a different sample of respondents, both in terms of size and the individuals surveyed? Would we also expect the average estimate to be exactly the same across all potential samples?\n",
    "\n",
    "Thanks to sampling theory, we can produce a range or interval of plausible values for the average (mean) of a numeric variable."
   ]
  },
  {
   "cell_type": "code",
   "execution_count": 18,
   "id": "convinced-landscape",
   "metadata": {},
   "outputs": [
    {
     "data": {
      "text/html": [
       "<style>\n",
       ".list-inline {list-style: none; margin:0; padding: 0}\n",
       ".list-inline>li {display: inline-block}\n",
       ".list-inline>li:not(:last-child)::after {content: \"\\00b7\"; padding: 0 .5ex}\n",
       "</style>\n",
       "<ol class=list-inline><li>34.8587543288981</li><li>36.7429918094497</li></ol>\n"
      ],
      "text/latex": [
       "\\begin{enumerate*}\n",
       "\\item 34.8587543288981\n",
       "\\item 36.7429918094497\n",
       "\\end{enumerate*}\n"
      ],
      "text/markdown": [
       "1. 34.8587543288981\n",
       "2. 36.7429918094497\n",
       "\n",
       "\n"
      ],
      "text/plain": [
       "[1] 34.85875 36.74299\n",
       "attr(,\"conf.level\")\n",
       "[1] 0.95"
      ]
     },
     "metadata": {},
     "output_type": "display_data"
    }
   ],
   "source": [
    "t.test(bsa2019$NatFrEst, na.rm = TRUE)$conf.int # calculate 95% confidence intervals for the mean of `NatFrEst`"
   ]
  },
  {
   "cell_type": "markdown",
   "id": "convinced-telephone",
   "metadata": {},
   "source": [
    "The one-line summary is this: the mean estimate of benefit fraud in the wider population of British adults is very probably between '34.9' and '36.7'. The sample figure of '35.8' remains our best estimate but we now acknowledge that the score in the population could actually be between '34.9' and '36.7'."
   ]
  },
  {
   "cell_type": "markdown",
   "id": "developing-emphasis",
   "metadata": {},
   "source": [
    "This can be tricky to get your head around, so let's look at another example: attitude to welfare (`welfare2`)."
   ]
  },
  {
   "cell_type": "code",
   "execution_count": 19,
   "id": "45159aba",
   "metadata": {},
   "outputs": [
    {
     "data": {
      "text/html": [
       "2.73113680793774"
      ],
      "text/latex": [
       "2.73113680793774"
      ],
      "text/markdown": [
       "2.73113680793774"
      ],
      "text/plain": [
       "[1] 2.731137"
      ]
     },
     "metadata": {},
     "output_type": "display_data"
    }
   ],
   "source": [
    "mean(bsa2019$welfare2, na.rm = TRUE)"
   ]
  },
  {
   "cell_type": "code",
   "execution_count": 21,
   "id": "superb-vegetation",
   "metadata": {},
   "outputs": [
    {
     "data": {
      "text/html": [
       "<style>\n",
       ".list-inline {list-style: none; margin:0; padding: 0}\n",
       ".list-inline>li {display: inline-block}\n",
       ".list-inline>li:not(:last-child)::after {content: \"\\00b7\"; padding: 0 .5ex}\n",
       "</style>\n",
       "<ol class=list-inline><li>2.70668763012039</li><li>2.75558598575509</li></ol>\n"
      ],
      "text/latex": [
       "\\begin{enumerate*}\n",
       "\\item 2.70668763012039\n",
       "\\item 2.75558598575509\n",
       "\\end{enumerate*}\n"
      ],
      "text/markdown": [
       "1. 2.70668763012039\n",
       "2. 2.75558598575509\n",
       "\n",
       "\n"
      ],
      "text/plain": [
       "[1] 2.706688 2.755586\n",
       "attr(,\"conf.level\")\n",
       "[1] 0.95"
      ]
     },
     "metadata": {},
     "output_type": "display_data"
    }
   ],
   "source": [
    "t.test(bsa2019$welfare2, na.rm = TRUE)$conf.int # calculate 95% confidence intervals for the mean of `welfare2`"
   ]
  },
  {
   "cell_type": "markdown",
   "id": "greater-tactics",
   "metadata": {},
   "source": [
    "The mean attitude to welfare is '2.73' (slightly unsympathetic), but we acknowledge that the mean score in the wider population from which the sample was drawn could actually be between '2.71' and '2.76'. Therefore the range of the confidence interval is very tight around the mean, providing confidence that '2.73' is a good estimate of average attitudes to welfare.\n",
    "\n",
    "Imagine our mean was still '2.73' but the confidence interval ranged from '1.55' to '4.29'. Now the mean does not look like such a good estimate of the average attitude to welfare, as its 'true' value in the wider population could be much lower or much higher.\n",
    "\n",
    "Calculating a confidence interval does not invalidate your estimate of the mean of a numeric variable, it simply provides some caution when making claims about a **population** based on a **sample**."
   ]
  },
  {
   "cell_type": "markdown",
   "id": "compressed-steps",
   "metadata": {},
   "source": [
    "#### Categorical variables"
   ]
  },
  {
   "cell_type": "markdown",
   "id": "logical-sherman",
   "metadata": {},
   "source": [
    "We can also calculate a range of uncertainty for categories of a categorical variable."
   ]
  },
  {
   "cell_type": "code",
   "execution_count": 22,
   "id": "changing-librarian",
   "metadata": {},
   "outputs": [
    {
     "data": {
      "text/plain": [
       "\n",
       "                Degree Below degree / A level                O level \n",
       "                    25                     27                     26 \n",
       "               No qual \n",
       "                    22 "
      ]
     },
     "metadata": {},
     "output_type": "display_data"
    }
   ],
   "source": [
    "round(prop.table(table(bsa2019$HEdQual3)) * 100, 0)"
   ]
  },
  {
   "cell_type": "markdown",
   "id": "banned-austria",
   "metadata": {},
   "source": [
    "We observe that 25% of respondents claim their highest qualification is a degree. Is this a good estimate of the 'true' percentage of adults in Britain with a degree?"
   ]
  },
  {
   "cell_type": "code",
   "execution_count": null,
   "id": "6c181013",
   "metadata": {},
   "outputs": [],
   "source": [
    "install.packages(\"DescTools\") # install the necessary package - only needs to be done once"
   ]
  },
  {
   "cell_type": "code",
   "execution_count": 23,
   "id": "dental-details",
   "metadata": {},
   "outputs": [],
   "source": [
    "library(DescTools) # import the package containing the `MultinomCI` command"
   ]
  },
  {
   "cell_type": "code",
   "execution_count": 26,
   "id": "hearing-netscape",
   "metadata": {},
   "outputs": [
    {
     "data": {
      "text/html": [
       "<table class=\"dataframe\">\n",
       "<caption>A matrix: 4 × 3 of type dbl</caption>\n",
       "<thead>\n",
       "\t<tr><th></th><th scope=col>est</th><th scope=col>lwr.ci</th><th scope=col>upr.ci</th></tr>\n",
       "</thead>\n",
       "<tbody>\n",
       "\t<tr><th scope=row>Degree</th><td>0.2511083</td><td>0.2324256</td><td>0.2701329</td></tr>\n",
       "\t<tr><th scope=row>Below degree / A level</th><td>0.2697910</td><td>0.2511083</td><td>0.2888157</td></tr>\n",
       "\t<tr><th scope=row>O level</th><td>0.2609246</td><td>0.2422419</td><td>0.2799493</td></tr>\n",
       "\t<tr><th scope=row>No qual</th><td>0.2181761</td><td>0.1994934</td><td>0.2372007</td></tr>\n",
       "</tbody>\n",
       "</table>\n"
      ],
      "text/latex": [
       "A matrix: 4 × 3 of type dbl\n",
       "\\begin{tabular}{r|lll}\n",
       "  & est & lwr.ci & upr.ci\\\\\n",
       "\\hline\n",
       "\tDegree & 0.2511083 & 0.2324256 & 0.2701329\\\\\n",
       "\tBelow degree / A level & 0.2697910 & 0.2511083 & 0.2888157\\\\\n",
       "\tO level & 0.2609246 & 0.2422419 & 0.2799493\\\\\n",
       "\tNo qual & 0.2181761 & 0.1994934 & 0.2372007\\\\\n",
       "\\end{tabular}\n"
      ],
      "text/markdown": [
       "\n",
       "A matrix: 4 × 3 of type dbl\n",
       "\n",
       "| <!--/--> | est | lwr.ci | upr.ci |\n",
       "|---|---|---|---|\n",
       "| Degree | 0.2511083 | 0.2324256 | 0.2701329 |\n",
       "| Below degree / A level | 0.2697910 | 0.2511083 | 0.2888157 |\n",
       "| O level | 0.2609246 | 0.2422419 | 0.2799493 |\n",
       "| No qual | 0.2181761 | 0.1994934 | 0.2372007 |\n",
       "\n"
      ],
      "text/plain": [
       "                       est       lwr.ci    upr.ci   \n",
       "Degree                 0.2511083 0.2324256 0.2701329\n",
       "Below degree / A level 0.2697910 0.2511083 0.2888157\n",
       "O level                0.2609246 0.2422419 0.2799493\n",
       "No qual                0.2181761 0.1994934 0.2372007"
      ]
     },
     "metadata": {},
     "output_type": "display_data"
    }
   ],
   "source": [
    "MultinomCI(table(bsa2019$HEdQual3)) # 95% confidence interval is the default"
   ]
  },
  {
   "cell_type": "markdown",
   "id": "brilliant-genealogy",
   "metadata": {},
   "source": [
    "Note that proportions are reported but you can convert to percentages by multiplying by 100.\n",
    "\n",
    "We are 95% confident that the 'true' percentage of adults in Britain who have a degree is between 23% and 27% (lwr.ci = lower end of the confidence interval, upr.ci = upper end of the confidence interval)."
   ]
  },
  {
   "cell_type": "markdown",
   "id": "lonely-certificate",
   "metadata": {},
   "source": [
    "**TASK**: Calculate confidence intervals for the `Married` variable. Look at the [codebooks](./codebook/8850_bsa_open_poverty_2019_codebook.pdf) to see what this variable measures."
   ]
  },
  {
   "cell_type": "code",
   "execution_count": null,
   "id": "bound-endorsement",
   "metadata": {},
   "outputs": [],
   "source": [
    "# INSERT CODE HERE"
   ]
  },
  {
   "cell_type": "markdown",
   "id": "vietnamese-tongue",
   "metadata": {},
   "source": [
    "#### A note on confidence"
   ]
  },
  {
   "cell_type": "markdown",
   "id": "retired-bunny",
   "metadata": {},
   "source": [
    "You'll have seen reference to '95% confidence interval' and rightly wondered what it meant.\n",
    "\n",
    "Let's imagine that the *British Social Attitudes survey* was completed by 100 different samples of respondents (obviously this would be wildly expensive, impractical and unnecessary). The sampling procedure is the same (i.e., random sampling) and the sample sizes are the same (i.e., 3,224). And for each sample we calculate the mean of some numeric variable - let's say perceived level of benefit fraud.\n",
    "\n",
    "In such a scenario, a 95% confidence interval represents the following:\n",
    "* 95 of the 100 samples have a mean that falls **into** the range between '34.9' and '36.7'\n",
    "* 5 of the 100 samples have a mean that falls **outside** of the range between '34.9' and '36.7'\n",
    "\n",
    "The intractable problem is that we have no way telling whether the **actual** sample we observed (i.e., the people who completed the *British Social Attitudes survey*) is one of the 95 or one of the 5. \n",
    "\n",
    "All we know is that 95 times out of 100 the mean falls between a given range of values for a given sampling process."
   ]
  },
  {
   "cell_type": "markdown",
   "id": "breathing-france",
   "metadata": {},
   "source": [
    "### Bivariate Analysis"
   ]
  },
  {
   "cell_type": "markdown",
   "id": "reliable-lemon",
   "metadata": {},
   "source": [
    "A key aspect of bivariate analysis is producing a **measure of association** that summarises the strength / direction of a relationship between two variables. In this instance our uncertainty is not related to the exact value of a measure of association, **but in how confident we are that the relationship is present in the population from which the sample was drawn**.\n",
    "\n",
    "For example, we find a weak association between sex and relationship status:"
   ]
  },
  {
   "cell_type": "code",
   "execution_count": 27,
   "id": "stainless-drove",
   "metadata": {},
   "outputs": [
    {
     "data": {
      "text/html": [
       "0.14690502044637"
      ],
      "text/latex": [
       "0.14690502044637"
      ],
      "text/markdown": [
       "0.14690502044637"
      ],
      "text/plain": [
       "[1] 0.146905"
      ]
     },
     "metadata": {},
     "output_type": "display_data"
    }
   ],
   "source": [
    "CramerV(bsa2019$RSex, bsa2019$Married)"
   ]
  },
  {
   "cell_type": "markdown",
   "id": "boolean-dialogue",
   "metadata": {},
   "source": [
    "How confident are we that this association exists in the population of British adults and not just in our sample? We can answer this question by calculating what are known as measures of **statistical significance**. \n",
    "\n",
    "A common measure of statistical significance is a **p-value**. This can be interpreted as a proportion, ranging from 0 to 1. In contrast to measures of association, we are interested in values close to 0, as these indicate a low chance of your association **NOT** being found in the population from which your sample was drawn. Put another way:\n",
    "* a p-value < 0.05 indicates a high probability that the association is found in the wider population and not just in the sample.\n",
    "* an association with a p-value < 0.05 is therefore said to be **statistically significant**. \n",
    "\n",
    "Therefore a p-value &mdash; and other measures of statistical significance &mdash; provides a summary of our confidence in the **generalisability** of the association / pattern we observe in the data."
   ]
  },
  {
   "cell_type": "markdown",
   "id": "valued-league",
   "metadata": {},
   "source": [
    "#### Categorical vs Categorical"
   ]
  },
  {
   "cell_type": "markdown",
   "id": "golden-devil",
   "metadata": {},
   "source": [
    "Let's return to the association between sex and relationship status:"
   ]
  },
  {
   "cell_type": "code",
   "execution_count": 28,
   "id": "coordinated-fireplace",
   "metadata": {},
   "outputs": [
    {
     "data": {
      "text/html": [
       "0.14690502044637"
      ],
      "text/latex": [
       "0.14690502044637"
      ],
      "text/markdown": [
       "0.14690502044637"
      ],
      "text/plain": [
       "[1] 0.146905"
      ]
     },
     "metadata": {},
     "output_type": "display_data"
    }
   ],
   "source": [
    "CramerV(bsa2019$RSex, bsa2019$Married)"
   ]
  },
  {
   "cell_type": "code",
   "execution_count": 31,
   "id": "addressed-creek",
   "metadata": {},
   "outputs": [
    {
     "data": {
      "text/plain": [
       "\n",
       "\tPearson's Chi-squared test\n",
       "\n",
       "data:  bsa2019$RSex and bsa2019$Married\n",
       "X-squared = 69.513, df = 3, p-value = 0.000000000000005428\n"
      ]
     },
     "metadata": {},
     "output_type": "display_data"
    }
   ],
   "source": [
    "options(scipen=999) # suppress scientific notation\n",
    "chisq.test(bsa2019$RSex, bsa2019$Married)"
   ]
  },
  {
   "cell_type": "markdown",
   "id": "administrative-providence",
   "metadata": {},
   "source": [
    "We observe that the p-value is well below the 0.05 threshold, therefore we conclude that the association is statistically significant. That is, the association is very likely present in the population from which the sample was drawn."
   ]
  },
  {
   "cell_type": "markdown",
   "id": "ef643e95",
   "metadata": {},
   "source": [
    "Even weak associations are likely to generate small p-values if the sample is large enough."
   ]
  },
  {
   "cell_type": "markdown",
   "id": "d226debf",
   "metadata": {},
   "source": [
    "What if we had a smaller sample of respondents?"
   ]
  },
  {
   "cell_type": "code",
   "execution_count": 33,
   "id": "db2eb417",
   "metadata": {},
   "outputs": [],
   "source": [
    "bsa2019_samp <- bsa2019[sample(nrow(bsa2019), 100), ] # randomly sample 100 observations from the dataset"
   ]
  },
  {
   "cell_type": "code",
   "execution_count": 34,
   "id": "de9ec61f",
   "metadata": {},
   "outputs": [
    {
     "data": {
      "text/html": [
       "0.230095030245599"
      ],
      "text/latex": [
       "0.230095030245599"
      ],
      "text/markdown": [
       "0.230095030245599"
      ],
      "text/plain": [
       "[1] 0.230095"
      ]
     },
     "metadata": {},
     "output_type": "display_data"
    }
   ],
   "source": [
    "CramerV(bsa2019_samp$RSex, bsa2019_samp$Married)"
   ]
  },
  {
   "cell_type": "code",
   "execution_count": 36,
   "id": "c60c8e44",
   "metadata": {},
   "outputs": [
    {
     "data": {
      "text/plain": [
       "\n",
       "\tPearson's Chi-squared test\n",
       "\n",
       "data:  bsa2019_samp$RSex and bsa2019_samp$Married\n",
       "X-squared = 5.2944, df = 3, p-value = 0.1515\n"
      ]
     },
     "metadata": {},
     "output_type": "display_data"
    }
   ],
   "source": [
    "options(scipen=999) # suppress scientific notation\n",
    "chisq.test(bsa2019_samp$RSex, bsa2019_samp$Married)"
   ]
  },
  {
   "cell_type": "markdown",
   "id": "28441618",
   "metadata": {},
   "source": [
    "**QUESTION:** Why is the p-value no longer below the 0.05 threshold? Put another way: why are we less confident that the association we observed in the sample also exists in the population from which the sample was drawn?"
   ]
  },
  {
   "cell_type": "markdown",
   "id": "existing-wildlife",
   "metadata": {},
   "source": [
    "#### Categorical vs Numeric"
   ]
  },
  {
   "cell_type": "markdown",
   "id": "tracked-clinton",
   "metadata": {},
   "source": [
    "Recall that the appropriate summary statistic for a bivariate analysis of one categorical and one numeric variable is:\n",
    "* *Eta squared*\n",
    "\n",
    "This tells us the strength of the association but not the direction. *Eta squared* coefficient ranges from 0 to 1, with higher values representing stronger associations."
   ]
  },
  {
   "cell_type": "code",
   "execution_count": 37,
   "id": "c9250623",
   "metadata": {},
   "outputs": [],
   "source": [
    "#install.packages(\"lsr\") # install the necessary package - only needs to be done once"
   ]
  },
  {
   "cell_type": "code",
   "execution_count": 38,
   "id": "molecular-current",
   "metadata": {},
   "outputs": [],
   "source": [
    "library(lsr) # import the package containing the `etaSquared()` command"
   ]
  },
  {
   "cell_type": "code",
   "execution_count": 39,
   "id": "maritime-hybrid",
   "metadata": {},
   "outputs": [
    {
     "data": {
      "text/html": [
       "<table class=\"dataframe\">\n",
       "<caption>A matrix: 1 × 2 of type dbl</caption>\n",
       "<thead>\n",
       "\t<tr><th></th><th scope=col>eta.sq</th><th scope=col>eta.sq.part</th></tr>\n",
       "</thead>\n",
       "<tbody>\n",
       "\t<tr><th scope=row>RAgeCat</th><td>0.004278666</td><td>0.004278666</td></tr>\n",
       "</tbody>\n",
       "</table>\n"
      ],
      "text/latex": [
       "A matrix: 1 × 2 of type dbl\n",
       "\\begin{tabular}{r|ll}\n",
       "  & eta.sq & eta.sq.part\\\\\n",
       "\\hline\n",
       "\tRAgeCat & 0.004278666 & 0.004278666\\\\\n",
       "\\end{tabular}\n"
      ],
      "text/markdown": [
       "\n",
       "A matrix: 1 × 2 of type dbl\n",
       "\n",
       "| <!--/--> | eta.sq | eta.sq.part |\n",
       "|---|---|---|\n",
       "| RAgeCat | 0.004278666 | 0.004278666 |\n",
       "\n"
      ],
      "text/plain": [
       "        eta.sq      eta.sq.part\n",
       "RAgeCat 0.004278666 0.004278666"
      ]
     },
     "metadata": {},
     "output_type": "display_data"
    }
   ],
   "source": [
    "model <- aov(welfare2 ~ RAgeCat, data = bsa2019)\n",
    "etaSquared(model)"
   ]
  },
  {
   "cell_type": "markdown",
   "id": "endangered-contractor",
   "metadata": {},
   "source": [
    "We can recover the p-value for this association by summarising the results of the `aov(welfare2 ~ RAgeCat, data = bsa2019)` command:"
   ]
  },
  {
   "cell_type": "code",
   "execution_count": 40,
   "id": "immune-teacher",
   "metadata": {},
   "outputs": [
    {
     "data": {
      "text/plain": [
       "              Df Sum Sq Mean Sq F value Pr(>F)  \n",
       "RAgeCat        6    4.4  0.7371   1.842 0.0872 .\n",
       "Residuals   2572 1029.2  0.4002                 \n",
       "---\n",
       "Signif. codes:  0 '***' 0.001 '**' 0.01 '*' 0.05 '.' 0.1 ' ' 1\n",
       "645 observations deleted due to missingness"
      ]
     },
     "metadata": {},
     "output_type": "display_data"
    }
   ],
   "source": [
    "summary(model)"
   ]
  },
  {
   "cell_type": "markdown",
   "id": "usual-transparency",
   "metadata": {},
   "source": [
    "In this instance we are looking at the `Pr(>F)` statistic, which is another way of describing a p-value.\n",
    "\n",
    "This is slightly above the '0.05' threshold and thus we would conclude that the non-existent association might not be present in the population from which the sample was drawn."
   ]
  },
  {
   "cell_type": "markdown",
   "id": "young-torture",
   "metadata": {},
   "source": [
    "#### Numeric vs Numeric"
   ]
  },
  {
   "cell_type": "markdown",
   "id": "essential-oliver",
   "metadata": {},
   "source": [
    "Recall that the appropriate measure of association for two numeric variables is:\n",
    "* *Pearson's correlation coefficient (r)*\n",
    "\n",
    "Similar to other measures of association, it tells us the strength and direction of the association between two variables. The coefficient ranges between -1 and 1, with negative values representing negative associations, and positive values positive associations. Values closer to -1 or 1 indicate stronger associations than those closer to 0."
   ]
  },
  {
   "cell_type": "code",
   "execution_count": 41,
   "id": "environmental-powell",
   "metadata": {},
   "outputs": [
    {
     "data": {
      "image/png": "[encoded data removed]",
      "text/plain": [
       "plot without title"
      ]
     },
     "metadata": {
      "image/png": {
       "height": 420,
       "width": 420
      }
     },
     "output_type": "display_data"
    }
   ],
   "source": [
    "plot(bsa2019$NatFrEst, bsa2019$welfare2) # X variable (axis) is listed first, Y variable (axis) second"
   ]
  },
  {
   "cell_type": "markdown",
   "id": "7ebcffa4",
   "metadata": {},
   "source": [
    "A visual inspection of the joint distribution reveals a pattern: the more people a respondent thinks is committing benefit fraud, the less sympathetic their attitude is to wlefare claimants / welfare system more generally. We can confirm our interpretation by calculating an appropriate measure of association (*Pearson's correlation coefficient (r)*)."
   ]
  },
  {
   "cell_type": "code",
   "execution_count": 42,
   "id": "infinite-attack",
   "metadata": {},
   "outputs": [
    {
     "data": {
      "text/html": [
       "0.403254343944836"
      ],
      "text/latex": [
       "0.403254343944836"
      ],
      "text/markdown": [
       "0.403254343944836"
      ],
      "text/plain": [
       "[1] 0.4032543"
      ]
     },
     "metadata": {},
     "output_type": "display_data"
    }
   ],
   "source": [
    "cor(bsa2019$NatFrEst, bsa2019$welfare2, use = \"complete.obs\")"
   ]
  },
  {
   "cell_type": "markdown",
   "id": "going-thursday",
   "metadata": {},
   "source": [
    "To produce the p-value calculated for this association, we use the `cor.test()` command:"
   ]
  },
  {
   "cell_type": "code",
   "execution_count": 43,
   "id": "single-timothy",
   "metadata": {},
   "outputs": [
    {
     "data": {
      "text/plain": [
       "\n",
       "\tPearson's product-moment correlation\n",
       "\n",
       "data:  bsa2019$NatFrEst and bsa2019$welfare2\n",
       "t = 21.633, df = 2410, p-value < 0.00000000000000022\n",
       "alternative hypothesis: true correlation is not equal to 0\n",
       "95 percent confidence interval:\n",
       " 0.3692862 0.4361464\n",
       "sample estimates:\n",
       "      cor \n",
       "0.4032543 \n"
      ]
     },
     "metadata": {},
     "output_type": "display_data"
    }
   ],
   "source": [
    "cor.test(bsa2019$NatFrEst, bsa2019$welfare2, use = \"complete.obs\")"
   ]
  },
  {
   "cell_type": "markdown",
   "id": "certain-apartment",
   "metadata": {},
   "source": [
    "And once more, the p-value is well below the '0.05' threshold and we conclude that the moderate-to-strong association is very likely present in the population from which the sample of respondents was drawn."
   ]
  },
  {
   "cell_type": "markdown",
   "id": "obvious-scale",
   "metadata": {},
   "source": [
    "#### A note on statistical significance"
   ]
  },
  {
   "cell_type": "markdown",
   "id": "radio-floor",
   "metadata": {},
   "source": [
    "Statistically significant **does not** mean a finding is important or of practical significance. The term comes from an older use of English (significant = signals). Therefore, statistically significant signals that a finding may be important and worth investigating further (MacInnes, 2019).\n",
    "\n",
    "To claim that a finding is of practical significance, we look at the **magnitude** of a statistic:\n",
    "* Whether an association is strong or not\n",
    "* Whether a proportion for one group is considerably different to a proportion for another group (e.g., differences between males and females in terms of attitudes to welfare)\n",
    "* And so on\n",
    "\n",
    "Put simply:\n",
    "> Statistical significance tells us what we can infer about a target population from what we find in a sample. (MacInnes, 2019: 10)"
   ]
  },
  {
   "cell_type": "markdown",
   "id": "colored-plate",
   "metadata": {},
   "source": [
    "## Conclusion"
   ]
  },
  {
   "cell_type": "markdown",
   "id": "southeast-giving",
   "metadata": {},
   "source": [
    "In this lesson we encountered a range of techniques for expressing the uncertainty inherent in our quantitative analyses.\n",
    "\n",
    "In Week 12, we bring all our learning together to write a report based on a piece of quantitative data analysis, including how to produce publication-ready graphs."
   ]
  }
 ],
 "metadata": {
  "kernelspec": {
   "display_name": "R",
   "language": "R",
   "name": "ir"
  },
  "language_info": {
   "codemirror_mode": "r",
   "file_extension": ".r",
   "mimetype": "text/x-r-source",
   "name": "R",
   "pygments_lexer": "r",
   "version": "4.3.1"
  }
 },
 "nbformat": 4,
 "nbformat_minor": 5
}
