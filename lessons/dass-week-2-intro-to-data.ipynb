{
 "cells": [
  {
   "cell_type": "markdown",
   "id": "otherwise-cache",
   "metadata": {},
   "source": [
    "<p align=\"right\"><i>Data Analysis for the Social Sciences - Part I - 2023-09-19</i></p>"
   ]
  },
  {
   "cell_type": "markdown",
   "id": "dynamic-conjunction",
   "metadata": {},
   "source": [
    "# Week 2 - Introduction to Data and R"
   ]
  },
  {
   "cell_type": "markdown",
   "id": "exclusive-methodology",
   "metadata": {},
   "source": [
    "Welcome to Part I of Data Analysis for the Social Sciences. In this lab session we will introduce you to quantitative data and the R programming language. \n",
    "\n",
    "We will use real data on registered charities in Scotland provided by Scottish Charity Regulator. We will attempt to analyse these data before turning our attention to how we can use a programming language to perform efficient, transparent and effective data analyses."
   ]
  },
  {
   "cell_type": "markdown",
   "id": "scenic-silly",
   "metadata": {},
   "source": [
    "### Aims\n",
    "\n",
    "This lesson - **Introduction to Data and R** - has two aims:\n",
    "1. Understand the structure and contents of a dataset containing numeric information.\n",
    "2. Cultivate your computational skills through the use of the statistical programming langauge *R*. For example, there are a number of opportunities for you to amend or write R syntax (code)."
   ]
  },
  {
   "cell_type": "markdown",
   "id": "judicial-prediction",
   "metadata": {},
   "source": [
    "### Lesson details\n",
    "\n",
    "* **Level**: Introductory, for individuals with no prior knowledge or experience of quantitative data analysis.\n",
    "* **Duration**: 30-45 minutes.\n",
    "* **Pre-requisites**: None.\n",
    "* **Programming language**: R.\n",
    "* **Learning outcomes**:\n",
    "\t1. Understand how to use R for conducting common data exploration tasks.\n",
    "\t2. Understand how to describe and explore a secondary dataset containing quantitative data."
   ]
  },
  {
   "cell_type": "markdown",
   "id": "terminal-agenda",
   "metadata": {},
   "source": [
    "## Guide to using this notebook\n",
    "\n",
    "This learning resource was built using <a href=\"https://jupyter.org/\" target=_blank>Jupyter Notebook</a>, an open-source software application that allows you to mix code, results and narrative in a single document. As <a href=\"https://jupyter4edu.github.io/jupyter-edu-book/\" target=_blank>Barba et al. (2019)</a> espouse:\n",
    "> In a world where every subject matter can have a data-supported treatment, where computational devices are omnipresent and pervasive, the union of natural language and computation creates compelling communication and learning opportunities.\n",
    "\n",
    "If you are familiar with Jupyter notebooks then skip ahead to the main content (*Exploring Data*). Otherwise, the following is a quick guide to navigating and interacting with the notebook."
   ]
  },
  {
   "cell_type": "markdown",
   "id": "interested-radar",
   "metadata": {},
   "source": [
    "### Interaction\n",
    "\n",
    "**You only need to execute the code that is contained in sections which are marked by `[]`.**\n",
    "\n",
    "To execute a cell, click or double-click the cell and press the `Play` button next to the cell or select the `Run` button on the top toolbar (*Runtime > Run the focused cell*); you can also use the keyboard shortcuts `Shift + Enter` or `Ctrl + Enter`).\n",
    "\n",
    "Try it for yourself:"
   ]
  },
  {
   "cell_type": "code",
   "execution_count": null,
   "id": "dominican-hardware",
   "metadata": {},
   "outputs": [],
   "source": [
    "name <- readline(prompt=\"Enter name: \")\n",
    "print(paste(\"Hi\", name,\", enjoy learning more about R and exploring data!\"))"
   ]
  },
  {
   "cell_type": "markdown",
   "id": "through-storm",
   "metadata": {},
   "source": [
    "Notebooks are sequential, meaning code should be executed in order (top to bottom). For example, the following code won't work:"
   ]
  },
  {
   "cell_type": "code",
   "execution_count": null,
   "id": "outstanding-bulgaria",
   "metadata": {},
   "outputs": [],
   "source": [
    "x * 5"
   ]
  },
  {
   "cell_type": "markdown",
   "id": "handmade-madagascar",
   "metadata": {},
   "source": [
    "As the error message suggests, there is no object (variable) called `x`, therefore we cannot do any calculations with it. \n",
    "\n",
    "Let's try a sequential approach:"
   ]
  },
  {
   "cell_type": "code",
   "execution_count": null,
   "id": "addressed-assumption",
   "metadata": {},
   "outputs": [],
   "source": [
    "x <- 10 # create an object called 'x' and give it the value '10'"
   ]
  },
  {
   "cell_type": "code",
   "execution_count": null,
   "id": "crucial-implement",
   "metadata": {},
   "outputs": [],
   "source": [
    "x * 5 # multiply 'x' by 5"
   ]
  },
  {
   "cell_type": "markdown",
   "id": "covered-round",
   "metadata": {},
   "source": [
    "### Learn more\n",
    "\n",
    "Jupyter notebooks provide rich, flexible features for conducting and documenting your data analysis workflow. To learn more about additional notebook features, we recommend working through some of the <a href=\"https://github.com/darribas/gds19/blob/master/content/labs/lab_00.ipynb\" target=_blank>materials</a> provided by Dani Arribas-Bel at the University of Liverpool. "
   ]
  },
  {
   "cell_type": "markdown",
   "id": "floppy-escape",
   "metadata": {},
   "source": [
    "### Learner input\n",
    "\n",
    "Throughout the lessons there times when you need to do the following activities:\n",
    "* **TASK:** A coding task for you to complete (e.g. create new variables).\n",
    "* **QUESTION:** A question regarding your interpretation of some code or a technique (e.g. what is the piece of code doing?).\n",
    "* **EXERCISE:** A data analysis challenge for you to complete."
   ]
  },
  {
   "cell_type": "markdown",
   "id": "democratic-office",
   "metadata": {},
   "source": [
    "## Understanding Data"
   ]
  },
  {
   "cell_type": "markdown",
   "id": "respected-comedy",
   "metadata": {},
   "source": [
    "Data exploration is an important first-step in the quantitative data analysis process. It involves a mix of functional and analytical tasks that in sum provide you with a keen sense of the data. For example, it is important to know how many variables are relevant for our analysis, how many observations are in the sample, whether there is missing data for some of our variables, whether the dataset \"looks right\" or there were problems downloading and importing the data etc."
   ]
  },
  {
   "cell_type": "markdown",
   "id": "rural-progress",
   "metadata": {},
   "source": [
    "### Secondary data"
   ]
  },
  {
   "cell_type": "markdown",
   "id": "caroline-province",
   "metadata": {},
   "source": [
    "For this session we will use a secondary dataset (i.e., one we did not collect ourselves) containing information on currently registered Scottish charities. The dataset can be found here: [Scottish Charity Register](https://github.com/DiarmuidM/data-analysis-for-the-social-sciences-2023/blob/main/lessons/data/CharityExport-13-Sep-2023.csv) \n",
    "\n",
    "(Click the *Download raw file* button on the right)"
   ]
  },
  {
   "cell_type": "markdown",
   "id": "framed-privacy",
   "metadata": {},
   "source": [
    "### Examining data"
   ]
  },
  {
   "cell_type": "markdown",
   "id": "stone-qatar",
   "metadata": {},
   "source": [
    "Open the dataset in a spreadsheet application (e.g., MS Excel) and answer the following questions:\n",
    "1. How many charities are currently registered in Scotland?\n",
    "2. How many variables does the dataset contain?\n",
    "3. Are there any duplicate cases (i.e., charities) in the dataset?\n",
    "4. Are there any variables that are not suitable for quantitative data analysis (i.e., are they qualitative variables)? If so which ones?\n",
    "5. Which charity is the oldest in Scotland?\n",
    "6. Which local authority has the most charities?\n",
    "7. How many charities have a parent organisation?\n",
    "8. What is the minimum, maximum and median income?\n",
    "9. What is the issue with the `Activities` variable?\n",
    "10. How did you find the process of answering these questions (easy | frustrating | slow)?\n",
    "\n",
    "You can choose whatever approach / application you like for examining the dataset:\n",
    "* MS Excel\n",
    "* [OpenRefine](https://openrefine.org/)\n",
    "* [Tableau](https://www.tableau.com/en-gb/trial/tableau-software)\n",
    "\n",
    "But I recommend MS Excel as it is the easiest to use in our labs."
   ]
  },
  {
   "cell_type": "markdown",
   "id": "3e3aa6ed-9ce7-4403-b631-b696e9c9f78b",
   "metadata": {},
   "source": [
    "You can type your answers into MS Word, a text file, notepad etc."
   ]
  },
  {
   "cell_type": "markdown",
   "id": "c2d70bdc-0ce0-49d0-9b13-ae4d8c0de940",
   "metadata": {},
   "source": [
    "## Using Software"
   ]
  },
  {
   "cell_type": "markdown",
   "id": "63fd2a16-9850-4f40-b40f-762b2760668b",
   "metadata": {},
   "source": [
    "Analysing quantitative data manually (e.g., just by scrolling through observations and eyeing values) is near impossible for any dataset containing more than a few observations and variables. Therefore we need to employ an appropriate software application to assist us. For the above task MS Excel was probably good enough for answering most or all of the questions. However, I think you'll agree that adopting such an approach can be:\n",
    "* Cumbersome and inefficient (slow and sub-optimal)\n",
    "* Inaccurate (lots of opportunity for human error)\n",
    "* Opaque (only you know the steps you took to arrive at the answer)\n",
    "* Difficult to replicate (repeating an analysis - by you or a colleague - is very difficult and slow without an accurate account of the steps you took)\n",
    "\n",
    "Therefore modern social science data analysis is typically conducted using software or programming languages that allow you to quickly and accurately perform a wide range of analyses in a way that is replicable and transparent.\n",
    "\n",
    "To prove this, let's answer the questions above using the R programming language."
   ]
  },
  {
   "cell_type": "code",
   "execution_count": null,
   "id": "18dbbf08-5625-4b03-917c-cb4cc5702ccc",
   "metadata": {},
   "outputs": [],
   "source": [
    "df <- read.csv(\"https://raw.githubusercontent.com/DiarmuidM/data-analysis-for-the-social-sciences-2023/main/lessons/data/CharityExport-13-Sep-2023.csv\", header=TRUE, na=\"\", sep=\",\")"
   ]
  },
  {
   "cell_type": "code",
   "execution_count": null,
   "id": "1c923ea8-6fb1-4b9f-bc2c-325e21a4af58",
   "metadata": {},
   "outputs": [],
   "source": [
    "head(df) # view the first six observations"
   ]
  },
  {
   "cell_type": "code",
   "execution_count": null,
   "id": "f2c78b58-479c-4803-8a83-3b0925e2aa93",
   "metadata": {},
   "outputs": [],
   "source": [
    "names(df) # list the variables in the dataset"
   ]
  },
  {
   "cell_type": "markdown",
   "id": "eab11845-eb63-4993-9d81-8cc7f158d721",
   "metadata": {},
   "source": [
    "### 1. How many charities are currently registered in Scotland?"
   ]
  },
  {
   "cell_type": "code",
   "execution_count": null,
   "id": "28e8d429-1955-4081-80bc-761495860d94",
   "metadata": {},
   "outputs": [],
   "source": [
    "nrow(df) # how many rows (observations) are in the dataset"
   ]
  },
  {
   "cell_type": "markdown",
   "id": "ba1ebf9f-6973-4dc9-8369-cee6f4e9fba7",
   "metadata": {},
   "source": [
    "### 2. How many variables does the dataset contain?"
   ]
  },
  {
   "cell_type": "code",
   "execution_count": null,
   "id": "5b44572e-2daa-4482-91a2-8beaf6e15630",
   "metadata": {},
   "outputs": [],
   "source": [
    "ncol(df) # how many columns (variables) are in the dataset"
   ]
  },
  {
   "cell_type": "markdown",
   "id": "1f0109f9-23a6-4f43-8c6b-e77d4e7e0d19",
   "metadata": {},
   "source": [
    "### 3. Are there any duplicate cases (i.e., charities) in the dataset?"
   ]
  },
  {
   "cell_type": "code",
   "execution_count": null,
   "id": "9ddeb635-3b45-48e8-810d-2db62dcd99de",
   "metadata": {},
   "outputs": [],
   "source": [
    "sum(duplicated(df$Charity.Number)) # count duplicate (repeat) values of charity number"
   ]
  },
  {
   "cell_type": "markdown",
   "id": "6fd9a6e2-049e-4fb5-b544-d6813e4718e9",
   "metadata": {},
   "source": [
    "### 4. Are there any variables that are not suitable for quantitative data analysis (i.e., are they qualitative variables)? If so which ones?"
   ]
  },
  {
   "attachments": {},
   "cell_type": "markdown",
   "id": "4434fb36-477b-49db-942d-20bb4de6fb5f",
   "metadata": {},
   "source": [
    "This does not need to be answered using software - it requires you to make a judgement about the values of a particular variable. In my assessment, the following variables are qualitative:\n",
    "* `Charity Name`\n",
    "* `Known As`\n",
    "* `Notes`\n",
    "* `Postcode`\n",
    "* `Objectives`\n",
    "* `Principal Office/Trustees Address`\n",
    "* `Website`\n",
    "* `Parent charity name`"
   ]
  },
  {
   "cell_type": "markdown",
   "id": "35e184ec-8882-4fea-9647-fe400af7c2de",
   "metadata": {},
   "source": [
    "### 5. Which charity is the oldest in Scotland?"
   ]
  },
  {
   "cell_type": "code",
   "execution_count": null,
   "id": "c0bdedcc-a123-4fb6-bd49-a9101667b812",
   "metadata": {},
   "outputs": [],
   "source": [
    "df$regdate <- as.Date(df$Registered.Date, format = \"%d/%m/%Y\") # create a new variable that is treated as a date instead of a string\n",
    "min(df$regdate, na.rm=TRUE) # list the earliest (minimum value) date of registration"
   ]
  },
  {
   "cell_type": "code",
   "execution_count": null,
   "id": "0a56b309-b280-44c8-8d03-03871b01d3c3",
   "metadata": {},
   "outputs": [],
   "source": [
    "early_date <- min(df$regdate, na.rm=TRUE) # store the earliest date in an object / variable called `early_date`\n",
    "early_date\n",
    "df[df$regdate==early_date, ] # list the observation where it's date of registration matches the earliest date"
   ]
  },
  {
   "cell_type": "markdown",
   "id": "3883024a-62e2-4537-853e-65cf9452173f",
   "metadata": {},
   "source": [
    "### 6. Which local authority has the most charities?"
   ]
  },
  {
   "cell_type": "code",
   "execution_count": null,
   "id": "5e9e5ef2-63ad-4468-a43c-893cbc26f3f2",
   "metadata": {},
   "outputs": [],
   "source": [
    "table(df$Main.Operating.Location) # produce a frequency table of main operating location of charities"
   ]
  },
  {
   "cell_type": "markdown",
   "id": "7622ad1c-c3c1-451c-b87a-05507bf354ca",
   "metadata": {},
   "source": [
    "### 7. How many charities have a parent organisation?"
   ]
  },
  {
   "cell_type": "code",
   "execution_count": null,
   "id": "c47f97eb-609d-4c55-8188-783a90a95819",
   "metadata": {},
   "outputs": [],
   "source": [
    "sum(!is.na(df$Parent.charity.number)) # count non-missing values of parent charity number variable"
   ]
  },
  {
   "cell_type": "markdown",
   "id": "97375dcd-75dc-4417-9654-9edbe0c20493",
   "metadata": {},
   "source": [
    "### 8. What is the minimum, maximum and median income?"
   ]
  },
  {
   "cell_type": "code",
   "execution_count": null,
   "id": "cb8e19a0-3d95-4f85-a5b9-55729e7d4614",
   "metadata": {},
   "outputs": [],
   "source": [
    "summary(df$Most.recent.year.income) # summarise the distribution of the income variable"
   ]
  },
  {
   "cell_type": "markdown",
   "id": "3eb0561d-0aa1-4aa0-b923-c485f942a8b3",
   "metadata": {},
   "source": [
    "### 9. What is the issue with the `Activities` variable?"
   ]
  },
  {
   "cell_type": "markdown",
   "id": "39b6a309-bfa3-4334-9272-ddaaed78c1d9",
   "metadata": {},
   "source": [
    "A variable should ideally contain only one value per observation. The `Activities` variable contains more than one value. For example, the University of Edinburgh has four values: 'It makes grants, donations, loans, gifts or pensions to individuals', 'It makes grants, donations or gifts to organisations', 'It carries out activities or services itself'. These are all distinct types of charitable activities but our software would interpret them as a single category. We won't worry about how we would handle this just now, just note the general principle of *one value per variable per observation*."
   ]
  },
  {
   "cell_type": "markdown",
   "id": "1777eaf3-654e-4b59-a291-895f91e7b571",
   "metadata": {},
   "source": [
    "### 10. How did you find the process of answering these questions (easy | frustrating | slow)?"
   ]
  },
  {
   "cell_type": "markdown",
   "id": "0756fe46-998b-498e-9d7a-ddd859d689c5",
   "metadata": {},
   "source": [
    "I cannot speak for you! There are advantages and disadvantages to using something like R vs MS Excel for quantitative data analysis. We'll explore these in more detail as the module progresses."
   ]
  },
  {
   "cell_type": "markdown",
   "id": "colored-plate",
   "metadata": {},
   "source": [
    "## Conclusion"
   ]
  },
  {
   "cell_type": "markdown",
   "id": "corresponding-cowboy",
   "metadata": {},
   "source": [
    "Hopefully this notebook has given you a sense of what quantitative data analysis entails:\n",
    "* Importing datasets\n",
    "* Understanding structure and contents of datasets\n",
    "* Exploring observations\n",
    "* Summarising variables\n",
    "* Writing syntax | code"
   ]
  },
  {
   "cell_type": "markdown",
   "id": "7295503c-94b0-45cf-9fc7-b01ecbc3436e",
   "metadata": {},
   "source": [
    "## Optional Activity"
   ]
  },
  {
   "cell_type": "markdown",
   "id": "7698e79e-9b34-40bb-91cf-85e3bbfd984d",
   "metadata": {},
   "source": [
    "Explore the dataset further by adapting some of the syntax used throughout this lesson. For example, produce a frequency table of the `Geographical.Spread` variable; summarise charity expenditure or other financial measures etc."
   ]
  },
  {
   "cell_type": "code",
   "execution_count": null,
   "id": "5ffe63ff-f20d-4871-a1cd-a68c015362d4",
   "metadata": {},
   "outputs": [],
   "source": [
    "# INSERT CODE HERE"
   ]
  }
 ],
 "metadata": {
  "kernelspec": {
   "display_name": "R",
   "language": "R",
   "name": "ir"
  },
  "language_info": {
   "codemirror_mode": "r",
   "file_extension": ".r",
   "mimetype": "text/x-r-source",
   "name": "R",
   "pygments_lexer": "r",
   "version": "4.3.1"
  }
 },
 "nbformat": 4,
 "nbformat_minor": 5
}
