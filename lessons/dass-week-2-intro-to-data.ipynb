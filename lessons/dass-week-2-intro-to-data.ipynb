{
 "cells": [
  {
   "cell_type": "markdown",
   "id": "otherwise-cache",
   "metadata": {},
   "source": [
    "<p align=\"right\"><i>Data Analysis for the Social Sciences - Part I - 2023-09-19</i></p>"
   ]
  },
  {
   "cell_type": "markdown",
   "id": "dynamic-conjunction",
   "metadata": {},
   "source": [
    "# Week 2 - Introduction to Data and R"
   ]
  },
  {
   "cell_type": "markdown",
   "id": "exclusive-methodology",
   "metadata": {},
   "source": [
    "Welcome to Part I of Data Analysis for the Social Sciences. In this lab session we will introduce you to quantitative data and the R programming language. \n",
    "\n",
    "We will use real data on registered charities in Scotland provided by Scottish Charity Regulator. We will attempt to analyse these data before turning our attention to how we can use a programming language to perform efficient, transparent and effective data analyses."
   ]
  },
  {
   "cell_type": "markdown",
   "id": "scenic-silly",
   "metadata": {},
   "source": [
    "### Aims\n",
    "\n",
    "This lesson - **Introduction to Data and R** - has two aims:\n",
    "1. Understand the structure and contents of a dataset containing numeric information.\n",
    "2. Cultivate your computational skills through the use of the statistical programming langauge *R*. For example, there are a number of opportunities for you to amend or write R syntax (code)."
   ]
  },
  {
   "cell_type": "markdown",
   "id": "judicial-prediction",
   "metadata": {},
   "source": [
    "### Lesson details\n",
    "\n",
    "* **Level**: Introductory, for individuals with no prior knowledge or experience of quantitative data analysis.\n",
    "* **Duration**: 30-45 minutes.\n",
    "* **Pre-requisites**: None.\n",
    "* **Programming language**: R.\n",
    "* **Learning outcomes**:\n",
    "\t1. Understand how to use R for conducting common data exploration tasks.\n",
    "\t2. Understand how to describe and explore a secondary dataset containing quantitative data."
   ]
  },
  {
   "cell_type": "markdown",
   "id": "terminal-agenda",
   "metadata": {},
   "source": [
    "## Guide to using this notebook\n",
    "\n",
    "This learning resource was built using <a href=\"https://jupyter.org/\" target=_blank>Jupyter Notebook</a>, an open-source software application that allows you to mix code, results and narrative in a single document. As <a href=\"https://jupyter4edu.github.io/jupyter-edu-book/\" target=_blank>Barba et al. (2019)</a> espouse:\n",
    "> In a world where every subject matter can have a data-supported treatment, where computational devices are omnipresent and pervasive, the union of natural language and computation creates compelling communication and learning opportunities.\n",
    "\n",
    "If you are familiar with Jupyter notebooks then skip ahead to the main content (*Exploring Data*). Otherwise, the following is a quick guide to navigating and interacting with the notebook."
   ]
  },
  {
   "cell_type": "markdown",
   "id": "interested-radar",
   "metadata": {},
   "source": [
    "### Interaction\n",
    "\n",
    "**You only need to execute the code that is contained in sections which are marked by `[]`.**\n",
    "\n",
    "To execute a cell, click or double-click the cell and press the `Play` button next to the cell or select the `Run` button on the top toolbar (*Runtime > Run the focused cell*); you can also use the keyboard shortcuts `Shift + Enter` or `Ctrl + Enter`).\n",
    "\n",
    "Try it for yourself:"
   ]
  },
  {
   "cell_type": "code",
   "execution_count": 3,
   "id": "dominican-hardware",
   "metadata": {},
   "outputs": [
    {
     "name": "stdin",
     "output_type": "stream",
     "text": [
      "Enter name:  DDDD\n"
     ]
    },
    {
     "name": "stdout",
     "output_type": "stream",
     "text": [
      "[1] \"Hi DDDD , enjoy learning more about R and exploring data!\"\n"
     ]
    }
   ],
   "source": [
    "name <- readline(prompt=\"Enter name: \")\n",
    "print(paste(\"Hi\", name,\", enjoy learning more about R and exploring data!\"))"
   ]
  },
  {
   "cell_type": "markdown",
   "id": "through-storm",
   "metadata": {},
   "source": [
    "Notebooks are sequential, meaning code should be executed in order (top to bottom). For example, the following code won't work:"
   ]
  },
  {
   "cell_type": "code",
   "execution_count": null,
   "id": "outstanding-bulgaria",
   "metadata": {},
   "outputs": [],
   "source": [
    "x * 5"
   ]
  },
  {
   "cell_type": "markdown",
   "id": "handmade-madagascar",
   "metadata": {},
   "source": [
    "As the error message suggests, there is no object (variable) called `x`, therefore we cannot do any calculations with it. \n",
    "\n",
    "Let's try a sequential approach:"
   ]
  },
  {
   "cell_type": "code",
   "execution_count": null,
   "id": "addressed-assumption",
   "metadata": {},
   "outputs": [],
   "source": [
    "x <- 10 # create an object called 'x' and give it the value '10'"
   ]
  },
  {
   "cell_type": "code",
   "execution_count": null,
   "id": "crucial-implement",
   "metadata": {},
   "outputs": [],
   "source": [
    "x * 5 # multiply 'x' by 5"
   ]
  },
  {
   "cell_type": "markdown",
   "id": "covered-round",
   "metadata": {},
   "source": [
    "### Learn more\n",
    "\n",
    "Jupyter notebooks provide rich, flexible features for conducting and documenting your data analysis workflow. To learn more about additional notebook features, we recommend working through some of the <a href=\"https://github.com/darribas/gds19/blob/master/content/labs/lab_00.ipynb\" target=_blank>materials</a> provided by Dani Arribas-Bel at the University of Liverpool. "
   ]
  },
  {
   "cell_type": "markdown",
   "id": "floppy-escape",
   "metadata": {},
   "source": [
    "### Learner input\n",
    "\n",
    "Throughout the lessons there times when you need to do the following activities:\n",
    "* **TASK:** A coding task for you to complete (e.g. create new variables).\n",
    "* **QUESTION:** A question regarding your interpretation of some code or a technique (e.g. what is the piece of code doing?).\n",
    "* **EXERCISE:** A data analysis challenge for you to complete."
   ]
  },
  {
   "cell_type": "markdown",
   "id": "democratic-office",
   "metadata": {},
   "source": [
    "## Understanding Data"
   ]
  },
  {
   "cell_type": "markdown",
   "id": "respected-comedy",
   "metadata": {},
   "source": [
    "Data exploration is an important first-step in the quantitative data analysis process. It involves a mix of functional and analytical tasks that in sum provide you with a keen sense of the data. For example, it is important to know how many variables are relevant for our analysis, how many observations are in the sample, whether there is missing data for some of our variables, whether the dataset \"looks right\" or there were problems downloading and importing the data etc."
   ]
  },
  {
   "cell_type": "markdown",
   "id": "rural-progress",
   "metadata": {},
   "source": [
    "### Secondary data"
   ]
  },
  {
   "cell_type": "markdown",
   "id": "caroline-province",
   "metadata": {},
   "source": [
    "For this session we will use a secondary dataset (i.e., one we did not collect ourselves) containing information on currently registered Scottish charities. The dataset can be found here: [Scottish Charity Register](https://raw.githubusercontent.com/DiarmuidM/data-analysis-for-the-social-sciences-2023/main/lessons/data/CharityExport-13-Sep-2023.csv\")"
   ]
  },
  {
   "cell_type": "markdown",
   "id": "framed-privacy",
   "metadata": {},
   "source": [
    "### Examining data"
   ]
  },
  {
   "cell_type": "markdown",
   "id": "stone-qatar",
   "metadata": {},
   "source": [
    "Open the dataset in a spreadsheet application (e.g., MS Excel) and answer the following questions:\n",
    "1. How many charities are currently registered in Scotland?\n",
    "2. How many variables does the dataset contain?\n",
    "3. Are there any duplicate cases (i.e., charities) in the dataset?\n",
    "4. Are there any variables that are not suitable for quantitative data analysis (i.e., are they qualitative variables)? If so which ones?\n",
    "5. Which charity is the oldest in Scotland?\n",
    "6. Which local authority has the most charities?\n",
    "7. How many charities have a parent organisation?\n",
    "8. What is the minimum, maximum and median income?\n",
    "9. What is the issue with the `Activities` variable?\n",
    "10. How did you find the process of answering these questions (easy | frustrating | slow)?\n",
    "\n",
    "You can choose whatever approach / application you like for examining the dataset:\n",
    "* MS Excel\n",
    "* [OpenRefine](https://openrefine.org/)\n",
    "* [Tableau](https://www.tableau.com/en-gb/trial/tableau-software)\n",
    "\n",
    "But I recommend MS Excel as it is the easiest to use in our labs."
   ]
  },
  {
   "cell_type": "markdown",
   "id": "3e3aa6ed-9ce7-4403-b631-b696e9c9f78b",
   "metadata": {},
   "source": [
    "You can type your answers in the box below or into MS Word, a text file, notepad etc."
   ]
  },
  {
   "cell_type": "markdown",
   "id": "female-string",
   "metadata": {},
   "source": [
    "* A1.\n",
    "* A2. \n",
    "* A3.\n",
    "* A4. \n",
    "* A5. \n",
    "* A6. \n",
    "* A7. \n",
    "* A8. \n",
    "* A9. \n",
    "* A10. "
   ]
  },
  {
   "cell_type": "markdown",
   "id": "c2d70bdc-0ce0-49d0-9b13-ae4d8c0de940",
   "metadata": {},
   "source": [
    "## Using Software"
   ]
  },
  {
   "cell_type": "markdown",
   "id": "63fd2a16-9850-4f40-b40f-762b2760668b",
   "metadata": {},
   "source": [
    "Analysing quantitative data manually (e.g., just by scrolling through observations and eyeing values) is near impossible for any dataset containing more than a few observations and variables. Therefore we need to employ an appropriate software application to assist us. For the above task MS Excel was probably good enough for answering most or all of the questions. However, I think you'll agree that adopting such an approach can be:\n",
    "* Cumbersome and inefficient\n",
    "* Inaccurate (lots of opportunity for human error)\n",
    "* Opaque (only you know the steps you took to arrive at the answer)\n",
    "* Difficult to replicate (repeating an analysis - by you or a colleague - is very difficult and slow without an accurate account of the steps you took)\n",
    "\n",
    "Therefore modern social science data analysis is typically conducted using software or programming languages that allow you to quickly and accurately perform a wide range of analyses in a way that is replicable and transparent.\n",
    "\n",
    "To prove this, let's answer the questions above using the R programming language."
   ]
  },
  {
   "cell_type": "code",
   "execution_count": null,
   "id": "18dbbf08-5625-4b03-917c-cb4cc5702ccc",
   "metadata": {},
   "outputs": [],
   "source": [
    "creg <- "
   ]
  },
  {
   "cell_type": "markdown",
   "id": "eab11845-eb63-4993-9d81-8cc7f158d721",
   "metadata": {},
   "source": [
    "### How many charities are currently registered in Scotland?"
   ]
  },
  {
   "cell_type": "markdown",
   "id": "colored-plate",
   "metadata": {},
   "source": [
    "## Conclusion"
   ]
  },
  {
   "cell_type": "markdown",
   "id": "corresponding-cowboy",
   "metadata": {},
   "source": [
    "Hopefully this notebook has given you a sense of what quantitative data analysis entails:\n",
    "* Importing datasets\n",
    "* Exploring observations\n",
    "* Summarising variables\n",
    "* Writing syntax"
   ]
  }
 ],
 "metadata": {
  "kernelspec": {
   "display_name": "R",
   "language": "R",
   "name": "ir"
  },
  "language_info": {
   "codemirror_mode": "r",
   "file_extension": ".r",
   "mimetype": "text/x-r-source",
   "name": "R",
   "pygments_lexer": "r",
   "version": "4.3.1"
  }
 },
 "nbformat": 4,
 "nbformat_minor": 5
}
