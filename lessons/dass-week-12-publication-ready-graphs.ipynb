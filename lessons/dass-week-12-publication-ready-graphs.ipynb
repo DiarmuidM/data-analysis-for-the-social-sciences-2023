{
 "cells": [
  {
   "cell_type": "markdown",
   "id": "otherwise-cache",
   "metadata": {},
   "source": [
    "<p align=\"right\"><i>Data Analysis for the Social Sciences - Part II - YYYY-MM-DD</i></p>"
   ]
  },
  {
   "cell_type": "markdown",
   "id": "dynamic-conjunction",
   "metadata": {},
   "source": [
    "# Week 12 - Publication-Ready Graphs"
   ]
  },
  {
   "cell_type": "markdown",
   "id": "d09067c3-fc6e-47be-b624-7e11a9dcf041",
   "metadata": {},
   "source": [
    "Welcome to Part II of Data Analysis for the Social Sciences. In this lab session we will produce professional-looking graphs for inclusion in academic outputs (e.g., reports, journal articles)."
   ]
  },
  {
   "cell_type": "markdown",
   "id": "110627dc-1dbe-4453-9f71-f816f623c0ae",
   "metadata": {},
   "source": [
    "We will use real data from the *British Social Attitudes survey, 2019: Poverty and Welfare*, specifically the open dataset available from the UK Data Service: https://doi.org/10.5255/UKDA-SN-8850-1"
   ]
  },
  {
   "cell_type": "markdown",
   "id": "f30d26db-773c-421f-b0c6-8e2a0d6bf902",
   "metadata": {},
   "source": [
    "We will structure our analyses around the following research question:"
   ]
  },
  {
   "cell_type": "markdown",
   "id": "ca266641-44fc-4f62-9d96-8ff1809f706e",
   "metadata": {},
   "source": [
    "<p><center><i>Are attitudes to welfare associated with sex, age, interest in politics, and perception of benefits fraud?</i></center></p>"
   ]
  },
  {
   "cell_type": "markdown",
   "id": "scenic-silly",
   "metadata": {},
   "source": [
    "### Aims\n",
    "\n",
    "This lesson - **Publication-Ready Graphs** - has two aims:\n",
    "1. Demonstrate how to produce graphs suitable for inclusion in academic outputs.\n",
    "2. Cultivate your computational skills through the use of the statistical programming langauge *R*. For example, there are a number of opportunities for you to amend or write R syntax (code)."
   ]
  },
  {
   "cell_type": "markdown",
   "id": "judicial-prediction",
   "metadata": {},
   "source": [
    "### Lesson details\n",
    "\n",
    "* **Level**: Introductory, for individuals with minimal prior knowledge or experience of quantitative data analysis.\n",
    "* **Duration**: 45-60 minutes.\n",
    "* **Pre-requisites**: Completed [*Univariate Data Analysis*](./dass-week-9-univariate-analysis.ipynb), [*Bivariate Data Analysis*](./dass-week-10-bivariate-analysis.ipynb) and [*Multivariate Data Analysis*](./dass-week-11-multivariate-analysis.ipynb) lessons.\n",
    "* **Programming language**: R.\n",
    "* **Learning outcomes**:\n",
    "\t1. Understand how to use R to produce and improve visualisations of statistical analyses.\n",
    "\t2. Understand how to select and apply common visualisation techniques and formats for categorical and numeric variables."
   ]
  },
  {
   "cell_type": "markdown",
   "id": "terminal-agenda",
   "metadata": {},
   "source": [
    "## Guide to using this resource\n",
    "\n",
    "This learning resource was built using <a href=\"https://jupyter.org/\" target=_blank>Jupyter Notebook</a>, an open-source software application that allows you to mix code, results and narrative in a single document. As <a href=\"https://jupyter4edu.github.io/jupyter-edu-book/\" target=_blank>Barba et al. (2019)</a> espouse:\n",
    "> In a world where every subject matter can have a data-supported treatment, where computational devices are omnipresent and pervasive, the union of natural language and computation creates compelling communication and learning opportunities.\n",
    "\n",
    "If you are familiar with Jupyter notebooks then skip ahead to the main content (*Introduction to multivariate data analysis*). Otherwise, the following is a quick guide to navigating and interacting with the notebook."
   ]
  },
  {
   "cell_type": "markdown",
   "id": "interested-radar",
   "metadata": {},
   "source": [
    "### Interaction\n",
    "\n",
    "**You only need to execute the code that is contained in sections which are marked by `[]`.**\n",
    "\n",
    "To execute a cell, click or double-click the cell and press the `Play` button next to the cell or select the `Run` button on the top toolbar (*Runtime > Run the focused cell*); you can also use the keyboard shortcuts `Shift + Enter` or `Ctrl + Enter`).\n",
    "\n",
    "Try it for yourself:"
   ]
  },
  {
   "cell_type": "code",
   "execution_count": null,
   "id": "dominican-hardware",
   "metadata": {},
   "outputs": [],
   "source": [
    "name <- readline(prompt=\"Enter name: \")\n",
    "print(paste(\"Hi,\", name, \"enjoy learning more about R and multivariate analysis!\"))"
   ]
  },
  {
   "cell_type": "markdown",
   "id": "through-storm",
   "metadata": {},
   "source": [
    "Notebooks are sequential, meaning code should be executed in order (top to bottom). For example, the following code won't work:"
   ]
  },
  {
   "cell_type": "code",
   "execution_count": null,
   "id": "outstanding-bulgaria",
   "metadata": {},
   "outputs": [],
   "source": [
    "x * 5"
   ]
  },
  {
   "cell_type": "markdown",
   "id": "handmade-madagascar",
   "metadata": {},
   "source": [
    "As the error message suggests, there is no object (variable) called `x`, therefore we cannot do any calculations with it. \n",
    "\n",
    "Let's try a sequential approach:"
   ]
  },
  {
   "cell_type": "code",
   "execution_count": null,
   "id": "addressed-assumption",
   "metadata": {},
   "outputs": [],
   "source": [
    "x <- 10 # create an object called 'x' and give it the value '10'"
   ]
  },
  {
   "cell_type": "code",
   "execution_count": null,
   "id": "crucial-implement",
   "metadata": {},
   "outputs": [],
   "source": [
    "x * 5 # multiply 'x' by 5"
   ]
  },
  {
   "cell_type": "markdown",
   "id": "covered-round",
   "metadata": {},
   "source": [
    "### Learn more\n",
    "\n",
    "Jupyter notebooks provide rich, flexible features for conducting and documenting your data analysis workflow. To learn more about additional notebook features, we recommend working through some of the <a href=\"https://github.com/darribas/gds19/blob/master/content/labs/lab_00.ipynb\" target=_blank>materials</a> provided by Dani Arribas-Bel at the University of Liverpool. "
   ]
  },
  {
   "cell_type": "markdown",
   "id": "floppy-escape",
   "metadata": {},
   "source": [
    "### Learner input\n",
    "\n",
    "Throughout the lessons there are times when you need to do the following activities:\n",
    "* **TASK:** A coding task for you to complete (e.g. analyse different variables).\n",
    "* **QUESTION:** A question regarding your interpretation of some code or a technique (e.g. what is the piece of code doing?).\n",
    "* **EXERCISE:** A data analysis challenge for you to complete."
   ]
  },
  {
   "cell_type": "markdown",
   "id": "democratic-office",
   "metadata": {},
   "source": [
    "## Introduction to visualisation"
   ]
  },
  {
   "cell_type": "markdown",
   "id": "respected-comedy",
   "metadata": {},
   "source": [
    "In our previous analyses we produced a range of visualisations (graphs and tables) to explore the distribution of single variables and summarise associations between two or more variables. The resulting visualisations were basic and often adopted the default colour and font schemes, did not include titles or axis labels, legends or notes explaining the contents of the graph etc. \n",
    "\n",
    "In this lesson we focus on how to produce visualisations that are of sufficient quality for including in academic outputs, including your assessment report. We will do this in two ways:\n",
    "1. With base *R* i.e., using commands that come as standard with the *R* programming language\n",
    "2. With `ggplot2` i.e., using commands written and shared by other *R* users to improve the quality of base *R* graphs\n",
    "\n",
    "The latter is more powerful and flexible, giving you a tremendous number of options for customising your visualisations. However it does require you to install a new package (`ggplot2`) and learn how to write commands using a different 'grammar'. Base *R* offers less flexibility and fewer options, but is simpler to write and can still produce clean, informative visualisations.\n",
    "\n",
    "The choice of approach is completely up to you."
   ]
  },
  {
   "cell_type": "markdown",
   "id": "standing-welding",
   "metadata": {},
   "source": [
    "## Visualising distributions"
   ]
  },
  {
   "cell_type": "markdown",
   "id": "ec76267e-5d51-42ff-a97d-1e386a5805bb",
   "metadata": {},
   "source": [
    "### Preliminaries"
   ]
  },
  {
   "cell_type": "markdown",
   "id": "0ef89885-ba1a-4f95-a9b3-212da0ea3c73",
   "metadata": {},
   "source": [
    "We need to install some additional packages to improve our visualisations. The first grants access to a suite of colour schemes (palettes) we can use to distinguish categories in a bar chart for example. The second is the `ggplot2` package that contains a dedicated, flexible set of commands for producing high-quality visualisations. The third is the `cowplot` package that provides a unified theme for applying to your visualisations (e.g., a specific font, text size, colour scheme etc)."
   ]
  },
  {
   "cell_type": "code",
   "execution_count": 21,
   "id": "61e19c6b-3279-450a-9c22-257a8480e89b",
   "metadata": {},
   "outputs": [
    {
     "name": "stderr",
     "output_type": "stream",
     "text": [
      "Installing package into 'C:/Users/diarm/AppData/Local/R/win-library/4.3'\n",
      "(as 'lib' is unspecified)\n",
      "\n"
     ]
    },
    {
     "name": "stdout",
     "output_type": "stream",
     "text": [
      "package 'cowplot' successfully unpacked and MD5 sums checked\n",
      "\n",
      "The downloaded binary packages are in\n",
      "\tC:\\Users\\diarm\\AppData\\Local\\Temp\\Rtmp2n3t1N\\downloaded_packages\n"
     ]
    }
   ],
   "source": [
    "# install.packages(\"RColorBrewer\")\n",
    "# install.packages(\"ggplot2\")\n",
    "# install.packages(\"cowplot\")"
   ]
  },
  {
   "cell_type": "code",
   "execution_count": 10,
   "id": "c6a05c3a-8efa-4248-9b68-a768e748cf98",
   "metadata": {},
   "outputs": [
    {
     "data": {
      "image/png": "[encoded data removed]",
      "text/plain": [
       "plot without title"
      ]
     },
     "metadata": {
      "image/png": {
       "height": 420,
       "width": 420
      }
     },
     "output_type": "display_data"
    }
   ],
   "source": [
    "library(RColorBrewer)\n",
    "display.brewer.all() # view available colour palettes"
   ]
  },
  {
   "cell_type": "code",
   "execution_count": 12,
   "id": "3a7779c8-372c-4b9a-a145-e1d50e572dd3",
   "metadata": {},
   "outputs": [],
   "source": [
    "library(ggplot2)"
   ]
  },
  {
   "cell_type": "code",
   "execution_count": 22,
   "id": "7c5a9f76-eea8-436b-b773-e496ff430058",
   "metadata": {},
   "outputs": [],
   "source": [
    "library(cowplot)"
   ]
  },
  {
   "cell_type": "markdown",
   "id": "coordinate-jonathan",
   "metadata": {},
   "source": [
    "### Importing data"
   ]
  },
  {
   "cell_type": "markdown",
   "id": "3df12992-86bf-4047-bd85-156c7ac8bd3b",
   "metadata": {},
   "source": [
    "The first step is to import the *British Social Attitudes survey* data for analysis."
   ]
  },
  {
   "cell_type": "code",
   "execution_count": 1,
   "id": "869406e4-0e2d-4d20-a6a5-85223a01aa09",
   "metadata": {},
   "outputs": [
    {
     "data": {
      "text/html": [
       "<table class=\"dataframe\">\n",
       "<caption>A data.frame: 6 × 26</caption>\n",
       "<thead>\n",
       "\t<tr><th></th><th scope=col>Sserial</th><th scope=col>WtFactor</th><th scope=col>RSex</th><th scope=col>RAgeCat</th><th scope=col>eq_inc_quintiles</th><th scope=col>RClassGp</th><th scope=col>HEdQual3</th><th scope=col>Married</th><th scope=col>ChildHh</th><th scope=col>skipmeal</th><th scope=col>⋯</th><th scope=col>Dole</th><th scope=col>TaxSpend</th><th scope=col>MuchPov</th><th scope=col>Poverty1</th><th scope=col>Poverty2</th><th scope=col>NatFrEst</th><th scope=col>incdiffs</th><th scope=col>welfare2</th><th scope=col>leftrigh</th><th scope=col>libauth</th></tr>\n",
       "\t<tr><th></th><th scope=col>&lt;int&gt;</th><th scope=col>&lt;dbl&gt;</th><th scope=col>&lt;int&gt;</th><th scope=col>&lt;int&gt;</th><th scope=col>&lt;int&gt;</th><th scope=col>&lt;int&gt;</th><th scope=col>&lt;int&gt;</th><th scope=col>&lt;int&gt;</th><th scope=col>&lt;int&gt;</th><th scope=col>&lt;int&gt;</th><th scope=col>⋯</th><th scope=col>&lt;int&gt;</th><th scope=col>&lt;int&gt;</th><th scope=col>&lt;int&gt;</th><th scope=col>&lt;int&gt;</th><th scope=col>&lt;int&gt;</th><th scope=col>&lt;int&gt;</th><th scope=col>&lt;int&gt;</th><th scope=col>&lt;dbl&gt;</th><th scope=col>&lt;dbl&gt;</th><th scope=col>&lt;dbl&gt;</th></tr>\n",
       "</thead>\n",
       "<tbody>\n",
       "\t<tr><th scope=row>1</th><td>310001</td><td>0.9119594</td><td>2</td><td>6</td><td>-1</td><td>1</td><td>2</td><td>1</td><td>2</td><td>-1</td><td>⋯</td><td>3</td><td>3</td><td>8</td><td>2</td><td>1</td><td> 5</td><td>-1</td><td>2.500</td><td>2.4</td><td>3.500000</td></tr>\n",
       "\t<tr><th scope=row>2</th><td>310002</td><td>0.4439626</td><td>2</td><td>3</td><td> 5</td><td>1</td><td>2</td><td>2</td><td>2</td><td> 1</td><td>⋯</td><td>2</td><td>3</td><td>2</td><td>2</td><td>2</td><td>30</td><td> 2</td><td>3.125</td><td>2.0</td><td>3.833333</td></tr>\n",
       "\t<tr><th scope=row>3</th><td>310003</td><td>1.2182741</td><td>2</td><td>4</td><td>-1</td><td>1</td><td>3</td><td>1</td><td>1</td><td>-1</td><td>⋯</td><td>2</td><td>2</td><td>2</td><td>2</td><td>2</td><td>50</td><td>-1</td><td>3.125</td><td>2.2</td><td>4.166667</td></tr>\n",
       "\t<tr><th scope=row>4</th><td>310004</td><td>1.5839969</td><td>1</td><td>2</td><td> 4</td><td>1</td><td>2</td><td>4</td><td>2</td><td>-1</td><td>⋯</td><td>3</td><td>3</td><td>2</td><td>2</td><td>1</td><td>50</td><td>-1</td><td>2.250</td><td>3.2</td><td>2.166667</td></tr>\n",
       "\t<tr><th scope=row>5</th><td>310005</td><td>0.4743091</td><td>1</td><td>6</td><td>-1</td><td>5</td><td>4</td><td>4</td><td>2</td><td> 1</td><td>⋯</td><td>2</td><td>3</td><td>1</td><td>2</td><td>1</td><td>50</td><td> 4</td><td>3.375</td><td>1.6</td><td>4.666667</td></tr>\n",
       "\t<tr><th scope=row>6</th><td>310006</td><td>1.1363125</td><td>1</td><td>4</td><td> 1</td><td>3</td><td>8</td><td>1</td><td>1</td><td>-1</td><td>⋯</td><td>2</td><td>2</td><td>1</td><td>1</td><td>1</td><td>10</td><td>-1</td><td>2.875</td><td>1.8</td><td>3.666667</td></tr>\n",
       "</tbody>\n",
       "</table>\n"
      ],
      "text/latex": [
       "A data.frame: 6 × 26\n",
       "\\begin{tabular}{r|lllllllllllllllllllll}\n",
       "  & Sserial & WtFactor & RSex & RAgeCat & eq\\_inc\\_quintiles & RClassGp & HEdQual3 & Married & ChildHh & skipmeal & ⋯ & Dole & TaxSpend & MuchPov & Poverty1 & Poverty2 & NatFrEst & incdiffs & welfare2 & leftrigh & libauth\\\\\n",
       "  & <int> & <dbl> & <int> & <int> & <int> & <int> & <int> & <int> & <int> & <int> & ⋯ & <int> & <int> & <int> & <int> & <int> & <int> & <int> & <dbl> & <dbl> & <dbl>\\\\\n",
       "\\hline\n",
       "\t1 & 310001 & 0.9119594 & 2 & 6 & -1 & 1 & 2 & 1 & 2 & -1 & ⋯ & 3 & 3 & 8 & 2 & 1 &  5 & -1 & 2.500 & 2.4 & 3.500000\\\\\n",
       "\t2 & 310002 & 0.4439626 & 2 & 3 &  5 & 1 & 2 & 2 & 2 &  1 & ⋯ & 2 & 3 & 2 & 2 & 2 & 30 &  2 & 3.125 & 2.0 & 3.833333\\\\\n",
       "\t3 & 310003 & 1.2182741 & 2 & 4 & -1 & 1 & 3 & 1 & 1 & -1 & ⋯ & 2 & 2 & 2 & 2 & 2 & 50 & -1 & 3.125 & 2.2 & 4.166667\\\\\n",
       "\t4 & 310004 & 1.5839969 & 1 & 2 &  4 & 1 & 2 & 4 & 2 & -1 & ⋯ & 3 & 3 & 2 & 2 & 1 & 50 & -1 & 2.250 & 3.2 & 2.166667\\\\\n",
       "\t5 & 310005 & 0.4743091 & 1 & 6 & -1 & 5 & 4 & 4 & 2 &  1 & ⋯ & 2 & 3 & 1 & 2 & 1 & 50 &  4 & 3.375 & 1.6 & 4.666667\\\\\n",
       "\t6 & 310006 & 1.1363125 & 1 & 4 &  1 & 3 & 8 & 1 & 1 & -1 & ⋯ & 2 & 2 & 1 & 1 & 1 & 10 & -1 & 2.875 & 1.8 & 3.666667\\\\\n",
       "\\end{tabular}\n"
      ],
      "text/markdown": [
       "\n",
       "A data.frame: 6 × 26\n",
       "\n",
       "| <!--/--> | Sserial &lt;int&gt; | WtFactor &lt;dbl&gt; | RSex &lt;int&gt; | RAgeCat &lt;int&gt; | eq_inc_quintiles &lt;int&gt; | RClassGp &lt;int&gt; | HEdQual3 &lt;int&gt; | Married &lt;int&gt; | ChildHh &lt;int&gt; | skipmeal &lt;int&gt; | ⋯ ⋯ | Dole &lt;int&gt; | TaxSpend &lt;int&gt; | MuchPov &lt;int&gt; | Poverty1 &lt;int&gt; | Poverty2 &lt;int&gt; | NatFrEst &lt;int&gt; | incdiffs &lt;int&gt; | welfare2 &lt;dbl&gt; | leftrigh &lt;dbl&gt; | libauth &lt;dbl&gt; |\n",
       "|---|---|---|---|---|---|---|---|---|---|---|---|---|---|---|---|---|---|---|---|---|---|\n",
       "| 1 | 310001 | 0.9119594 | 2 | 6 | -1 | 1 | 2 | 1 | 2 | -1 | ⋯ | 3 | 3 | 8 | 2 | 1 |  5 | -1 | 2.500 | 2.4 | 3.500000 |\n",
       "| 2 | 310002 | 0.4439626 | 2 | 3 |  5 | 1 | 2 | 2 | 2 |  1 | ⋯ | 2 | 3 | 2 | 2 | 2 | 30 |  2 | 3.125 | 2.0 | 3.833333 |\n",
       "| 3 | 310003 | 1.2182741 | 2 | 4 | -1 | 1 | 3 | 1 | 1 | -1 | ⋯ | 2 | 2 | 2 | 2 | 2 | 50 | -1 | 3.125 | 2.2 | 4.166667 |\n",
       "| 4 | 310004 | 1.5839969 | 1 | 2 |  4 | 1 | 2 | 4 | 2 | -1 | ⋯ | 3 | 3 | 2 | 2 | 1 | 50 | -1 | 2.250 | 3.2 | 2.166667 |\n",
       "| 5 | 310005 | 0.4743091 | 1 | 6 | -1 | 5 | 4 | 4 | 2 |  1 | ⋯ | 2 | 3 | 1 | 2 | 1 | 50 |  4 | 3.375 | 1.6 | 4.666667 |\n",
       "| 6 | 310006 | 1.1363125 | 1 | 4 |  1 | 3 | 8 | 1 | 1 | -1 | ⋯ | 2 | 2 | 1 | 1 | 1 | 10 | -1 | 2.875 | 1.8 | 3.666667 |\n",
       "\n"
      ],
      "text/plain": [
       "  Sserial WtFactor  RSex RAgeCat eq_inc_quintiles RClassGp HEdQual3 Married\n",
       "1 310001  0.9119594 2    6       -1               1        2        1      \n",
       "2 310002  0.4439626 2    3        5               1        2        2      \n",
       "3 310003  1.2182741 2    4       -1               1        3        1      \n",
       "4 310004  1.5839969 1    2        4               1        2        4      \n",
       "5 310005  0.4743091 1    6       -1               5        4        4      \n",
       "6 310006  1.1363125 1    4        1               3        8        1      \n",
       "  ChildHh skipmeal ⋯ Dole TaxSpend MuchPov Poverty1 Poverty2 NatFrEst incdiffs\n",
       "1 2       -1       ⋯ 3    3        8       2        1         5       -1      \n",
       "2 2        1       ⋯ 2    3        2       2        2        30        2      \n",
       "3 1       -1       ⋯ 2    2        2       2        2        50       -1      \n",
       "4 2       -1       ⋯ 3    3        2       2        1        50       -1      \n",
       "5 2        1       ⋯ 2    3        1       2        1        50        4      \n",
       "6 1       -1       ⋯ 2    2        1       1        1        10       -1      \n",
       "  welfare2 leftrigh libauth \n",
       "1 2.500    2.4      3.500000\n",
       "2 3.125    2.0      3.833333\n",
       "3 3.125    2.2      4.166667\n",
       "4 2.250    3.2      2.166667\n",
       "5 3.375    1.6      4.666667\n",
       "6 2.875    1.8      3.666667"
      ]
     },
     "metadata": {},
     "output_type": "display_data"
    }
   ],
   "source": [
    "bsa2019 <- read.table(\"https://raw.githubusercontent.com/DiarmuidM/data-analysis-for-the-social-sciences-2023/main/lessons/data/bsa2019_poverty_open.tab\", header=TRUE, na=\"NA\", sep=\"\\t\")\n",
    "head(bsa2019) # view the first six observations"
   ]
  },
  {
   "cell_type": "code",
   "execution_count": 2,
   "id": "468f3e6d-e375-4949-a91b-7c111191d24f",
   "metadata": {},
   "outputs": [
    {
     "data": {
      "text/html": [
       "<style>\n",
       ".list-inline {list-style: none; margin:0; padding: 0}\n",
       ".list-inline>li {display: inline-block}\n",
       ".list-inline>li:not(:last-child)::after {content: \"\\00b7\"; padding: 0 .5ex}\n",
       "</style>\n",
       "<ol class=list-inline><li>'Sserial'</li><li>'WtFactor'</li><li>'RSex'</li><li>'RAgeCat'</li><li>'eq_inc_quintiles'</li><li>'RClassGp'</li><li>'HEdQual3'</li><li>'Married'</li><li>'ChildHh'</li><li>'skipmeal'</li><li>'paptype'</li><li>'SMNews'</li><li>'PartyId2'</li><li>'Politics'</li><li>'SocTrust'</li><li>'Spend1'</li><li>'Dole'</li><li>'TaxSpend'</li><li>'MuchPov'</li><li>'Poverty1'</li><li>'Poverty2'</li><li>'NatFrEst'</li><li>'incdiffs'</li><li>'welfare2'</li><li>'leftrigh'</li><li>'libauth'</li></ol>\n"
      ],
      "text/latex": [
       "\\begin{enumerate*}\n",
       "\\item 'Sserial'\n",
       "\\item 'WtFactor'\n",
       "\\item 'RSex'\n",
       "\\item 'RAgeCat'\n",
       "\\item 'eq\\_inc\\_quintiles'\n",
       "\\item 'RClassGp'\n",
       "\\item 'HEdQual3'\n",
       "\\item 'Married'\n",
       "\\item 'ChildHh'\n",
       "\\item 'skipmeal'\n",
       "\\item 'paptype'\n",
       "\\item 'SMNews'\n",
       "\\item 'PartyId2'\n",
       "\\item 'Politics'\n",
       "\\item 'SocTrust'\n",
       "\\item 'Spend1'\n",
       "\\item 'Dole'\n",
       "\\item 'TaxSpend'\n",
       "\\item 'MuchPov'\n",
       "\\item 'Poverty1'\n",
       "\\item 'Poverty2'\n",
       "\\item 'NatFrEst'\n",
       "\\item 'incdiffs'\n",
       "\\item 'welfare2'\n",
       "\\item 'leftrigh'\n",
       "\\item 'libauth'\n",
       "\\end{enumerate*}\n"
      ],
      "text/markdown": [
       "1. 'Sserial'\n",
       "2. 'WtFactor'\n",
       "3. 'RSex'\n",
       "4. 'RAgeCat'\n",
       "5. 'eq_inc_quintiles'\n",
       "6. 'RClassGp'\n",
       "7. 'HEdQual3'\n",
       "8. 'Married'\n",
       "9. 'ChildHh'\n",
       "10. 'skipmeal'\n",
       "11. 'paptype'\n",
       "12. 'SMNews'\n",
       "13. 'PartyId2'\n",
       "14. 'Politics'\n",
       "15. 'SocTrust'\n",
       "16. 'Spend1'\n",
       "17. 'Dole'\n",
       "18. 'TaxSpend'\n",
       "19. 'MuchPov'\n",
       "20. 'Poverty1'\n",
       "21. 'Poverty2'\n",
       "22. 'NatFrEst'\n",
       "23. 'incdiffs'\n",
       "24. 'welfare2'\n",
       "25. 'leftrigh'\n",
       "26. 'libauth'\n",
       "\n",
       "\n"
      ],
      "text/plain": [
       " [1] \"Sserial\"          \"WtFactor\"         \"RSex\"             \"RAgeCat\"         \n",
       " [5] \"eq_inc_quintiles\" \"RClassGp\"         \"HEdQual3\"         \"Married\"         \n",
       " [9] \"ChildHh\"          \"skipmeal\"         \"paptype\"          \"SMNews\"          \n",
       "[13] \"PartyId2\"         \"Politics\"         \"SocTrust\"         \"Spend1\"          \n",
       "[17] \"Dole\"             \"TaxSpend\"         \"MuchPov\"          \"Poverty1\"        \n",
       "[21] \"Poverty2\"         \"NatFrEst\"         \"incdiffs\"         \"welfare2\"        \n",
       "[25] \"leftrigh\"         \"libauth\"         "
      ]
     },
     "metadata": {},
     "output_type": "display_data"
    }
   ],
   "source": [
    "names(bsa2019)"
   ]
  },
  {
   "cell_type": "markdown",
   "id": "26fe5f37-406f-4e9e-a756-bc7f833ab09b",
   "metadata": {},
   "source": [
    "### Data cleaning"
   ]
  },
  {
   "cell_type": "markdown",
   "id": "5d6655e0-e455-4b37-8307-074e3e89d255",
   "metadata": {},
   "source": [
    "There are a number of important steps that need to be executed before proceeding with the analysis:\n",
    "* Handling missing values\n",
    "* Labelling values of categorical variables\n",
    "\n",
    "We cover these techniques in a separate notebook: [Data Cleaning](./dass-bsa-data-cleaning.ipynb) \n",
    "\n",
    "**Please note that you will be expected to perform these tasks for your own analysis.**"
   ]
  },
  {
   "cell_type": "code",
   "execution_count": 3,
   "id": "c38f11ba-149f-4ea0-a4f2-54eedb46bead",
   "metadata": {},
   "outputs": [],
   "source": [
    "bsa2019$welfare2[bsa2019$welfare2<1 | bsa2019$welfare2>5] <- NA # convert \"-1\" and \"9\" to missing"
   ]
  },
  {
   "cell_type": "code",
   "execution_count": 4,
   "id": "4997158e-a346-426e-ae8f-28a31ae591cf",
   "metadata": {},
   "outputs": [],
   "source": [
    "bsa2019$NatFrEst[bsa2019$NatFrEst>100] <- NA # convert \"998\" and \"999\" to missing"
   ]
  },
  {
   "cell_type": "code",
   "execution_count": 5,
   "id": "79762905-9455-4f89-a2fb-9561bcb0dcf0",
   "metadata": {},
   "outputs": [],
   "source": [
    "bsa2019$RSex <- factor(bsa2019$RSex, levels = c(1,2), labels = c(\"Male\", \"Female\"))"
   ]
  },
  {
   "cell_type": "code",
   "execution_count": 6,
   "id": "1a7fc09c-2c14-4707-8a50-3e289cd678a0",
   "metadata": {},
   "outputs": [],
   "source": [
    "bsa2019$RAgeCat <- factor(bsa2019$RAgeCat, levels = c(1,2,3,4,5,6,7), labels = c(\"18-24\", \"25-34\", \"35-44\", \"45-54\", \"55-59\", \"60-64\", \"65+\"))"
   ]
  },
  {
   "cell_type": "code",
   "execution_count": 7,
   "id": "3e4a6566-865a-4503-839e-9b1e5c8afd6f",
   "metadata": {},
   "outputs": [],
   "source": [
    "bsa2019$Married <- factor(bsa2019$Married, levels = c(1,2,3,4), labels = c(\"Married/living as married\", \n",
    "                                                                               \"Separated/divorced\", \n",
    "                                                                               \"Widowed\", \n",
    "                                                                               \"Never married\"))"
   ]
  },
  {
   "cell_type": "code",
   "execution_count": 8,
   "id": "3c86fc05-88c5-4ce2-a33d-32ea25c12c07",
   "metadata": {},
   "outputs": [],
   "source": [
    "bsa2019$HEdQual3 <- factor(bsa2019$HEdQual3, levels = c(1,2,3,4), labels = c(\"Degree\", \"Below degree / A level\", \"O level\", \"No qual\"))"
   ]
  },
  {
   "cell_type": "markdown",
   "id": "wired-found",
   "metadata": {},
   "source": [
    "### Univariate analyses"
   ]
  },
  {
   "cell_type": "markdown",
   "id": "complicated-ebony",
   "metadata": {},
   "source": [
    "#### Categorical variables"
   ]
  },
  {
   "cell_type": "markdown",
   "id": "6a971bfe-e736-48bb-8433-06951d801e65",
   "metadata": {},
   "source": [
    "##### `base R`"
   ]
  },
  {
   "cell_type": "markdown",
   "id": "e76fe085-c360-48ed-a88c-cc8df62ad858",
   "metadata": {},
   "source": [
    "##### `ggplot2`"
   ]
  },
  {
   "cell_type": "markdown",
   "id": "d460768e-526b-480a-8d3f-42686e914942",
   "metadata": {},
   "source": [
    "The first step is to specify the plot fundamentals (data and variables), and store it as a new object (*p*)"
   ]
  },
  {
   "cell_type": "code",
   "execution_count": 13,
   "id": "1029f89b-dd70-4e26-9561-dc61287ee42e",
   "metadata": {},
   "outputs": [],
   "source": [
    "p <- ggplot(data = bsa2019,\n",
    "       mapping = aes(x = Married))"
   ]
  },
  {
   "cell_type": "markdown",
   "id": "a748f7a6-da9c-4290-9c1a-2b5ebd304a0e",
   "metadata": {},
   "source": [
    "Then add on the type of visualisation you want to produce (e.g., bar chart, pie chart)"
   ]
  },
  {
   "cell_type": "code",
   "execution_count": 17,
   "id": "32ccdded-a871-4e3e-b3ac-7fa288c54825",
   "metadata": {},
   "outputs": [
    {
     "data": {
      "image/png": "[encoded data removed]",
      "text/plain": [
       "plot without title"
      ]
     },
     "metadata": {
      "image/png": {
       "height": 420,
       "width": 420
      }
     },
     "output_type": "display_data"
    }
   ],
   "source": [
    "p + geom_bar(mapping = aes(y = after_stat(prop), , group = 1)) # graph proportions instead of counts"
   ]
  },
  {
   "cell_type": "markdown",
   "id": "2b907af8-39a0-4873-be98-cf21873b9a0c",
   "metadata": {},
   "source": [
    "Finally improve the presentation of the graph using titles, colour schemes etc"
   ]
  },
  {
   "cell_type": "code",
   "execution_count": 25,
   "id": "95494c5b-92de-47cf-a366-953cecef04db",
   "metadata": {},
   "outputs": [],
   "source": [
    "fig1 <- p + geom_bar(mapping = aes(y = after_stat(prop), , group = 1)) +\n",
    "    coord_flip() + # flip the graph from vertical to horizontal\n",
    "    theme_cowplot() + # select a visualisation theme - others include theme_bw(), theme_classic()\n",
    "    labs(x = \"Relationship status\", y = \"Proportion of sample\", title = \"Distribution of relationship status\", subtitle = \"\", \n",
    "         caption = \"British Social Attitudes survey 2019, n=3,224\") # add labels, titles, notes etc"
   ]
  },
  {
   "cell_type": "code",
   "execution_count": 26,
   "id": "f1319e3d-7eca-42e3-ae31-fcc2528c1bb2",
   "metadata": {},
   "outputs": [
    {
     "data": {
      "image/png": "[encoded data removed]",
      "text/plain": [
       "plot without title"
      ]
     },
     "metadata": {
      "image/png": {
       "height": 420,
       "width": 420
      }
     },
     "output_type": "display_data"
    }
   ],
   "source": [
    "fig1"
   ]
  },
  {
   "cell_type": "markdown",
   "id": "e3358240-b0f8-4541-b2f6-4414a58a80df",
   "metadata": {},
   "source": [
    "#### Numeric variables"
   ]
  },
  {
   "cell_type": "markdown",
   "id": "8f688574-8289-4a6f-bda4-77822dbada8c",
   "metadata": {},
   "source": [
    "##### `ggplot2`"
   ]
  },
  {
   "cell_type": "code",
   "execution_count": 9,
   "id": "equal-shuttle",
   "metadata": {},
   "outputs": [
    {
     "data": {
      "text/plain": [
       "   Min. 1st Qu.  Median    Mean 3rd Qu.    Max.    NA's \n",
       "  1.000   2.308   2.750   2.731   3.125   5.000     642 "
      ]
     },
     "metadata": {},
     "output_type": "display_data"
    }
   ],
   "source": [
    "summary(bsa2019$welfare2)"
   ]
  },
  {
   "cell_type": "code",
   "execution_count": 31,
   "id": "spiritual-tunisia",
   "metadata": {},
   "outputs": [],
   "source": [
    "p <- ggplot(data = bsa2019,\n",
    "       mapping = aes(x = welfare2))"
   ]
  },
  {
   "cell_type": "code",
   "execution_count": 48,
   "id": "promotional-horror",
   "metadata": {},
   "outputs": [],
   "source": [
    "fig2 <- p + geom_histogram(binwidth=.5, color = \"black\", fill=\"lightgrey\") + # \n",
    "    theme_cowplot() +\n",
    "    labs(x = \"Attitude to welfare\", y = \"Number of sample\", title = \"Distribution of attitude to welfare\", subtitle = \"\", \n",
    "         caption = \"British Social Attitudes survey 2019, n=3,224\") # add labels, titles, notes etc"
   ]
  },
  {
   "cell_type": "code",
   "execution_count": 49,
   "id": "82689051-82cb-45fa-9fd9-2acf210d63e5",
   "metadata": {},
   "outputs": [
    {
     "name": "stderr",
     "output_type": "stream",
     "text": [
      "Warning message:\n",
      "\"\u001b[1m\u001b[22mRemoved 642 rows containing non-finite values (`stat_bin()`).\"\n"
     ]
    },
    {
     "data": {
      "image/png": "[encoded data removed]",
      "text/plain": [
       "plot without title"
      ]
     },
     "metadata": {
      "image/png": {
       "height": 420,
       "width": 420
      }
     },
     "output_type": "display_data"
    }
   ],
   "source": [
    "fig2"
   ]
  },
  {
   "cell_type": "markdown",
   "id": "greater-tactics",
   "metadata": {},
   "source": [
    "Recall that the appropriate measure of association when you have one categorical and one numeric variable is:\n",
    "* *Eta squared*\n",
    "\n",
    "This tells us the strength of the association but not the direction (we need to infer this from the summary tables above). *Eta squared* coefficient ranges from 0 to 1, with higher values representing stronger associations."
   ]
  },
  {
   "cell_type": "markdown",
   "id": "banned-austria",
   "metadata": {},
   "source": [
    "First let's create separate datasets for each age group (I know, sorry, *R* is a lot of work in this regard):"
   ]
  },
  {
   "cell_type": "code",
   "execution_count": 16,
   "id": "clinical-hanging",
   "metadata": {},
   "outputs": [],
   "source": [
    "bsa2019_18_24 <- bsa2019[bsa2019$RAgeCat==\"18-24\",]\n",
    "bsa2019_25_34 <- bsa2019[bsa2019$RAgeCat==\"25-34\",]\n",
    "bsa2019_35_44 <- bsa2019[bsa2019$RAgeCat==\"35-44\",]\n",
    "bsa2019_45_54 <- bsa2019[bsa2019$RAgeCat==\"45-54\",]\n",
    "bsa2019_55_59 <- bsa2019[bsa2019$RAgeCat==\"55-59\",]\n",
    "bsa2019_60_64 <- bsa2019[bsa2019$RAgeCat==\"60-64\",]\n",
    "bsa2019_65_over <- bsa2019[bsa2019$RAgeCat==\"65+\",]"
   ]
  },
  {
   "cell_type": "markdown",
   "id": "brilliant-genealogy",
   "metadata": {},
   "source": [
    "And now let's calculate our measure of association for each age group."
   ]
  },
  {
   "cell_type": "code",
   "execution_count": null,
   "id": "c9250623",
   "metadata": {},
   "outputs": [],
   "source": [
    "#install.packages(\"lsr\") # install the necessary package - only needs to be done once"
   ]
  },
  {
   "cell_type": "code",
   "execution_count": 17,
   "id": "molecular-current",
   "metadata": {},
   "outputs": [],
   "source": [
    "library(lsr) # import the package containing the `etaSquared()` command"
   ]
  },
  {
   "cell_type": "code",
   "execution_count": 18,
   "id": "successful-jordan",
   "metadata": {},
   "outputs": [
    {
     "data": {
      "text/html": [
       "<table class=\"dataframe\">\n",
       "<caption>A matrix: 1 × 2 of type dbl</caption>\n",
       "<thead>\n",
       "\t<tr><th></th><th scope=col>eta.sq</th><th scope=col>eta.sq.part</th></tr>\n",
       "</thead>\n",
       "<tbody>\n",
       "\t<tr><th scope=row>RSex</th><td>0.008042395</td><td>0.008042395</td></tr>\n",
       "</tbody>\n",
       "</table>\n"
      ],
      "text/latex": [
       "A matrix: 1 × 2 of type dbl\n",
       "\\begin{tabular}{r|ll}\n",
       "  & eta.sq & eta.sq.part\\\\\n",
       "\\hline\n",
       "\tRSex & 0.008042395 & 0.008042395\\\\\n",
       "\\end{tabular}\n"
      ],
      "text/markdown": [
       "\n",
       "A matrix: 1 × 2 of type dbl\n",
       "\n",
       "| <!--/--> | eta.sq | eta.sq.part |\n",
       "|---|---|---|\n",
       "| RSex | 0.008042395 | 0.008042395 |\n",
       "\n"
      ],
      "text/plain": [
       "     eta.sq      eta.sq.part\n",
       "RSex 0.008042395 0.008042395"
      ]
     },
     "metadata": {},
     "output_type": "display_data"
    }
   ],
   "source": [
    "model <- aov(welfare2 ~ RSex, data = bsa2019_18_24)\n",
    "etaSquared(model)"
   ]
  },
  {
   "cell_type": "code",
   "execution_count": 19,
   "id": "dutch-emergency",
   "metadata": {},
   "outputs": [
    {
     "data": {
      "text/html": [
       "<table class=\"dataframe\">\n",
       "<caption>A matrix: 1 × 2 of type dbl</caption>\n",
       "<thead>\n",
       "\t<tr><th></th><th scope=col>eta.sq</th><th scope=col>eta.sq.part</th></tr>\n",
       "</thead>\n",
       "<tbody>\n",
       "\t<tr><th scope=row>RSex</th><td>0.005550542</td><td>0.005550542</td></tr>\n",
       "</tbody>\n",
       "</table>\n"
      ],
      "text/latex": [
       "A matrix: 1 × 2 of type dbl\n",
       "\\begin{tabular}{r|ll}\n",
       "  & eta.sq & eta.sq.part\\\\\n",
       "\\hline\n",
       "\tRSex & 0.005550542 & 0.005550542\\\\\n",
       "\\end{tabular}\n"
      ],
      "text/markdown": [
       "\n",
       "A matrix: 1 × 2 of type dbl\n",
       "\n",
       "| <!--/--> | eta.sq | eta.sq.part |\n",
       "|---|---|---|\n",
       "| RSex | 0.005550542 | 0.005550542 |\n",
       "\n"
      ],
      "text/plain": [
       "     eta.sq      eta.sq.part\n",
       "RSex 0.005550542 0.005550542"
      ]
     },
     "metadata": {},
     "output_type": "display_data"
    }
   ],
   "source": [
    "model <- aov(welfare2 ~ RSex, data = bsa2019_25_34)\n",
    "etaSquared(model)"
   ]
  },
  {
   "cell_type": "code",
   "execution_count": 20,
   "id": "continent-hierarchy",
   "metadata": {},
   "outputs": [
    {
     "data": {
      "text/html": [
       "<table class=\"dataframe\">\n",
       "<caption>A matrix: 1 × 2 of type dbl</caption>\n",
       "<thead>\n",
       "\t<tr><th></th><th scope=col>eta.sq</th><th scope=col>eta.sq.part</th></tr>\n",
       "</thead>\n",
       "<tbody>\n",
       "\t<tr><th scope=row>RSex</th><td>7.734905e-05</td><td>7.734905e-05</td></tr>\n",
       "</tbody>\n",
       "</table>\n"
      ],
      "text/latex": [
       "A matrix: 1 × 2 of type dbl\n",
       "\\begin{tabular}{r|ll}\n",
       "  & eta.sq & eta.sq.part\\\\\n",
       "\\hline\n",
       "\tRSex & 7.734905e-05 & 7.734905e-05\\\\\n",
       "\\end{tabular}\n"
      ],
      "text/markdown": [
       "\n",
       "A matrix: 1 × 2 of type dbl\n",
       "\n",
       "| <!--/--> | eta.sq | eta.sq.part |\n",
       "|---|---|---|\n",
       "| RSex | 7.734905e-05 | 7.734905e-05 |\n",
       "\n"
      ],
      "text/plain": [
       "     eta.sq       eta.sq.part \n",
       "RSex 7.734905e-05 7.734905e-05"
      ]
     },
     "metadata": {},
     "output_type": "display_data"
    }
   ],
   "source": [
    "model <- aov(welfare2 ~ RSex, data = bsa2019_35_44)\n",
    "etaSquared(model)"
   ]
  },
  {
   "cell_type": "code",
   "execution_count": 21,
   "id": "stupid-supervision",
   "metadata": {},
   "outputs": [
    {
     "data": {
      "text/html": [
       "<table class=\"dataframe\">\n",
       "<caption>A matrix: 1 × 2 of type dbl</caption>\n",
       "<thead>\n",
       "\t<tr><th></th><th scope=col>eta.sq</th><th scope=col>eta.sq.part</th></tr>\n",
       "</thead>\n",
       "<tbody>\n",
       "\t<tr><th scope=row>RSex</th><td>1.034754e-05</td><td>1.034754e-05</td></tr>\n",
       "</tbody>\n",
       "</table>\n"
      ],
      "text/latex": [
       "A matrix: 1 × 2 of type dbl\n",
       "\\begin{tabular}{r|ll}\n",
       "  & eta.sq & eta.sq.part\\\\\n",
       "\\hline\n",
       "\tRSex & 1.034754e-05 & 1.034754e-05\\\\\n",
       "\\end{tabular}\n"
      ],
      "text/markdown": [
       "\n",
       "A matrix: 1 × 2 of type dbl\n",
       "\n",
       "| <!--/--> | eta.sq | eta.sq.part |\n",
       "|---|---|---|\n",
       "| RSex | 1.034754e-05 | 1.034754e-05 |\n",
       "\n"
      ],
      "text/plain": [
       "     eta.sq       eta.sq.part \n",
       "RSex 1.034754e-05 1.034754e-05"
      ]
     },
     "metadata": {},
     "output_type": "display_data"
    }
   ],
   "source": [
    "model <- aov(welfare2 ~ RSex, data = bsa2019_45_54)\n",
    "etaSquared(model)"
   ]
  },
  {
   "cell_type": "code",
   "execution_count": 23,
   "id": "superior-trustee",
   "metadata": {},
   "outputs": [
    {
     "data": {
      "text/html": [
       "<table class=\"dataframe\">\n",
       "<caption>A matrix: 1 × 2 of type dbl</caption>\n",
       "<thead>\n",
       "\t<tr><th></th><th scope=col>eta.sq</th><th scope=col>eta.sq.part</th></tr>\n",
       "</thead>\n",
       "<tbody>\n",
       "\t<tr><th scope=row>RSex</th><td>0.003103004</td><td>0.003103004</td></tr>\n",
       "</tbody>\n",
       "</table>\n"
      ],
      "text/latex": [
       "A matrix: 1 × 2 of type dbl\n",
       "\\begin{tabular}{r|ll}\n",
       "  & eta.sq & eta.sq.part\\\\\n",
       "\\hline\n",
       "\tRSex & 0.003103004 & 0.003103004\\\\\n",
       "\\end{tabular}\n"
      ],
      "text/markdown": [
       "\n",
       "A matrix: 1 × 2 of type dbl\n",
       "\n",
       "| <!--/--> | eta.sq | eta.sq.part |\n",
       "|---|---|---|\n",
       "| RSex | 0.003103004 | 0.003103004 |\n",
       "\n"
      ],
      "text/plain": [
       "     eta.sq      eta.sq.part\n",
       "RSex 0.003103004 0.003103004"
      ]
     },
     "metadata": {},
     "output_type": "display_data"
    }
   ],
   "source": [
    "model <- aov(welfare2 ~ RSex, data = bsa2019_55_59)\n",
    "etaSquared(model)"
   ]
  },
  {
   "cell_type": "code",
   "execution_count": 25,
   "id": "e5248c83-3553-4b3e-bcb4-c2877f9fc7f6",
   "metadata": {},
   "outputs": [
    {
     "data": {
      "text/html": [
       "<table class=\"dataframe\">\n",
       "<caption>A matrix: 1 × 2 of type dbl</caption>\n",
       "<thead>\n",
       "\t<tr><th></th><th scope=col>eta.sq</th><th scope=col>eta.sq.part</th></tr>\n",
       "</thead>\n",
       "<tbody>\n",
       "\t<tr><th scope=row>RSex</th><td>0.003355482</td><td>0.003355482</td></tr>\n",
       "</tbody>\n",
       "</table>\n"
      ],
      "text/latex": [
       "A matrix: 1 × 2 of type dbl\n",
       "\\begin{tabular}{r|ll}\n",
       "  & eta.sq & eta.sq.part\\\\\n",
       "\\hline\n",
       "\tRSex & 0.003355482 & 0.003355482\\\\\n",
       "\\end{tabular}\n"
      ],
      "text/markdown": [
       "\n",
       "A matrix: 1 × 2 of type dbl\n",
       "\n",
       "| <!--/--> | eta.sq | eta.sq.part |\n",
       "|---|---|---|\n",
       "| RSex | 0.003355482 | 0.003355482 |\n",
       "\n"
      ],
      "text/plain": [
       "     eta.sq      eta.sq.part\n",
       "RSex 0.003355482 0.003355482"
      ]
     },
     "metadata": {},
     "output_type": "display_data"
    }
   ],
   "source": [
    "model <- aov(welfare2 ~ RSex, data = bsa2019_60_64)\n",
    "etaSquared(model)"
   ]
  },
  {
   "cell_type": "code",
   "execution_count": 24,
   "id": "pleasant-spring",
   "metadata": {},
   "outputs": [
    {
     "data": {
      "text/html": [
       "<table class=\"dataframe\">\n",
       "<caption>A matrix: 1 × 2 of type dbl</caption>\n",
       "<thead>\n",
       "\t<tr><th></th><th scope=col>eta.sq</th><th scope=col>eta.sq.part</th></tr>\n",
       "</thead>\n",
       "<tbody>\n",
       "\t<tr><th scope=row>RSex</th><td>0.0004674906</td><td>0.0004674906</td></tr>\n",
       "</tbody>\n",
       "</table>\n"
      ],
      "text/latex": [
       "A matrix: 1 × 2 of type dbl\n",
       "\\begin{tabular}{r|ll}\n",
       "  & eta.sq & eta.sq.part\\\\\n",
       "\\hline\n",
       "\tRSex & 0.0004674906 & 0.0004674906\\\\\n",
       "\\end{tabular}\n"
      ],
      "text/markdown": [
       "\n",
       "A matrix: 1 × 2 of type dbl\n",
       "\n",
       "| <!--/--> | eta.sq | eta.sq.part |\n",
       "|---|---|---|\n",
       "| RSex | 0.0004674906 | 0.0004674906 |\n",
       "\n"
      ],
      "text/plain": [
       "     eta.sq       eta.sq.part \n",
       "RSex 0.0004674906 0.0004674906"
      ]
     },
     "metadata": {},
     "output_type": "display_data"
    }
   ],
   "source": [
    "model <- aov(welfare2 ~ RSex, data = bsa2019_65_over)\n",
    "etaSquared(model)"
   ]
  },
  {
   "cell_type": "markdown",
   "id": "vietnamese-tongue",
   "metadata": {},
   "source": [
    "Just as we suspected: the association is consistent (i.e., non-existent) across all age groups."
   ]
  },
  {
   "cell_type": "markdown",
   "id": "harmful-visibility",
   "metadata": {},
   "source": [
    "**TASK**: conduct a multivariate analysis of attitude to welfare (`welfare2`), sex (`RSex`) and level of education (`HEdQual3`)."
   ]
  },
  {
   "cell_type": "code",
   "execution_count": null,
   "id": "binary-fusion",
   "metadata": {},
   "outputs": [],
   "source": [
    "# INSERT CODE HERE"
   ]
  },
  {
   "cell_type": "markdown",
   "id": "breathing-france",
   "metadata": {},
   "source": [
    "### Two Numeric and One Categorical"
   ]
  },
  {
   "cell_type": "markdown",
   "id": "reliable-lemon",
   "metadata": {},
   "source": [
    "We perform this type of multivariate analysis by considering whether bivariate association between the two numeric variables changes across values of a categorical variable. For example, is the association between welfare attitudes and perceptions of benefits fraud the same for males and females?"
   ]
  },
  {
   "cell_type": "markdown",
   "id": "boolean-dialogue",
   "metadata": {},
   "source": [
    "First we describe and measure the bivariate association between the two numeric variables:"
   ]
  },
  {
   "cell_type": "code",
   "execution_count": 26,
   "id": "environmental-powell",
   "metadata": {},
   "outputs": [
    {
     "data": {
      "image/png": "[encoded data removed]",
      "text/plain": [
       "plot without title"
      ]
     },
     "metadata": {
      "image/png": {
       "height": 420,
       "width": 420
      }
     },
     "output_type": "display_data"
    }
   ],
   "source": [
    "plot(bsa2019$NatFrEst, bsa2019$welfare2) # X variable (axis) is listed first, Y variable (axis) second"
   ]
  },
  {
   "cell_type": "markdown",
   "id": "tracked-clinton",
   "metadata": {},
   "source": [
    "A visual inspection of the joint distribution reveals a pattern: the more people a respondent thinks is committing benefit fraud, the less sympathetic their attitude is to wlefare claimants / welfare system more generally."
   ]
  },
  {
   "cell_type": "code",
   "execution_count": 27,
   "id": "infinite-attack",
   "metadata": {},
   "outputs": [
    {
     "data": {
      "text/html": [
       "0.403254343944836"
      ],
      "text/latex": [
       "0.403254343944836"
      ],
      "text/markdown": [
       "0.403254343944836"
      ],
      "text/plain": [
       "[1] 0.4032543"
      ]
     },
     "metadata": {},
     "output_type": "display_data"
    }
   ],
   "source": [
    "cor(bsa2019$NatFrEst, bsa2019$welfare2, use = \"complete.obs\")"
   ]
  },
  {
   "cell_type": "markdown",
   "id": "going-thursday",
   "metadata": {},
   "source": [
    "The correlation coefficient confirms our interpretation: there is a moderate, positive association. That is, attitudes to welfare are less sympathetic at higher levels of perceived benefit fraud."
   ]
  },
  {
   "cell_type": "markdown",
   "id": "young-torture",
   "metadata": {},
   "source": [
    "Do we find the same relationship between these variables for males and females?"
   ]
  },
  {
   "cell_type": "code",
   "execution_count": 28,
   "id": "9cf1603f",
   "metadata": {},
   "outputs": [],
   "source": [
    "bsa2019_males <- bsa2019[bsa2019$RSex==\"Male\",] # create a dataset containing only males\n",
    "bsa2019_females <- bsa2019[bsa2019$RSex==\"Female\",] # create a dataset containing only females"
   ]
  },
  {
   "cell_type": "code",
   "execution_count": 29,
   "id": "4896a61d",
   "metadata": {},
   "outputs": [
    {
     "data": {
      "image/png": "[encoded data removed]",
      "text/plain": [
       "plot without title"
      ]
     },
     "metadata": {
      "image/png": {
       "height": 420,
       "width": 420
      }
     },
     "output_type": "display_data"
    }
   ],
   "source": [
    "# create a figure with two plots\n",
    "# set graphical parameters for a figure of one row, two columns\n",
    "par(mfrow = c(1, 2))\n",
    "\n",
    "plot(bsa2019_males$NatFrEst, bsa2019_males$welfare2)\n",
    "plot(bsa2019_females$NatFrEst, bsa2019_females$welfare2) # X variable (axis) is listed first, Y variable (axis) second"
   ]
  },
  {
   "cell_type": "markdown",
   "id": "1c54121e",
   "metadata": {},
   "source": [
    "It is difficult to tell by looking but it appears that the relationship between the two numeric variables is similar for males and females. We can confirm our intuition by calculating the correlation coefficient for males and females separately."
   ]
  },
  {
   "cell_type": "code",
   "execution_count": 30,
   "id": "artificial-newton",
   "metadata": {},
   "outputs": [
    {
     "data": {
      "text/html": [
       "0.395292537874477"
      ],
      "text/latex": [
       "0.395292537874477"
      ],
      "text/markdown": [
       "0.395292537874477"
      ],
      "text/plain": [
       "[1] 0.3952925"
      ]
     },
     "metadata": {},
     "output_type": "display_data"
    },
    {
     "data": {
      "text/html": [
       "0.415874402383254"
      ],
      "text/latex": [
       "0.415874402383254"
      ],
      "text/markdown": [
       "0.415874402383254"
      ],
      "text/plain": [
       "[1] 0.4158744"
      ]
     },
     "metadata": {},
     "output_type": "display_data"
    }
   ],
   "source": [
    "cor(bsa2019_males$NatFrEst, bsa2019_males$welfare2, use = \"complete.obs\")\n",
    "cor(bsa2019_females$NatFrEst, bsa2019_females$welfare2, use = \"complete.obs\")"
   ]
  },
  {
   "cell_type": "markdown",
   "id": "advanced-pioneer",
   "metadata": {},
   "source": [
    "The association remains positive and moderate for both sexes."
   ]
  },
  {
   "cell_type": "markdown",
   "id": "c5ce7ff6",
   "metadata": {},
   "source": [
    "**TASK**: conduct a multivariate analysis of attitude to welfare (`welfare2`), perception of benefit fraud (`NatFrEst`) and level of education (`HEdQual3`)."
   ]
  },
  {
   "cell_type": "code",
   "execution_count": null,
   "id": "8173af1f",
   "metadata": {},
   "outputs": [],
   "source": [
    "# INSERT CODE HERE"
   ]
  },
  {
   "cell_type": "markdown",
   "id": "controversial-teach",
   "metadata": {},
   "source": [
    "### Three Categorical"
   ]
  },
  {
   "cell_type": "markdown",
   "id": "thirty-version",
   "metadata": {},
   "source": [
    "Finally, we consider situations where we have three categorical variables. In this instance it is best to think of one of these variables as your outcome, and the other two as potential predictors / explanatory factors. This will aid your interpretation of the tables and graphs that we will produce.\n",
    "\n",
    "Let's start with our measure of level of education (`HEdQual3`) and consider whether the distribution of this variable varies across two other categorical variables: age group (`RAgeCat`) and sex (`RSex`). \n",
    "\n",
    "(Or to put another way: can we predict a person's level of education using knowledge of their age and sex?)"
   ]
  },
  {
   "cell_type": "markdown",
   "id": "cfd74333-d5db-4ade-9a04-3968bd0e2067",
   "metadata": {},
   "source": [
    "We begin by examining the distribution of our outcome / dependent variable."
   ]
  },
  {
   "cell_type": "code",
   "execution_count": 34,
   "id": "varying-poultry",
   "metadata": {},
   "outputs": [
    {
     "data": {
      "text/plain": [
       "\n",
       "                Degree Below degree / A level                O level \n",
       "                    25                     27                     26 \n",
       "               No qual \n",
       "                    22 "
      ]
     },
     "metadata": {},
     "output_type": "display_data"
    }
   ],
   "source": [
    "round(prop.table(table(bsa2019$HEdQual3)) * 100, 0)"
   ]
  },
  {
   "cell_type": "markdown",
   "id": "patient-halloween",
   "metadata": {},
   "source": [
    "We can analyse the joint distribution with age group or sex as follows:"
   ]
  },
  {
   "cell_type": "code",
   "execution_count": 35,
   "id": "stopped-astronomy",
   "metadata": {},
   "outputs": [
    {
     "data": {
      "text/plain": [
       "       \n",
       "        Degree Below degree / A level O level No qual\n",
       "  18-24     21                     43      27       9\n",
       "  25-34     37                     30      20      13\n",
       "  35-44     38                     29      21      11\n",
       "  45-54     30                     27      32      11\n",
       "  55-59     20                     32      33      15\n",
       "  60-64     21                     26      34      18\n",
       "  65+       14                     20      24      42"
      ]
     },
     "metadata": {},
     "output_type": "display_data"
    }
   ],
   "source": [
    "qual_age_table <- table(bsa2019$RAgeCat, bsa2019$HEdQual3)\n",
    "round(prop.table(qual_age_table, 1)* 100, 0) # row percentages"
   ]
  },
  {
   "cell_type": "code",
   "execution_count": 36,
   "id": "hairy-intent",
   "metadata": {},
   "outputs": [
    {
     "data": {
      "text/plain": [
       "        \n",
       "         Degree Below degree / A level O level No qual\n",
       "  Male       25                     27      27      21\n",
       "  Female     25                     27      26      22"
      ]
     },
     "metadata": {},
     "output_type": "display_data"
    }
   ],
   "source": [
    "qual_sex_table <- table(bsa2019$RSex, bsa2019$HEdQual3)\n",
    "round(prop.table(qual_sex_table, 1)* 100, 0) # row percentages"
   ]
  },
  {
   "cell_type": "markdown",
   "id": "respective-yacht",
   "metadata": {},
   "source": [
    "It is quite simple to add an extra categorical variable to a crosstabulation; again most of the work in *R* is focused on presenting the table in a readable manner.\n",
    "\n",
    "To help us when interpreting the table, we will define our analysis as follows:\n",
    "* Is there an association between level of education and age?\n",
    "* Does this association vary across sexes?"
   ]
  },
  {
   "cell_type": "code",
   "execution_count": 39,
   "id": "crude-update",
   "metadata": {},
   "outputs": [
    {
     "data": {
      "text/plain": [
       "              Degree Below degree / A level O level No qual Sum\n",
       "                                                               \n",
       "Male   18-24      24                     39      28       9 100\n",
       "       25-34      36                     29      22      13 100\n",
       "       35-44      36                     31      22      11 100\n",
       "       45-54      29                     26      31      14 100\n",
       "       55-59      19                     27      35      19 100\n",
       "       60-64      23                     24      34      19 100\n",
       "       65+        17                     23      24      36 100\n",
       "Female 18-24      19                     46      25       9 100\n",
       "       25-34      37                     30      19      14 100\n",
       "       35-44      40                     27      21      12 100\n",
       "       45-54      30                     28      33       9 100\n",
       "       55-59      20                     38      31      10 100\n",
       "       60-64      19                     29      35      17 100\n",
       "       65+        12                     18      24      46 100"
      ]
     },
     "metadata": {},
     "output_type": "display_data"
    }
   ],
   "source": [
    "qas_table <- table(bsa2019$RSex, bsa2019$RAgeCat, bsa2019$HEdQual3) # create crosstabulation - variable 1 is the control variable,\n",
    "# variable 2 is the X (predictor) variable, variable 3 is the Y (outcome) variable.\n",
    "\n",
    "qas_prop_table <- addmargins(prop.table(qas_table, c(1,2)), 3) # calculate proportions\n",
    "\n",
    "qas_perc_table <- round(ftable(qas_prop_table) * 100, 0) # convert proportions to percentages\n",
    "\n",
    "qas_perc_table # display table"
   ]
  },
  {
   "cell_type": "markdown",
   "id": "floppy-premiere",
   "metadata": {},
   "source": [
    "Let's unpack the above table:\n",
    "* Each row represents a combination of age and sex e.g., 18-24 year old females.\n",
    "* Each column represents a category of the `HEdQual3` variable, including a final column capturing the sum of the row percentages in the table.\n",
    "* The numbers in a particular row and column represent the percentage of respondents who fall into each category of the `HEdQual3` variable, for a given combination of age and sex.\n",
    "\n",
    "Therefore we need to compare percentages down the rows of the table. For example, we observe that 46% of females in the 65+ age group do not have a qualification, compared to 36% of males of a similar age. However with the exception of the youngest and oldest age groups, females are more likely than males to have a degree."
   ]
  },
  {
   "cell_type": "markdown",
   "id": "sorted-father",
   "metadata": {},
   "source": [
    "Three-way crosstabulations are tricky to interpret, so be patient and careful when drawing conclusions from them."
   ]
  },
  {
   "cell_type": "markdown",
   "id": "spatial-front",
   "metadata": {},
   "source": [
    "**TASK**: Replace `RAgeCat` with `Married` in the above crosstabulation and interpret the crosstabulation."
   ]
  },
  {
   "cell_type": "code",
   "execution_count": null,
   "id": "collected-radical",
   "metadata": {},
   "outputs": [],
   "source": [
    "# INSERT CODE HERE"
   ]
  },
  {
   "cell_type": "markdown",
   "id": "f5e8f671",
   "metadata": {},
   "source": [
    "Let's calculate the Cramer's V measure of association between `RAgeCat` and `HEdQual3` for each sex. Thankfully we have already created the individual datasets corresponding to each sex:"
   ]
  },
  {
   "cell_type": "code",
   "execution_count": 40,
   "id": "6c181013",
   "metadata": {},
   "outputs": [],
   "source": [
    "#install.packages(\"DescTools\") # install the necessary package - only needs to be done once"
   ]
  },
  {
   "cell_type": "code",
   "execution_count": 41,
   "id": "dental-details",
   "metadata": {},
   "outputs": [],
   "source": [
    "library(DescTools) # import the package containing the `CramerV()` command"
   ]
  },
  {
   "cell_type": "code",
   "execution_count": 42,
   "id": "dc782f8a",
   "metadata": {},
   "outputs": [
    {
     "data": {
      "text/html": [
       "0.18014147555022"
      ],
      "text/latex": [
       "0.18014147555022"
      ],
      "text/markdown": [
       "0.18014147555022"
      ],
      "text/plain": [
       "[1] 0.1801415"
      ]
     },
     "metadata": {},
     "output_type": "display_data"
    },
    {
     "data": {
      "text/html": [
       "0.256226179308879"
      ],
      "text/latex": [
       "0.256226179308879"
      ],
      "text/markdown": [
       "0.256226179308879"
      ],
      "text/plain": [
       "[1] 0.2562262"
      ]
     },
     "metadata": {},
     "output_type": "display_data"
    }
   ],
   "source": [
    "CramerV(bsa2019_males$HEdQual3, bsa2019_males$RAgeCat)\n",
    "CramerV(bsa2019_females$HEdQual3, bsa2019_females$RAgeCat)"
   ]
  },
  {
   "cell_type": "markdown",
   "id": "6e577ce4",
   "metadata": {},
   "source": [
    "We see some variation in the strength of the association across sexes. Broadly, it appears that the association is strongest for females. Put another way: the differences in level of education between age groups are larger for females than males."
   ]
  },
  {
   "cell_type": "markdown",
   "id": "colored-plate",
   "metadata": {},
   "source": [
    "## Conclusion"
   ]
  },
  {
   "cell_type": "markdown",
   "id": "southeast-giving",
   "metadata": {},
   "source": [
    "In this lesson we encountered a range of techniques for summarising more than three or more variables at a time.\n",
    "\n",
    "There is another Week 11 lesson that focuses on a range of techniques for expressing the uncertainty inherent in our quantitative analyses.\n",
    "\n",
    "In Week 12, we focus on producing publication-ready graphs and bringing all our learning together to write a report based on a piece of quantitative data analysis."
   ]
  }
 ],
 "metadata": {
  "kernelspec": {
   "display_name": "R",
   "language": "R",
   "name": "ir"
  },
  "language_info": {
   "codemirror_mode": "r",
   "file_extension": ".r",
   "mimetype": "text/x-r-source",
   "name": "R",
   "pygments_lexer": "r",
   "version": "4.3.1"
  }
 },
 "nbformat": 4,
 "nbformat_minor": 5
}
