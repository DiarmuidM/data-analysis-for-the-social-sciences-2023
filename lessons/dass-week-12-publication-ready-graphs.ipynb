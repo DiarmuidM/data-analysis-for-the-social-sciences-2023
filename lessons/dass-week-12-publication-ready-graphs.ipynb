{
 "cells": [
  {
   "cell_type": "markdown",
   "id": "otherwise-cache",
   "metadata": {},
   "source": [
    "<p align=\"right\"><i>Data Analysis for the Social Sciences - Part II - 2023-11-28</i></p>"
   ]
  },
  {
   "cell_type": "markdown",
   "id": "dynamic-conjunction",
   "metadata": {},
   "source": [
    "# Week 12 - Publication-Ready Graphs"
   ]
  },
  {
   "cell_type": "markdown",
   "id": "d09067c3-fc6e-47be-b624-7e11a9dcf041",
   "metadata": {},
   "source": [
    "Welcome to Part II of Data Analysis for the Social Sciences. In this lab session we will produce professional-looking graphs for inclusion in academic outputs (e.g., reports, journal articles)."
   ]
  },
  {
   "cell_type": "markdown",
   "id": "110627dc-1dbe-4453-9f71-f816f623c0ae",
   "metadata": {},
   "source": [
    "We will use real data from the *British Social Attitudes survey, 2019: Poverty and Welfare*, specifically the open dataset available from the UK Data Service: https://doi.org/10.5255/UKDA-SN-8850-1"
   ]
  },
  {
   "cell_type": "markdown",
   "id": "f30d26db-773c-421f-b0c6-8e2a0d6bf902",
   "metadata": {},
   "source": [
    "We will structure our analyses around the following research question:"
   ]
  },
  {
   "cell_type": "markdown",
   "id": "ca266641-44fc-4f62-9d96-8ff1809f706e",
   "metadata": {},
   "source": [
    "<p><center><i>Are attitudes to welfare associated with sex, age, interest in politics, and perception of benefits fraud?</i></center></p>"
   ]
  },
  {
   "cell_type": "markdown",
   "id": "scenic-silly",
   "metadata": {},
   "source": [
    "### Aims\n",
    "\n",
    "This lesson - **Publication-Ready Graphs** - has two aims:\n",
    "1. Demonstrate how to produce graphs suitable for inclusion in academic outputs.\n",
    "2. Cultivate your computational skills through the use of the statistical programming langauge *R*. For example, there are a number of opportunities for you to amend or write R syntax (code)."
   ]
  },
  {
   "cell_type": "markdown",
   "id": "judicial-prediction",
   "metadata": {},
   "source": [
    "### Lesson details\n",
    "\n",
    "* **Level**: Introductory, for individuals with minimal prior knowledge or experience of quantitative data analysis.\n",
    "* **Duration**: 45-60 minutes.\n",
    "* **Pre-requisites**: Completed [*Univariate Data Analysis*](./dass-week-9-univariate-analysis.ipynb), [*Bivariate Data Analysis*](./dass-week-10-bivariate-analysis.ipynb) and [*Multivariate Data Analysis*](./dass-week-11-multivariate-analysis.ipynb) lessons.\n",
    "* **Programming language**: R.\n",
    "* **Learning outcomes**:\n",
    "\t1. Understand how to use R to produce and improve visualisations of statistical analyses.\n",
    "\t2. Understand how to select and apply common visualisation techniques and formats for categorical and numeric variables."
   ]
  },
  {
   "cell_type": "markdown",
   "id": "terminal-agenda",
   "metadata": {},
   "source": [
    "## Guide to using this resource\n",
    "\n",
    "This learning resource was built using <a href=\"https://jupyter.org/\" target=_blank>Jupyter Notebook</a>, an open-source software application that allows you to mix code, results and narrative in a single document. As <a href=\"https://jupyter4edu.github.io/jupyter-edu-book/\" target=_blank>Barba et al. (2019)</a> espouse:\n",
    "> In a world where every subject matter can have a data-supported treatment, where computational devices are omnipresent and pervasive, the union of natural language and computation creates compelling communication and learning opportunities.\n",
    "\n",
    "If you are familiar with Jupyter notebooks then skip ahead to the main content (*Introduction to multivariate data analysis*). Otherwise, the following is a quick guide to navigating and interacting with the notebook."
   ]
  },
  {
   "cell_type": "markdown",
   "id": "interested-radar",
   "metadata": {},
   "source": [
    "### Interaction\n",
    "\n",
    "**You only need to execute the code that is contained in sections which are marked by `[]`.**\n",
    "\n",
    "To execute a cell, click or double-click the cell and press the `Play` button next to the cell or select the `Run` button on the top toolbar (*Runtime > Run the focused cell*); you can also use the keyboard shortcuts `Shift + Enter` or `Ctrl + Enter`).\n",
    "\n",
    "Try it for yourself:"
   ]
  },
  {
   "cell_type": "code",
   "execution_count": null,
   "id": "dominican-hardware",
   "metadata": {},
   "outputs": [],
   "source": [
    "name <- readline(prompt=\"Enter name: \")\n",
    "print(paste(\"Hi,\", name, \"enjoy learning more about R and multivariate analysis!\"))"
   ]
  },
  {
   "cell_type": "markdown",
   "id": "through-storm",
   "metadata": {},
   "source": [
    "Notebooks are sequential, meaning code should be executed in order (top to bottom). For example, the following code won't work:"
   ]
  },
  {
   "cell_type": "code",
   "execution_count": null,
   "id": "outstanding-bulgaria",
   "metadata": {},
   "outputs": [],
   "source": [
    "x * 5"
   ]
  },
  {
   "cell_type": "markdown",
   "id": "handmade-madagascar",
   "metadata": {},
   "source": [
    "As the error message suggests, there is no object (variable) called `x`, therefore we cannot do any calculations with it. \n",
    "\n",
    "Let's try a sequential approach:"
   ]
  },
  {
   "cell_type": "code",
   "execution_count": null,
   "id": "addressed-assumption",
   "metadata": {},
   "outputs": [],
   "source": [
    "x <- 10 # create an object called 'x' and give it the value '10'"
   ]
  },
  {
   "cell_type": "code",
   "execution_count": null,
   "id": "crucial-implement",
   "metadata": {},
   "outputs": [],
   "source": [
    "x * 5 # multiply 'x' by 5"
   ]
  },
  {
   "cell_type": "markdown",
   "id": "covered-round",
   "metadata": {},
   "source": [
    "### Learn more\n",
    "\n",
    "Jupyter notebooks provide rich, flexible features for conducting and documenting your data analysis workflow. To learn more about additional notebook features, we recommend working through some of the <a href=\"https://github.com/darribas/gds19/blob/master/content/labs/lab_00.ipynb\" target=_blank>materials</a> provided by Dani Arribas-Bel at the University of Liverpool. "
   ]
  },
  {
   "cell_type": "markdown",
   "id": "floppy-escape",
   "metadata": {},
   "source": [
    "### Learner input\n",
    "\n",
    "Throughout the lessons there are times when you need to do the following activities:\n",
    "* **TASK:** A coding task for you to complete (e.g. analyse different variables).\n",
    "* **QUESTION:** A question regarding your interpretation of some code or a technique (e.g. what is the piece of code doing?).\n",
    "* **EXERCISE:** A data analysis challenge for you to complete."
   ]
  },
  {
   "cell_type": "markdown",
   "id": "democratic-office",
   "metadata": {},
   "source": [
    "## Introduction to visualisation"
   ]
  },
  {
   "cell_type": "markdown",
   "id": "respected-comedy",
   "metadata": {},
   "source": [
    "In our previous analyses we produced a range of visualisations (graphs and tables) to explore the distribution of single variables and summarise associations between two or more variables. The resulting visualisations were basic and often adopted the default colour and font schemes, did not include titles or axis labels, legends or notes explaining the contents of the graph etc. \n",
    "\n",
    "In this lesson we focus on how to produce visualisations that are of sufficient quality for including in academic outputs, including your assessment report. We will do this in two ways:\n",
    "1. With base *R* i.e., using commands that come as standard with the *R* programming language\n",
    "2. With `ggplot2` i.e., using commands written and shared by other *R* users to improve the quality of base *R* graphs\n",
    "\n",
    "The latter is more powerful and flexible, giving you a tremendous number of options for customising your visualisations. However it does require you to install a new package (`ggplot2`) and learn how to write commands using a different 'grammar'. Base *R* offers less flexibility and fewer options, but is simpler to write and can still produce clean, informative visualisations.\n",
    "\n",
    "The choice of approach is completely up to you."
   ]
  },
  {
   "cell_type": "markdown",
   "id": "standing-welding",
   "metadata": {},
   "source": [
    "## Visualising distributions"
   ]
  },
  {
   "cell_type": "markdown",
   "id": "ec76267e-5d51-42ff-a97d-1e386a5805bb",
   "metadata": {},
   "source": [
    "### Preliminaries"
   ]
  },
  {
   "cell_type": "markdown",
   "id": "0ef89885-ba1a-4f95-a9b3-212da0ea3c73",
   "metadata": {},
   "source": [
    "We need to install some additional packages to improve our visualisations. The first grants access to a suite of colour schemes (palettes) we can use to distinguish categories in a bar chart for example. The second is the `ggplot2` package that contains a dedicated, flexible set of commands for producing high-quality visualisations. The third is the `cowplot` package that provides a unified theme for your visualisations (e.g., a specific font, text size, colour scheme etc).\n",
    "\n",
    "*Remove the # symbols before running the `install.packages()` commands*"
   ]
  },
  {
   "cell_type": "code",
   "execution_count": null,
   "id": "61e19c6b-3279-450a-9c22-257a8480e89b",
   "metadata": {},
   "outputs": [],
   "source": [
    "# install.packages(\"RColorBrewer\")\n",
    "# install.packages(\"ggplot2\")\n",
    "# install.packages(\"cowplot\")"
   ]
  },
  {
   "cell_type": "code",
   "execution_count": null,
   "id": "c6a05c3a-8efa-4248-9b68-a768e748cf98",
   "metadata": {},
   "outputs": [],
   "source": [
    "library(RColorBrewer)\n",
    "display.brewer.all() # view available colour palettes"
   ]
  },
  {
   "cell_type": "code",
   "execution_count": null,
   "id": "3a7779c8-372c-4b9a-a145-e1d50e572dd3",
   "metadata": {},
   "outputs": [],
   "source": [
    "library(ggplot2)"
   ]
  },
  {
   "cell_type": "code",
   "execution_count": null,
   "id": "7c5a9f76-eea8-436b-b773-e496ff430058",
   "metadata": {},
   "outputs": [],
   "source": [
    "library(cowplot)"
   ]
  },
  {
   "cell_type": "markdown",
   "id": "coordinate-jonathan",
   "metadata": {},
   "source": [
    "### Importing data"
   ]
  },
  {
   "cell_type": "markdown",
   "id": "3df12992-86bf-4047-bd85-156c7ac8bd3b",
   "metadata": {},
   "source": [
    "The first step is to import the *British Social Attitudes survey* data for analysis."
   ]
  },
  {
   "cell_type": "code",
   "execution_count": null,
   "id": "869406e4-0e2d-4d20-a6a5-85223a01aa09",
   "metadata": {},
   "outputs": [],
   "source": [
    "bsa2019 <- read.table(\"https://raw.githubusercontent.com/DiarmuidM/data-analysis-for-the-social-sciences-2023/main/lessons/data/bsa2019_poverty_open.tab\", header=TRUE, na=\"NA\", sep=\"\\t\")\n",
    "head(bsa2019) # view the first six observations"
   ]
  },
  {
   "cell_type": "code",
   "execution_count": null,
   "id": "468f3e6d-e375-4949-a91b-7c111191d24f",
   "metadata": {},
   "outputs": [],
   "source": [
    "names(bsa2019)"
   ]
  },
  {
   "cell_type": "markdown",
   "id": "26fe5f37-406f-4e9e-a756-bc7f833ab09b",
   "metadata": {},
   "source": [
    "### Data cleaning"
   ]
  },
  {
   "cell_type": "markdown",
   "id": "5d6655e0-e455-4b37-8307-074e3e89d255",
   "metadata": {},
   "source": [
    "There are a number of important steps that need to be executed before proceeding with the analysis:\n",
    "* Handling missing values\n",
    "* Labelling values of categorical variables\n",
    "\n",
    "We cover these techniques in a separate notebook: [Data Cleaning](./dass-bsa-data-cleaning.ipynb) \n",
    "\n",
    "**Please note that you will be expected to perform these tasks for your own analysis.**"
   ]
  },
  {
   "cell_type": "code",
   "execution_count": null,
   "id": "c38f11ba-149f-4ea0-a4f2-54eedb46bead",
   "metadata": {},
   "outputs": [],
   "source": [
    "bsa2019$welfare2[bsa2019$welfare2<1 | bsa2019$welfare2>5] <- NA # convert \"-1\" and \"9\" to missing"
   ]
  },
  {
   "cell_type": "code",
   "execution_count": null,
   "id": "4997158e-a346-426e-ae8f-28a31ae591cf",
   "metadata": {},
   "outputs": [],
   "source": [
    "bsa2019$NatFrEst[bsa2019$NatFrEst>100] <- NA # convert \"998\" and \"999\" to missing"
   ]
  },
  {
   "cell_type": "code",
   "execution_count": null,
   "id": "79762905-9455-4f89-a2fb-9561bcb0dcf0",
   "metadata": {},
   "outputs": [],
   "source": [
    "bsa2019$RSex <- factor(bsa2019$RSex, levels = c(1,2), labels = c(\"Male\", \"Female\"))"
   ]
  },
  {
   "cell_type": "code",
   "execution_count": null,
   "id": "1a7fc09c-2c14-4707-8a50-3e289cd678a0",
   "metadata": {},
   "outputs": [],
   "source": [
    "bsa2019$RAgeCat <- factor(bsa2019$RAgeCat, levels = c(1,2,3,4,5,6,7), labels = c(\"18-24\", \"25-34\", \"35-44\", \"45-54\", \"55-59\", \"60-64\", \"65+\"))"
   ]
  },
  {
   "cell_type": "code",
   "execution_count": null,
   "id": "3e4a6566-865a-4503-839e-9b1e5c8afd6f",
   "metadata": {},
   "outputs": [],
   "source": [
    "bsa2019$Married <- factor(bsa2019$Married, levels = c(1,2,3,4), labels = c(\"Married/living as married\", \n",
    "                                                                               \"Separated/divorced\", \n",
    "                                                                               \"Widowed\", \n",
    "                                                                               \"Never married\"))"
   ]
  },
  {
   "cell_type": "code",
   "execution_count": null,
   "id": "3c86fc05-88c5-4ce2-a33d-32ea25c12c07",
   "metadata": {},
   "outputs": [],
   "source": [
    "bsa2019$HEdQual3 <- factor(bsa2019$HEdQual3, levels = c(1,2,3,4), labels = c(\"Degree\", \"Below degree / A level\", \"O level\", \"No qual\"))"
   ]
  },
  {
   "cell_type": "markdown",
   "id": "wired-found",
   "metadata": {},
   "source": [
    "### Univariate analyses"
   ]
  },
  {
   "cell_type": "markdown",
   "id": "complicated-ebony",
   "metadata": {},
   "source": [
    "#### Categorical variables"
   ]
  },
  {
   "cell_type": "markdown",
   "id": "6a971bfe-e736-48bb-8433-06951d801e65",
   "metadata": {},
   "source": [
    "##### `base R`"
   ]
  },
  {
   "cell_type": "markdown",
   "id": "7b254b35-e778-4695-8255-63715e2f53a0",
   "metadata": {},
   "source": [
    "We can make some small tweaks to the techniques we learned in weeks 9-11.\n",
    "\n",
    "First, generate a frequency table of proportions."
   ]
  },
  {
   "cell_type": "code",
   "execution_count": null,
   "id": "9bb43015-a20d-4c53-a34d-dac5a5a80b03",
   "metadata": {},
   "outputs": [],
   "source": [
    "he_table <- prop.table(table(bsa2019$HEdQual3)) # frequency table of higher education qualifications\n",
    "he_table"
   ]
  },
  {
   "cell_type": "markdown",
   "id": "8dedf1f5-7b03-461d-a649-77b88b537ad4",
   "metadata": {},
   "source": [
    "Then select a colour scheme for applying to the bars of your bar chart. Choose as many colours as there are bars:"
   ]
  },
  {
   "cell_type": "code",
   "execution_count": null,
   "id": "0581beee-e1c3-43cb-8ebe-3dc674635cdb",
   "metadata": {},
   "outputs": [],
   "source": [
    "bar_colors <- RColorBrewer::brewer.pal(4, \"Blues\")\n",
    "bar_colors"
   ]
  },
  {
   "cell_type": "markdown",
   "id": "0bd1b43e-da2a-4507-92f4-5b1b48958781",
   "metadata": {},
   "source": [
    "Generate your plot and save it."
   ]
  },
  {
   "cell_type": "code",
   "execution_count": null,
   "id": "a7c28cbd-93ee-42ea-8ef7-f9303dd516c6",
   "metadata": {},
   "outputs": [],
   "source": [
    "png(\"hed-plot-2023-11-28.png\", width = 500, height = 500) # open a file to save your plot = play around with width and height if needed\n",
    "\n",
    "barplot(he_table, main = \"HE Qualifications\",\n",
    "        xlab = \"Qualification type\", ylab = \"Proportion of sample\",\n",
    "        col = bar_colors)\n",
    "\n",
    "dev.off() # close the file to save your plot"
   ]
  },
  {
   "cell_type": "markdown",
   "id": "e76fe085-c360-48ed-a88c-cc8df62ad858",
   "metadata": {},
   "source": [
    "##### `ggplot2`"
   ]
  },
  {
   "cell_type": "markdown",
   "id": "d460768e-526b-480a-8d3f-42686e914942",
   "metadata": {},
   "source": [
    "The first step is to specify essential plot elements (data and variables), and store it as a new object (*p*)"
   ]
  },
  {
   "cell_type": "code",
   "execution_count": null,
   "id": "1029f89b-dd70-4e26-9561-dc61287ee42e",
   "metadata": {},
   "outputs": [],
   "source": [
    "p <- ggplot(data = bsa2019,\n",
    "       mapping = aes(x = Married))"
   ]
  },
  {
   "cell_type": "markdown",
   "id": "a748f7a6-da9c-4290-9c1a-2b5ebd304a0e",
   "metadata": {},
   "source": [
    "Then add on the type of visualisation you want to produce (e.g., bar chart, pie chart)"
   ]
  },
  {
   "cell_type": "code",
   "execution_count": null,
   "id": "32ccdded-a871-4e3e-b3ac-7fa288c54825",
   "metadata": {},
   "outputs": [],
   "source": [
    "p + geom_bar(mapping = aes(y = after_stat(prop), , group = 1)) # graph proportions instead of counts"
   ]
  },
  {
   "cell_type": "markdown",
   "id": "2b907af8-39a0-4873-be98-cf21873b9a0c",
   "metadata": {},
   "source": [
    "Finally improve the presentation of the graph using titles, colour schemes etc"
   ]
  },
  {
   "cell_type": "code",
   "execution_count": null,
   "id": "95494c5b-92de-47cf-a366-953cecef04db",
   "metadata": {},
   "outputs": [],
   "source": [
    "fig1 <- p + geom_bar(mapping = aes(y = after_stat(prop), , group = 1)) +\n",
    "    coord_flip() + # flip the graph from vertical to horizontal\n",
    "    theme_cowplot() + # select a visualisation theme - others include theme_bw(), theme_classic()\n",
    "    labs(x = \"Relationship status\", y = \"Proportion of sample\", title = \"Distribution of relationship status\", subtitle = \"\", \n",
    "         caption = \"British Social Attitudes survey 2019, n=3,224\") # add labels, titles, notes etc"
   ]
  },
  {
   "cell_type": "code",
   "execution_count": null,
   "id": "f1319e3d-7eca-42e3-ae31-fcc2528c1bb2",
   "metadata": {},
   "outputs": [],
   "source": [
    "fig1"
   ]
  },
  {
   "cell_type": "code",
   "execution_count": null,
   "id": "d88e6600-4cfb-4a10-b1d1-0cd6b37b8277",
   "metadata": {},
   "outputs": [],
   "source": [
    "ggsave(\"married-plot-2023-11-28.png\", plot = fig1, height = 4, width = 8)"
   ]
  },
  {
   "cell_type": "markdown",
   "id": "e3358240-b0f8-4541-b2f6-4414a58a80df",
   "metadata": {},
   "source": [
    "#### Numeric variables"
   ]
  },
  {
   "cell_type": "markdown",
   "id": "e1e0d5f3-0773-4d0d-baf0-acdb69d41bb4",
   "metadata": {},
   "source": [
    "##### `base R`"
   ]
  },
  {
   "cell_type": "markdown",
   "id": "0a8ab941-8d85-4a0d-8837-7c34195379c2",
   "metadata": {},
   "source": [
    "There is a preliminary step to get proportions for a base *R* histogram."
   ]
  },
  {
   "cell_type": "code",
   "execution_count": null,
   "id": "ed1e4d26-84a0-4987-baef-0f04f2a7d56c",
   "metadata": {},
   "outputs": [],
   "source": [
    "h = hist(bsa2019$welfare2, plot=FALSE)\n",
    "h$density = h$counts/sum(h$counts)"
   ]
  },
  {
   "cell_type": "code",
   "execution_count": null,
   "id": "9333339c-36bc-4f46-be6d-d53d8a483d10",
   "metadata": {},
   "outputs": [],
   "source": [
    "plot(h, freq = FALSE, col = \"steelblue\", main = \"Distribution of attitude to welfare\",\n",
    "    xlab = \"Welfare score (1-5)\", ylab = \"Proportion of sample\")"
   ]
  },
  {
   "cell_type": "markdown",
   "id": "1ee97029-ed32-4453-ac25-763a4902b0e0",
   "metadata": {},
   "source": [
    "Don't forget to save the plot using the syntax from earlier (saving the higher education qualification bar chart)."
   ]
  },
  {
   "cell_type": "markdown",
   "id": "8f688574-8289-4a6f-bda4-77822dbada8c",
   "metadata": {},
   "source": [
    "##### `ggplot2`"
   ]
  },
  {
   "cell_type": "code",
   "execution_count": null,
   "id": "equal-shuttle",
   "metadata": {},
   "outputs": [],
   "source": [
    "summary(bsa2019$welfare2)"
   ]
  },
  {
   "cell_type": "code",
   "execution_count": null,
   "id": "spiritual-tunisia",
   "metadata": {},
   "outputs": [],
   "source": [
    "p <- ggplot(data = bsa2019,\n",
    "       mapping = aes(x = welfare2))"
   ]
  },
  {
   "cell_type": "code",
   "execution_count": null,
   "id": "promotional-horror",
   "metadata": {},
   "outputs": [],
   "source": [
    "fig2 <- p + geom_histogram(bins = 8, binwidth=.5, color = \"black\", fill=\"lightgrey\", aes(y=..count../sum(..count..))) + # \n",
    "    theme_cowplot() +\n",
    "    labs(x = \"Attitude to welfare\", y = \"Proportion of sample\", title = \"Distribution of attitude to welfare\", subtitle = \"\", \n",
    "         caption = \"British Social Attitudes survey 2019, n=3,224\") # add labels, titles, notes etc"
   ]
  },
  {
   "cell_type": "code",
   "execution_count": null,
   "id": "82689051-82cb-45fa-9fd9-2acf210d63e5",
   "metadata": {},
   "outputs": [],
   "source": [
    "fig2"
   ]
  },
  {
   "cell_type": "code",
   "execution_count": null,
   "id": "3603a9f1-5127-44b9-82ae-201954937c2a",
   "metadata": {},
   "outputs": [],
   "source": [
    "ggsave(\"welfare-plot-2023-11-28.png\", plot = fig2, height = 4, width = 8)"
   ]
  },
  {
   "cell_type": "markdown",
   "id": "72c9460b-6d8d-4cc3-9e38-99c0d0590bb8",
   "metadata": {},
   "source": [
    "### Bivariate analyses"
   ]
  },
  {
   "cell_type": "markdown",
   "id": "f2a33ced-ccf7-4400-9448-3715c312cc83",
   "metadata": {},
   "source": [
    "#### Categorical & Categorical variables"
   ]
  },
  {
   "cell_type": "markdown",
   "id": "a9b0f1c7-eff9-4463-974b-fa2498e9068e",
   "metadata": {},
   "source": [
    "##### `base R`"
   ]
  },
  {
   "cell_type": "markdown",
   "id": "c87e969a-3dfe-4377-ae9d-d63fbaa92da1",
   "metadata": {},
   "source": [
    "First we create a crosstabulation and save the results in a new object. Note we are showing percentages but these are equivalent to proportions * 100."
   ]
  },
  {
   "cell_type": "code",
   "execution_count": null,
   "id": "9bf0cab4-e210-4ed5-8767-3ee93e02fb01",
   "metadata": {},
   "outputs": [],
   "source": [
    "ed_age_table <- round(prop.table(table(bsa2019$RAgeCat, bsa2019$HEdQual3), 1)* 100, 0)\n",
    "ed_age_table"
   ]
  },
  {
   "cell_type": "markdown",
   "id": "689ff0eb-aa76-4376-a7bf-c63ffda507e3",
   "metadata": {},
   "source": [
    "Select some colours for the seven age categories."
   ]
  },
  {
   "cell_type": "code",
   "execution_count": null,
   "id": "a8cd5881-9c46-49e8-928d-ec4335a367bf",
   "metadata": {},
   "outputs": [],
   "source": [
    "bar_colors <- RColorBrewer::brewer.pal(7, \"Blues\")\n",
    "bar_colors"
   ]
  },
  {
   "cell_type": "markdown",
   "id": "f1573314-26e7-44e9-b9dc-b67003de30cf",
   "metadata": {},
   "source": [
    "Generate your plot - don't forget to add in syntax for saving the results."
   ]
  },
  {
   "cell_type": "code",
   "execution_count": null,
   "id": "d028ccba-2a5e-4a6c-a45a-a3312bb5268b",
   "metadata": {},
   "outputs": [],
   "source": [
    "barplot(ed_age_perc_table, main=\"Highest qualification by age group\",\n",
    "  xlab=\"Type of qualification\", ylab=\"% of sample\", col = bar_colors, \n",
    "  legend = rownames(ed_age_table), beside=TRUE, args.legend=list(x=\"topleft\", box.lty = 0, cex = 0.8))"
   ]
  },
  {
   "cell_type": "markdown",
   "id": "157a3edd-e910-4b64-8800-0032b4bf1f7e",
   "metadata": {},
   "source": [
    "##### `ggplot2`"
   ]
  },
  {
   "cell_type": "code",
   "execution_count": null,
   "id": "80efbbe4-9e5a-48d0-b6b9-ac1c6c02c15b",
   "metadata": {},
   "outputs": [],
   "source": [
    "p <- ggplot(data = bsa2019[!(is.na(bsa2019$HEdQual3)),],\n",
    "       mapping = aes(x = RAgeCat))"
   ]
  },
  {
   "cell_type": "code",
   "execution_count": null,
   "id": "e723025c-0d77-4bcc-afa6-3bef97757c96",
   "metadata": {},
   "outputs": [],
   "source": [
    "fig3 <- p + geom_bar(mapping = aes(y = after_stat(prop), , group = 1)) +\n",
    "    facet_wrap(~ HEdQual3) + guides(fill = \"none\") +\n",
    "    theme_cowplot() +\n",
    "    labs(x = \"Age group\", y = \"Proportion of sample\", title = \"Distribution of qualifications across age groups\", subtitle = \"\", \n",
    "         caption = \"British Social Attitudes survey 2019, n=3,224\") # add labels, titles, notes etc\n",
    "    "
   ]
  },
  {
   "cell_type": "code",
   "execution_count": null,
   "id": "1986b728-f36e-4c36-8560-c153ee9d0582",
   "metadata": {},
   "outputs": [],
   "source": [
    "fig3"
   ]
  },
  {
   "cell_type": "code",
   "execution_count": null,
   "id": "a80fd902-9d93-4610-a133-916097371d85",
   "metadata": {},
   "outputs": [],
   "source": [
    "ggsave(\"hed-age-plot-2023-11-28.png\", plot = fig3, height = 6, width = 8)"
   ]
  },
  {
   "cell_type": "markdown",
   "id": "c11d130b-afb8-4e3a-bdbc-30581d002584",
   "metadata": {},
   "source": [
    "#### Categorical & Numeric variables"
   ]
  },
  {
   "cell_type": "markdown",
   "id": "564d9d9c-de6e-4309-932f-d2b178227f16",
   "metadata": {},
   "source": [
    "##### `base R`"
   ]
  },
  {
   "cell_type": "code",
   "execution_count": 133,
   "id": "2386b747-08c0-4391-b2dc-e48803cd2b93",
   "metadata": {},
   "outputs": [
    {
     "data": {
      "image/png": "[encoded data removed]",
      "text/plain": [
       "Plot with title \"Attitude to Welfare by Age\""
      ]
     },
     "metadata": {
      "image/png": {
       "height": 420,
       "width": 420
      }
     },
     "output_type": "display_data"
    }
   ],
   "source": [
    "boxplot(welfare2 ~ RAgeCat,\n",
    "    data = bsa2019,\n",
    "    main = \"Attitude to Welfare by Age\",\n",
    "    xlab = \"Age Group\",\n",
    "    ylab = \"Attitude Score\",\n",
    "    col = \"steelblue\",\n",
    "    border = \"black\")"
   ]
  },
  {
   "cell_type": "markdown",
   "id": "ce06c0ea-e179-4500-9580-a37b72f1f53b",
   "metadata": {},
   "source": [
    "##### `ggplot2`"
   ]
  },
  {
   "cell_type": "code",
   "execution_count": 138,
   "id": "0eb026ce-37f6-40a6-b0a4-c9978ffa3bfb",
   "metadata": {},
   "outputs": [],
   "source": [
    "p <- ggplot(data = bsa2019[!(is.na(bsa2019$RAgeCat)),],\n",
    "       mapping = aes(x = RAgeCat, y = welfare2))"
   ]
  },
  {
   "cell_type": "code",
   "execution_count": 140,
   "id": "0431b910-9235-413f-9eee-e4112baa4ded",
   "metadata": {},
   "outputs": [],
   "source": [
    "fig4 <- p + geom_boxplot() + \n",
    "    theme_cowplot() +\n",
    "    labs(x = \"Age group\", y = \"Attitude Score\", title = \"Distribution of welfare attitudes across age groups\", subtitle = \"\", \n",
    "         caption = \"British Social Attitudes survey 2019, n=3,224\") # add labels, titles, notes etc"
   ]
  },
  {
   "cell_type": "code",
   "execution_count": 141,
   "id": "75b7d80a-a442-4228-a019-182ba666f69d",
   "metadata": {},
   "outputs": [
    {
     "name": "stderr",
     "output_type": "stream",
     "text": [
      "Warning message:\n",
      "\"\u001b[1m\u001b[22mRemoved 639 rows containing non-finite values (`stat_boxplot()`).\"\n"
     ]
    },
    {
     "data": {
      "image/png": "[encoded data removed]",
      "text/plain": [
       "plot without title"
      ]
     },
     "metadata": {
      "image/png": {
       "height": 420,
       "width": 420
      }
     },
     "output_type": "display_data"
    }
   ],
   "source": [
    "fig4"
   ]
  },
  {
   "cell_type": "code",
   "execution_count": 142,
   "id": "e4e4c8c3-7316-43e5-b732-c1b45195ec1b",
   "metadata": {},
   "outputs": [
    {
     "name": "stderr",
     "output_type": "stream",
     "text": [
      "Warning message:\n",
      "\"\u001b[1m\u001b[22mRemoved 639 rows containing non-finite values (`stat_boxplot()`).\"\n"
     ]
    }
   ],
   "source": [
    "ggsave(\"wel-age-plot-2023-11-28.png\", plot = fig4, height = 6, width = 8)"
   ]
  },
  {
   "cell_type": "markdown",
   "id": "e2abe5f2-e1e3-4e2f-84e7-b113abac36e6",
   "metadata": {},
   "source": [
    "#### Numeric & Numeric variables"
   ]
  },
  {
   "cell_type": "markdown",
   "id": "33e32a1f-9fb2-4f40-b2e6-975402aa1bd5",
   "metadata": {},
   "source": [
    "##### `base R`"
   ]
  },
  {
   "cell_type": "code",
   "execution_count": 148,
   "id": "63537963-f82e-4241-8412-91a11e819750",
   "metadata": {},
   "outputs": [
    {
     "data": {
      "image/png": "[encoded data removed]",
      "text/plain": [
       "Plot with title \"Distribution of Attitude to Welfare and Fraud\""
      ]
     },
     "metadata": {
      "image/png": {
       "height": 420,
       "width": 420
      }
     },
     "output_type": "display_data"
    }
   ],
   "source": [
    "plot(bsa2019$NatFrEst, bsa2019$welfare2, main = \"Distribution of Attitude to Welfare and Fraud\",\n",
    "    xlab = \"Benefit fraud estimate\",\n",
    "    ylab = \"Attitude Score\",\n",
    "    col = \"steelblue\")"
   ]
  },
  {
   "cell_type": "markdown",
   "id": "ecbcdd5d-5c11-4a35-87d7-df25c89ec227",
   "metadata": {},
   "source": [
    "##### `ggplot2`"
   ]
  },
  {
   "cell_type": "code",
   "execution_count": 149,
   "id": "c2d968ad-03b0-45c6-9de3-838a1c037e88",
   "metadata": {},
   "outputs": [],
   "source": [
    "p <- ggplot(data = bsa2019,\n",
    "       mapping = aes(x = NatFrEst, y = welfare2))"
   ]
  },
  {
   "cell_type": "code",
   "execution_count": 152,
   "id": "e6d49c2a-3081-4d5c-aa22-dd45693095e6",
   "metadata": {},
   "outputs": [],
   "source": [
    "fig5 <- p + geom_point() + \n",
    "    theme_cowplot() +\n",
    "    labs(x = \"Benefit fraud estimate\", y = \"Attitude Score\", title = \"Distribution of welfare attitudes and benefit fraud estimate\", subtitle = \"\", \n",
    "         caption = \"British Social Attitudes survey 2019, n=3,224\") # add labels, titles, notes etc"
   ]
  },
  {
   "cell_type": "code",
   "execution_count": 153,
   "id": "486701aa-4972-4208-9249-0771f4af81f8",
   "metadata": {},
   "outputs": [
    {
     "name": "stderr",
     "output_type": "stream",
     "text": [
      "Warning message:\n",
      "\"\u001b[1m\u001b[22mRemoved 812 rows containing missing values (`geom_point()`).\"\n"
     ]
    },
    {
     "data": {
      "image/png": "[encoded data removed]",
      "text/plain": [
       "plot without title"
      ]
     },
     "metadata": {
      "image/png": {
       "height": 420,
       "width": 420
      }
     },
     "output_type": "display_data"
    }
   ],
   "source": [
    "fig5"
   ]
  },
  {
   "cell_type": "code",
   "execution_count": 154,
   "id": "9f109e1f-4403-47c1-9c6d-1b16f8cdd91c",
   "metadata": {},
   "outputs": [
    {
     "name": "stderr",
     "output_type": "stream",
     "text": [
      "Warning message:\n",
      "\"\u001b[1m\u001b[22mRemoved 812 rows containing missing values (`geom_point()`).\"\n"
     ]
    }
   ],
   "source": [
    "ggsave(\"wel-ben-plot-2023-11-28.png\", plot = fig5, height = 6, width = 8)"
   ]
  }
 ],
 "metadata": {
  "kernelspec": {
   "display_name": "R",
   "language": "R",
   "name": "ir"
  },
  "language_info": {
   "codemirror_mode": "r",
   "file_extension": ".r",
   "mimetype": "text/x-r-source",
   "name": "R",
   "pygments_lexer": "r",
   "version": "4.3.1"
  }
 },
 "nbformat": 4,
 "nbformat_minor": 5
}
