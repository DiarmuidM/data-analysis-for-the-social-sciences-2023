{
 "cells": [
  {
   "cell_type": "markdown",
   "id": "otherwise-cache",
   "metadata": {},
   "source": [
    "<p align=\"right\"><i>Data Analysis for the Social Sciences - Part II - YYYY-MM-DD</i></p>"
   ]
  },
  {
   "cell_type": "markdown",
   "id": "dynamic-conjunction",
   "metadata": {},
   "source": [
    "# Week 10 - Bivariate Data Analysis"
   ]
  },
  {
   "cell_type": "markdown",
   "id": "exclusive-methodology",
   "metadata": {},
   "source": [
    "Welcome to Part II of Data Analysis for the Social Sciences. In this lab session we will conduct a range of bivariate analyses of combinations of categorical and numeric variables."
   ]
  },
  {
   "cell_type": "markdown",
   "id": "1ea8a839",
   "metadata": {},
   "source": [
    "We will use real data from the *British Social Attitudes survey, 2019: Poverty and Welfare*, specifically the open dataset available from the UK Data Service: https://doi.org/10.5255/UKDA-SN-8850-1"
   ]
  },
  {
   "cell_type": "markdown",
   "id": "805ddb64-6843-4a6f-9e8b-cff72794c94a",
   "metadata": {},
   "source": [
    "We will structure our analyses around the following research question:"
   ]
  },
  {
   "cell_type": "markdown",
   "id": "0c735b14-470a-48fd-9392-ac885263486a",
   "metadata": {},
   "source": [
    "<p><center><i>Are attitudes to welfare associated with sex, age, interest in politics, and perception of benefits fraud?</i></center></p>"
   ]
  },
  {
   "cell_type": "markdown",
   "id": "scenic-silly",
   "metadata": {},
   "source": [
    "### Aims\n",
    "\n",
    "This lesson - **Bivariate Data Analysis** - has two aims:\n",
    "1. Demonstrate how to assess whether two variables are associated.\n",
    "2. Cultivate your computational skills through the use of the statistical programming langauge *R*. For example, there are a number of opportunities for you to amend or write R syntax (code)."
   ]
  },
  {
   "cell_type": "markdown",
   "id": "judicial-prediction",
   "metadata": {},
   "source": [
    "### Lesson details\n",
    "\n",
    "* **Level**: Introductory, for individuals with minimal prior knowledge or experience of quantitative data analysis.\n",
    "* **Duration**: 60-75 minutes.\n",
    "* **Pre-requisites**: Completed [*Univariate Data Analysis*](./dass-week-9-univariate-analysis.ipynb) lesson.\n",
    "* **Programming language**: R.\n",
    "* **Learning outcomes**:\n",
    "\t1. Understand how to use R for conducting bivariate data analysis.\n",
    "\t2. Understand how to select and apply common data analysis techniques for categorical and numeric variables."
   ]
  },
  {
   "cell_type": "markdown",
   "id": "terminal-agenda",
   "metadata": {},
   "source": [
    "## Guide to using this resource\n",
    "\n",
    "This learning resource was built using <a href=\"https://jupyter.org/\" target=_blank>Jupyter Notebook</a>, an open-source software application that allows you to mix code, results and narrative in a single document. As <a href=\"https://jupyter4edu.github.io/jupyter-edu-book/\" target=_blank>Barba et al. (2019)</a> espouse:\n",
    "> In a world where every subject matter can have a data-supported treatment, where computational devices are omnipresent and pervasive, the union of natural language and computation creates compelling communication and learning opportunities.\n",
    "\n",
    "If you are familiar with Jupyter notebooks then skip ahead to the main content (*Quick Recap: Analysing More Than One Variable*). Otherwise, the following is a quick guide to navigating and interacting with the notebook."
   ]
  },
  {
   "cell_type": "markdown",
   "id": "interested-radar",
   "metadata": {},
   "source": [
    "### Interaction\n",
    "\n",
    "**You only need to execute the code that is contained in sections which are marked by `[]`.**\n",
    "\n",
    "To execute a cell, click or double-click the cell and press the `Play` button next to the cell or select the `Run` button on the top toolbar (*Runtime > Run the focused cell*); you can also use the keyboard shortcuts `Shift + Enter` or `Ctrl + Enter`).\n",
    "\n",
    "Try it for yourself:"
   ]
  },
  {
   "cell_type": "code",
   "execution_count": null,
   "id": "dominican-hardware",
   "metadata": {},
   "outputs": [],
   "source": [
    "name <- readline(prompt=\"Enter name: \")\n",
    "print(paste(\"Hi,\", name, \"enjoy learning more about R and bivariate analysis!\"))"
   ]
  },
  {
   "cell_type": "markdown",
   "id": "through-storm",
   "metadata": {},
   "source": [
    "Notebooks are sequential, meaning code should be executed in order (top to bottom). For example, the following code won't work:"
   ]
  },
  {
   "cell_type": "code",
   "execution_count": null,
   "id": "outstanding-bulgaria",
   "metadata": {},
   "outputs": [],
   "source": [
    "x * 5"
   ]
  },
  {
   "cell_type": "markdown",
   "id": "handmade-madagascar",
   "metadata": {},
   "source": [
    "As the error message suggests, there is no object (variable) called `x`, therefore we cannot do any calculations with it. \n",
    "\n",
    "Let's try a sequential approach:"
   ]
  },
  {
   "cell_type": "code",
   "execution_count": null,
   "id": "addressed-assumption",
   "metadata": {},
   "outputs": [],
   "source": [
    "x <- 10 # create an object called 'x' and give it the value '10'"
   ]
  },
  {
   "cell_type": "code",
   "execution_count": null,
   "id": "crucial-implement",
   "metadata": {},
   "outputs": [],
   "source": [
    "x * 5 # multiply 'x' by 5"
   ]
  },
  {
   "cell_type": "markdown",
   "id": "covered-round",
   "metadata": {},
   "source": [
    "### Learn more\n",
    "\n",
    "Jupyter notebooks provide rich, flexible features for conducting and documenting your data analysis workflow. To learn more about additional notebook features, we recommend working through some of the <a href=\"https://github.com/darribas/gds19/blob/master/content/labs/lab_00.ipynb\" target=_blank>materials</a> provided by Dani Arribas-Bel at the University of Liverpool. "
   ]
  },
  {
   "cell_type": "markdown",
   "id": "floppy-escape",
   "metadata": {},
   "source": [
    "### Learner input\n",
    "\n",
    "Throughout the lessons there are times when you need to do the following activities:\n",
    "* **TASK:** A coding task for you to complete (e.g. analyse different variables).\n",
    "* **QUESTION:** A question regarding your interpretation of some code or a technique (e.g. what is the piece of code doing?).\n",
    "* **EXERCISE:** A data analysis challenge for you to complete."
   ]
  },
  {
   "cell_type": "markdown",
   "id": "democratic-office",
   "metadata": {},
   "source": [
    "## Quick Recap: Analysing More Than One Variable"
   ]
  },
  {
   "cell_type": "markdown",
   "id": "respected-comedy",
   "metadata": {},
   "source": [
    "In the *Univariate Data Analysis* lesson, we learned how to produce statistical summaries of categorical and numeric variables. This is an important step in any quantitative data analysis as it provides a basic understanding of our key variables. However many of the more interesting social science research questions involve **making comparisons**:\n",
    "* [Is there a difference in the earnings of men and women?](https://doi.org/10.1177%2F0095399716636928)\n",
    "* [Are children living in the most deprived areas more likely to be obese than those living in the least deprived?](http://dx.doi.org/10.1136/archdischild-2014-307036)\n",
    "* [Does ethnicity affect trust in the police?](https://doi.org/10.1177%2F1098611104271105) "
   ]
  },
  {
   "cell_type": "markdown",
   "id": "agricultural-virtue",
   "metadata": {},
   "source": [
    "Thus in this lesson we will focus on making comparisons using two variables of interest. In particular we will compare the following types of variables:\n",
    "* **Categorical & Categorical**\n",
    "* **Categorical & Numeric**\n",
    "* **Numeric & Numeric**"
   ]
  },
  {
   "cell_type": "markdown",
   "id": "dominican-flood",
   "metadata": {},
   "source": [
    "Although the specific bivariate analysis techniques vary depending on which types of variables we are comparing, there is a common process:\n",
    "1. Produce a table or graph of the **joint distribution** of the two variables.\n",
    "2. Calculate a statistic that **summarises key features** of the joint distribution.\n",
    "3. Make a statement about whether **the pattern you observe is likely to generalise or not** (that is, does the pattern only exist in your sample? Or are you likely to find it also in the population from which your sample came?).\n",
    "\n",
    "We will focus on the first two steps in the process in this lesson. In Week 11 we will address the third step."
   ]
  },
  {
   "cell_type": "markdown",
   "id": "level-cable",
   "metadata": {},
   "source": [
    "### Association"
   ]
  },
  {
   "cell_type": "markdown",
   "id": "republican-student",
   "metadata": {},
   "source": [
    "The purpose of making comparisons is to reveal whether there is an association between two variables. What do we mean by association? Simply that there is a statistical relationship between two variables (Fogarty, 2019). For example, as the value of one variable increases, do we also observe a similar increase in a second variable?\n",
    "\n",
    "The relationship may be non-existent, weak, moderate or strong. It may be positive (both variables increase/decrease in value) or negative (e.g., one increases and the other decreases).\n",
    "\n",
    "In social science research, we often distinguish the variables as follows:\n",
    "* **X** - the variable we think predicts or explains the values of another variable (also known as an **independent variable** or **predictor**).\n",
    "* **Y** - the variable we think is predicted or explained by the values of X (also known as a **dependent variable** or **outcome**).\n",
    "\n",
    "The designation of one variable as X and the other as Y is your decision and does not affect the type of bivariate analysis you need. It simply provides a better link with a theory you think explains the relationship you observe."
   ]
  },
  {
   "cell_type": "markdown",
   "id": "above-blake",
   "metadata": {},
   "source": [
    "**Caveat**: it is important to remember that even though two variables may be associated, it does not mean there is a causal link between them. As is oft-stated: correlation does not equal causation."
   ]
  },
  {
   "cell_type": "markdown",
   "id": "korean-category",
   "metadata": {},
   "source": [
    "![xkcd comic](https://imgs.xkcd.com/comics/correlation.png)"
   ]
  },
  {
   "cell_type": "markdown",
   "id": "standing-welding",
   "metadata": {},
   "source": [
    "## Bivariate Data Analysis"
   ]
  },
  {
   "cell_type": "markdown",
   "id": "95e942c4",
   "metadata": {},
   "source": [
    "### Importing data"
   ]
  },
  {
   "cell_type": "markdown",
   "id": "ebe32bdb-fee9-4b93-b815-0ba92555ac11",
   "metadata": {},
   "source": [
    "The first step is to import the *British Social Attitudes survey* data for analysis."
   ]
  },
  {
   "cell_type": "code",
   "execution_count": null,
   "id": "75cd7b28-920d-43f9-871c-a574d216b63e",
   "metadata": {},
   "outputs": [],
   "source": [
    "bsa2019 <- read.table(\"https://raw.githubusercontent.com/DiarmuidM/data-analysis-for-the-social-sciences-2023/main/lessons/data/bsa2019_poverty_open.tab\", header=TRUE, na=\"NA\", sep=\"\\t\")\n",
    "head(bsa2019) # view the first six observations"
   ]
  },
  {
   "cell_type": "code",
   "execution_count": null,
   "id": "48a7023f-c4c4-4050-8cdc-713240be25e3",
   "metadata": {},
   "outputs": [],
   "source": [
    "names(bsa2019)"
   ]
  },
  {
   "cell_type": "markdown",
   "id": "c43ee4ce",
   "metadata": {},
   "source": [
    "### Data cleaning"
   ]
  },
  {
   "cell_type": "markdown",
   "id": "cd78cb2b",
   "metadata": {},
   "source": [
    "There are a number of important steps that need to be executed before proceeding with the analysis:\n",
    "* Handling missing values\n",
    "* Labelling values of categorical variables\n",
    "\n",
    "We cover these techniques in a separate notebook: [Data Cleaning](./dass-bsa-data-cleaning.ipynb) \n",
    "\n",
    "**Please note that you will be expected to perform these tasks for your own analysis.**"
   ]
  },
  {
   "cell_type": "code",
   "execution_count": null,
   "id": "e614c013-6d1d-4b34-9e24-70e9439867ec",
   "metadata": {},
   "outputs": [],
   "source": [
    "bsa2019$welfare2[bsa2019$welfare2<1 | bsa2019$welfare2>5] <- NA # convert \"-1\" and \"9\" to missing"
   ]
  },
  {
   "cell_type": "code",
   "execution_count": null,
   "id": "33be045e-889a-4094-bd1c-51a6b847bbc1",
   "metadata": {},
   "outputs": [],
   "source": [
    "bsa2019$NatFrEst[bsa2019$NatFrEst>100] <- NA # convert \"998\" and \"999\" to missing"
   ]
  },
  {
   "cell_type": "code",
   "execution_count": null,
   "id": "4a7bff88-5733-44e4-91aa-69718fce0812",
   "metadata": {},
   "outputs": [],
   "source": [
    "bsa2019$RSex <- factor(bsa2019$RSex, levels = c(1,2), labels = c(\"Male\", \"Female\"))"
   ]
  },
  {
   "cell_type": "code",
   "execution_count": null,
   "id": "3bc51a98-1522-4eb4-85de-4d0a06851844",
   "metadata": {},
   "outputs": [],
   "source": [
    "bsa2019$RAgeCat <- factor(bsa2019$RAgeCat, levels = c(1,2,3,4,5,6,7), labels = c(\"18-24\", \"25-34\", \"35-44\", \"45-54\", \"55-59\", \"60-64\", \"65+\"))"
   ]
  },
  {
   "cell_type": "code",
   "execution_count": null,
   "id": "b33bc82d-c1c2-49b9-ad0f-8731418058aa",
   "metadata": {},
   "outputs": [],
   "source": [
    "bsa2019$Married <- factor(bsa2019$Married, levels = c(1,2,3,4), labels = c(\"Married/living as married\", \n",
    "                                                                               \"Separated/divorced\", \n",
    "                                                                               \"Widowed\", \n",
    "                                                                               \"Never married\"))"
   ]
  },
  {
   "cell_type": "code",
   "execution_count": null,
   "id": "0a68296f-aa34-47f2-9a7d-1e812336e563",
   "metadata": {},
   "outputs": [],
   "source": [
    "bsa2019$HEdQual3 <- factor(bsa2019$HEdQual3, levels = c(1,2,3,4), labels = c(\"Degree\", \"Below degree / A level\", \"O level\", \"No qual\"))"
   ]
  },
  {
   "cell_type": "markdown",
   "id": "wired-found",
   "metadata": {},
   "source": [
    "### Categorical & Categorical"
   ]
  },
  {
   "cell_type": "markdown",
   "id": "complicated-ebony",
   "metadata": {},
   "source": [
    "We can have three combinations of categorical variables:\n",
    "1. Nominal & Nominal\n",
    "2. Nominal & Ordinal\n",
    "3. Ordinal & Ordinal\n",
    "\n",
    "In each case we will look at the joint distribution of two variables and select an appropriate **measure of association**."
   ]
  },
  {
   "cell_type": "markdown",
   "id": "spoken-window",
   "metadata": {},
   "source": [
    "#### Ordinal & Ordinal"
   ]
  },
  {
   "cell_type": "markdown",
   "id": "basic-lending",
   "metadata": {},
   "source": [
    "##### Joint distribution"
   ]
  },
  {
   "cell_type": "markdown",
   "id": "entitled-awareness",
   "metadata": {},
   "source": [
    "Recall in the univariate data analysis lesson that the appropriate way of analysing categorical variables is to produce a frequency table or bar chart:"
   ]
  },
  {
   "cell_type": "code",
   "execution_count": null,
   "id": "adjustable-developer",
   "metadata": {},
   "outputs": [],
   "source": [
    "table(bsa2019$Married)"
   ]
  },
  {
   "cell_type": "code",
   "execution_count": null,
   "id": "expired-topic",
   "metadata": {},
   "outputs": [],
   "source": [
    "barplot(table(bsa2019$Married))"
   ]
  },
  {
   "cell_type": "markdown",
   "id": "postal-hybrid",
   "metadata": {},
   "source": [
    "We observe that the modal (most frequent) relationship status is 'Married/living as married', followed by those who are not married. An interesting extension of this analysis would be to ask: does this pattern (or distribution) change if we consider the age of the respondents? For example, would the frequency table or bar chart look different if we only consider 18-24 year olds?"
   ]
  },
  {
   "cell_type": "markdown",
   "id": "continent-drunk",
   "metadata": {},
   "source": [
    "We can do this by producing a frequency table of two variables simultaneously, known as a **crosstabulation** or **contingency table**:"
   ]
  },
  {
   "cell_type": "code",
   "execution_count": null,
   "id": "alternate-scene",
   "metadata": {},
   "outputs": [],
   "source": [
    "table(bsa2019$RAgeCat, bsa2019$Married)"
   ]
  },
  {
   "cell_type": "markdown",
   "id": "ecological-meter",
   "metadata": {},
   "source": [
    "Here is what the above command does:\n",
    "* uses the `table()` function to produce a crosstabulation of two categorical variables.\n",
    "* specifies two variables: `agrp` and `religimp`. Note that the first variable in the command is considered the **independent (X) variable** and the second the **dependent (Y) variable**."
   ]
  },
  {
   "cell_type": "markdown",
   "id": "documented-exposure",
   "metadata": {},
   "source": [
    "Now let's interpret the joint distribution of relationship status and age group. Because we are interested in explaining variation in relationship status by age group (and we know this because we listed `Married` second in the `table()` command), we compare **down the columns** (that is, for a given column we look down / up the rows).\n",
    "\n",
    "For example, 'Never married' is most frequent category only for the youngest respondents, swiftly replaced by 'Married/living as married' for all other ages."
   ]
  },
  {
   "cell_type": "markdown",
   "id": "robust-arabic",
   "metadata": {},
   "source": [
    "Thus it appears that the variables are at least somewhat related. However we need to be cautious when interpreting the raw numbers. What we are really interested in is whether a higher **percentage** of respondents in a particular age group are in a particular relationship status. The raw counts can be misleading because age groups can have different numbers of respondents in them overall and subsequently lower numbers across the relationship status categories."
   ]
  },
  {
   "cell_type": "code",
   "execution_count": null,
   "id": "casual-blair",
   "metadata": {},
   "outputs": [],
   "source": [
    "rstat_age_table <- table(bsa2019$RAgeCat, bsa2019$Married) # store the results of the `table()` command in an object called 'relig_age_table'"
   ]
  },
  {
   "cell_type": "code",
   "execution_count": null,
   "id": "attended-agreement",
   "metadata": {},
   "outputs": [],
   "source": [
    "round(prop.table(rstat_age_table, 1)* 100, 0) # display row percentages"
   ]
  },
  {
   "cell_type": "markdown",
   "id": "advised-conservation",
   "metadata": {},
   "source": [
    "Now we have a better sense of how the responses are distributed across categories. For example, we clearly see the decline in respondents who are never married as age increases - from 87% in the youngest age group to 5% in the oldest."
   ]
  },
  {
   "cell_type": "markdown",
   "id": "running-district",
   "metadata": {},
   "source": [
    "**QUESTION**: which age groups are most likely to be separated or divorced? "
   ]
  },
  {
   "cell_type": "markdown",
   "id": "solar-healing",
   "metadata": {},
   "source": [
    "It can often be easier to interpret the joint distribution of two variables using a graph:"
   ]
  },
  {
   "cell_type": "code",
   "execution_count": null,
   "id": "fifteen-hollow",
   "metadata": {},
   "outputs": [],
   "source": [
    "rstat_age_perc_table <- round(prop.table(rstat_age_table, 1)* 100, 0)\n",
    "\n",
    "barplot(rstat_age_perc_table, main=\"Relationship status by age group\",\n",
    "  xlab=\"Relationship status\", ylab=\"% of respondents\", col = c(\"grey\", \"grey\", \"grey\", \"grey\",\"grey\", \"grey\", \"red\"), \n",
    "  legend = rownames(rstat_age_perc_table), beside=TRUE, args.legend=list(x=\"topleft\"))"
   ]
  },
  {
   "cell_type": "markdown",
   "id": "sweet-letters",
   "metadata": {},
   "source": [
    "In the example above we decided to just highlight the '65+' category (using the colour red).\n",
    "\n",
    "This graph is not particular pleasant to look at but serves our exploratory data analysis purposes.\n",
    "\n",
    "We'll learn how to create publication-ready graphs in Week 12."
   ]
  },
  {
   "cell_type": "markdown",
   "id": "tamil-adapter",
   "metadata": {},
   "source": [
    "**TASK**: produce a bar chart of `Married` and `RSex`."
   ]
  },
  {
   "cell_type": "code",
   "execution_count": null,
   "id": "considerable-algebra",
   "metadata": {},
   "outputs": [],
   "source": [
    "# INSERT CODE HERE"
   ]
  },
  {
   "cell_type": "markdown",
   "id": "diverse-zealand",
   "metadata": {},
   "source": [
    "##### Measures of association"
   ]
  },
  {
   "cell_type": "markdown",
   "id": "identical-complex",
   "metadata": {},
   "source": [
    "Crosstabulations and bar charts are an excellent means of getting a sense of whether an association exists, and its nature. However we would also like to know how **strong** the association is and in which **direction** it runs. For instance:\n",
    "* the observed decline in respondents who are never married as age increases - from 87% in the youngest age group to 5% in the oldest.\n",
    "\n",
    "Is this evidence of a weak, moderate or strong association? Should we not expect relationship status to vary across age groups anyway, just due to random variation? And are there meaningful differences between some age groups e.g., the percentage who are never married in the 45-64 age groups?\n",
    "\n",
    "Therefore it would be good to have a single number that summarises the strength and/or the direction of the association. We call this number a **measure of association**."
   ]
  },
  {
   "cell_type": "markdown",
   "id": "younger-transsexual",
   "metadata": {},
   "source": [
    "In order to select an appropriate measure of association, we once again consider the level of measurement of our variables:\n",
    "* `Married` is an ordinal variable\n",
    "* `RAgeCat` is an ordinal variable\n",
    "\n",
    "In this instance we can select from two options:\n",
    "1. *Kendall's tau-B* - we use this when we have the same number of categories in each variable (or same number of rows and columns in a crosstabulation)\n",
    "2. *Goodman and Kruskal's gamma* - we use this when we have a different number of categories in each variable (or different number of rows and columns in a crosstabulation)"
   ]
  },
  {
   "cell_type": "markdown",
   "id": "monetary-atlantic",
   "metadata": {},
   "source": [
    "* Both measures produce coefficients that range from -1 to 1.\n",
    "* Negative coefficients represent negative associations (e.g., one variable increases, other decreases and vice versa) and positive coefficients represent positive associations (e.g., one variable increases, the other increases and vice versa). \n",
    "* The strength of the association is greater as the coefficient approaches either -1 or 1. \n",
    "* A value close to zero indicates the absence of an association."
   ]
  },
  {
   "cell_type": "markdown",
   "id": "infrared-translation",
   "metadata": {},
   "source": [
    "As both variables do not have the same number of categories, we should not use *Kendall's tau-B*. Instead we will calculate *Goodman and Kruskal's gamma*:"
   ]
  },
  {
   "cell_type": "code",
   "execution_count": null,
   "id": "6c181013",
   "metadata": {},
   "outputs": [],
   "source": [
    "install.packages(\"DescTools\") # install the necessary package - only needs to be done once"
   ]
  },
  {
   "cell_type": "code",
   "execution_count": null,
   "id": "dental-details",
   "metadata": {},
   "outputs": [],
   "source": [
    "library(DescTools) # import the package containing the `GoodmanKruskalGamma()` command"
   ]
  },
  {
   "cell_type": "code",
   "execution_count": null,
   "id": "mighty-ambassador",
   "metadata": {},
   "outputs": [],
   "source": [
    "GoodmanKruskalGamma(bsa2019$RAgeCat, bsa2019$Married) # the order of the variables does not matter"
   ]
  },
  {
   "cell_type": "markdown",
   "id": "8e2ca8d7-e667-4f2a-8aa9-10ae601341e0",
   "metadata": {},
   "source": [
    "How do we interpret this coefficient? We start by looking at the **sign**: it is negative (note the minus symbol), indicating that there is a negative association between relationship status and age. That is, as the value of one variable increases, the value of the other decreases. This is easier to understand when you look at how the categories of each variable are numbered:\n",
    "* for `RAgeCat` the '18-24' category is given the value '1', '25-34' the value '2' and so on\n",
    "* for `Married` the 'Married/living as married' category is given the value '1', 'Separated/divorced' the value '2' and so on\n",
    "\n",
    "Therefore the association coefficient tells us that as the value of `RAgeCat` increases, the value of `Married` decreases. Which substantively means that as people get older they are more likely to be married or separated/divorced.\n",
    "\n",
    "We can understand how much more likely by looking at the **magnitude** of the coefficient: .13 (rounded to two decimal places). Recall that *Goodman and Kruskal's gamma* coefficient ranges from -1 to 1. Therefore the coefficient is quite close to zero and thus evidence of a **weak association**."
   ]
  },
  {
   "cell_type": "markdown",
   "id": "failing-lindsay",
   "metadata": {},
   "source": [
    "In summary, how would we characterise the association between these two variables? We would say there is a weak, negative association: older people are more likely to be married or separated/divorced but the differences between the older age groups are not large."
   ]
  },
  {
   "cell_type": "markdown",
   "id": "furnished-lunch",
   "metadata": {},
   "source": [
    "Even though it is not considered appropriate in this instance, let's see whether the coefficient for *Kendall's tau-B* is similar:"
   ]
  },
  {
   "cell_type": "code",
   "execution_count": null,
   "id": "meaning-hollow",
   "metadata": {},
   "outputs": [],
   "source": [
    "cor.test(as.numeric(bsa2019$RAgeCat), as.numeric(bsa2019$Married), method=\"kendall\") # Kendall's tau-B"
   ]
  },
  {
   "cell_type": "markdown",
   "id": "legendary-calendar",
   "metadata": {},
   "source": [
    "#### Nominal & Nominal \n",
    "#### AND\n",
    "#### Nominal & Ordinal"
   ]
  },
  {
   "cell_type": "markdown",
   "id": "higher-queen",
   "metadata": {},
   "source": [
    "What if we have at least one nominal variable in our bivariate analysis? Given that this type of variable does not have an inherent order (e.g., sex at birth, ethnicity), it does not make sense to speak about the direction of the association (i.e., positive or negative). Therefore we need a different measure that only summarises the strength of an association: \n",
    "* *Cramer's V*\n",
    "\n",
    "*Cramer's V* is bounded between 0 and 1, and tells us the strength of the association when there is at least one nominal variable.\n",
    "\n",
    "Let's look at an example: is a respondent's sex at birth related to relationship status."
   ]
  },
  {
   "cell_type": "code",
   "execution_count": null,
   "id": "inappropriate-valuable",
   "metadata": {},
   "outputs": [],
   "source": [
    "rstat_sex_table <- table(bsa2019$RSex, bsa2019$Married) # store the results of the `table()` command in an object called 'relig_age_table'\n",
    "round(prop.table(rstat_sex_table, 1)* 100, 0) # row percentages"
   ]
  },
  {
   "cell_type": "markdown",
   "id": "starting-camera",
   "metadata": {},
   "source": [
    "It appears that females are less likely to be married and more likely to be widowed. Let's summarise this pattern using *Cramer's V*:"
   ]
  },
  {
   "cell_type": "code",
   "execution_count": null,
   "id": "powerful-continent",
   "metadata": {},
   "outputs": [],
   "source": [
    "CramerV(bsa2019$RSex, bsa2019$Married)"
   ]
  },
  {
   "cell_type": "markdown",
   "id": "smart-slave",
   "metadata": {},
   "source": [
    "**QUESTION**: how would you describe the strength of the association between sex at birth and relationship status?"
   ]
  },
  {
   "cell_type": "markdown",
   "id": "7cd12585-1fc8-4d09-bf11-ecc55cf84f7e",
   "metadata": {},
   "source": [
    "**TASK:** Produce a bivariate analysis of educational qualification (`HEdQual3`) and (`RSex`). Start by determining the level of measurement of each variable (e.g., nominal / ordinal), produce a joint distribution, and calculate a measure of association. Using these analyses describe the relaitonship between the two variables."
   ]
  },
  {
   "cell_type": "code",
   "execution_count": 75,
   "id": "fc57c40e-979f-46cb-8e26-ab50ba20fbf2",
   "metadata": {},
   "outputs": [],
   "source": [
    "# INSERT CODE HERE"
   ]
  },
  {
   "cell_type": "markdown",
   "id": "canadian-bankruptcy",
   "metadata": {},
   "source": [
    "### Categorical & Numeric"
   ]
  },
  {
   "cell_type": "markdown",
   "id": "oriental-purpose",
   "metadata": {},
   "source": [
    "How do we approach bivariate analysis when we have one categorical and one numeric variable? The key task is to summarise the numeric variable for different categories of our categorical variable. That is, we want to see if measures of central tendency (e.g., mean, median) and dispersion (e.g., standard deviation, minimum, maximum) vary across categories of a chosen variable."
   ]
  },
  {
   "cell_type": "markdown",
   "id": "established-immigration",
   "metadata": {},
   "source": [
    "#### Joint distribution"
   ]
  },
  {
   "cell_type": "markdown",
   "id": "loving-forward",
   "metadata": {},
   "source": [
    "We can use a **table of means** to see how the average of a numeric variable varies across categories of a categorical variable. For instance, let's examine whether welfare attitudes vary across different age groups (`RAgeCat`) and sexes (`RSex`).\n",
    "\n",
    "Firstly, let's summarise our numeric variable:"
   ]
  },
  {
   "cell_type": "code",
   "execution_count": null,
   "id": "equal-shuttle",
   "metadata": {},
   "outputs": [],
   "source": [
    "summary(bsa2019$welfare2)"
   ]
  },
  {
   "cell_type": "code",
   "execution_count": null,
   "id": "spiritual-tunisia",
   "metadata": {},
   "outputs": [],
   "source": [
    "sd(bsa2019$welfare2, na.rm=TRUE)"
   ]
  },
  {
   "cell_type": "code",
   "execution_count": null,
   "id": "promotional-horror",
   "metadata": {},
   "outputs": [],
   "source": [
    "hist(bsa2019$welfare2)"
   ]
  },
  {
   "cell_type": "markdown",
   "id": "junior-recognition",
   "metadata": {},
   "source": [
    "We see that the average attitude is slightly less sympathetic and that most people are within .63 point of this average.\n",
    "\n",
    "Now we want to examine whether the average attitude varies by age group."
   ]
  },
  {
   "cell_type": "code",
   "execution_count": null,
   "id": "second-tooth",
   "metadata": {},
   "outputs": [],
   "source": [
    "aggregate(welfare2 ~ RAgeCat, data = bsa2019, mean)"
   ]
  },
  {
   "cell_type": "code",
   "execution_count": null,
   "id": "convinced-landscape",
   "metadata": {},
   "outputs": [],
   "source": [
    "aggregate(welfare2 ~ RAgeCat, data = bsa2019, median)"
   ]
  },
  {
   "cell_type": "markdown",
   "id": "abstract-religious",
   "metadata": {},
   "source": [
    "Perhaps surprisingly(?), all age groups hold similar typical attitudes to welfare claimants in Britain."
   ]
  },
  {
   "cell_type": "markdown",
   "id": "convinced-telephone",
   "metadata": {},
   "source": [
    "We can employ the same technique - using a summary table - to examine whether attitudes to welfare are **more variable** within certain age groups. That is, does the standard deviation vary across categories of age? Recall that the standard deviation is a measure of dispersion and tells us whether the mean is a good representation of the values of a variable."
   ]
  },
  {
   "cell_type": "code",
   "execution_count": null,
   "id": "equipped-albert",
   "metadata": {},
   "outputs": [],
   "source": [
    "aggregate(welfare2 ~ RAgeCat, data = bsa2019, sd)"
   ]
  },
  {
   "cell_type": "markdown",
   "id": "classical-maria",
   "metadata": {},
   "source": [
    "The standard deviation does not vary much across age groups, though it is smaller for the oldest respondents (indicating they are more homogenous in their attitude to welfare)."
   ]
  },
  {
   "cell_type": "markdown",
   "id": "global-lodging",
   "metadata": {},
   "source": [
    "We could also look at the minimum and maximum values across age groups:"
   ]
  },
  {
   "cell_type": "code",
   "execution_count": null,
   "id": "portable-shoot",
   "metadata": {},
   "outputs": [],
   "source": [
    "aggregate(welfare2 ~ RAgeCat, data = bsa2019, min)"
   ]
  },
  {
   "cell_type": "code",
   "execution_count": null,
   "id": "antique-leather",
   "metadata": {},
   "outputs": [],
   "source": [
    "aggregate(welfare2 ~ RAgeCat, data = bsa2019, max)"
   ]
  },
  {
   "cell_type": "markdown",
   "id": "mathematical-casino",
   "metadata": {},
   "source": [
    "The most unsympathetic respondents are in the oldest age group. Despite this it is clear that each age group contains a similar range of attitudes to welfare. This can seen more clearly using a graph known as a **boxplot**:"
   ]
  },
  {
   "cell_type": "code",
   "execution_count": null,
   "id": "casual-merchandise",
   "metadata": {},
   "outputs": [],
   "source": [
    "boxplot(welfare2 ~ RAgeCat,\n",
    "    data = bsa2019,\n",
    "    main = \"Attitude to Welfare by Age\",\n",
    "    xlab = \"Age Group\",\n",
    "    ylab = \"Attitude Score\",\n",
    "    col = \"steelblue\",\n",
    "    border = \"black\")"
   ]
  },
  {
   "cell_type": "markdown",
   "id": "outdoor-capital",
   "metadata": {},
   "source": [
    "Learn more about boxplots and how to interpret them: [Reading box plots](https://www.khanacademy.org/math/cc-sixth-grade-math/cc-6th-data-statistics/cc-6th-box-whisker-plots/v/reading-box-and-whisker-plots)"
   ]
  },
  {
   "cell_type": "markdown",
   "id": "allied-melissa",
   "metadata": {},
   "source": [
    "#### Measures of association"
   ]
  },
  {
   "cell_type": "markdown",
   "id": "greater-tactics",
   "metadata": {},
   "source": [
    "The appropriate measure of association when you have one categorical and one numeric variable is:\n",
    "* *Eta squared*\n",
    "\n",
    "This tells us the strength of the association but not the direction (we need to infer this from the summary tables above). *Eta squared* coefficient ranges from 0 to 1, with higher values representing stronger associations."
   ]
  },
  {
   "cell_type": "code",
   "execution_count": null,
   "id": "71dc6bb3",
   "metadata": {},
   "outputs": [],
   "source": [
    "install.packages(\"lsr\") # install the necessary package - only needs to be done once"
   ]
  },
  {
   "cell_type": "code",
   "execution_count": null,
   "id": "molecular-current",
   "metadata": {},
   "outputs": [],
   "source": [
    "library(lsr) # import the package containing the `etaSquared()` command"
   ]
  },
  {
   "cell_type": "code",
   "execution_count": null,
   "id": "successful-jordan",
   "metadata": {},
   "outputs": [],
   "source": [
    "model <- aov(welfare2 ~ RAgeCat, data = bsa2019)\n",
    "etaSquared(model)"
   ]
  },
  {
   "cell_type": "markdown",
   "id": "vietnamese-tongue",
   "metadata": {},
   "source": [
    "The very low value for the *Eta squared* coefficient implies that there is a non-existent association between attitudes to welfare and age. This makes sense, as the variation (differences) in average attitude across age groups is negligible."
   ]
  },
  {
   "cell_type": "markdown",
   "id": "unlikely-firewall",
   "metadata": {},
   "source": [
    "**TASK:** Produce some tables of summary statistics and a boxplot for the association between attitudes to welfare (`welfare2`) and sex at birth (`rsex`). Calculate the appropriate measure of association."
   ]
  },
  {
   "cell_type": "code",
   "execution_count": null,
   "id": "ea41dae4",
   "metadata": {},
   "outputs": [],
   "source": [
    "# INSERT CODE HERE"
   ]
  },
  {
   "cell_type": "markdown",
   "id": "breathing-france",
   "metadata": {},
   "source": [
    "### Numeric & Numeric"
   ]
  },
  {
   "cell_type": "markdown",
   "id": "reliable-lemon",
   "metadata": {},
   "source": [
    "Finally, we consider associations between two numeric variables, often known as **correlation** analysis. \n",
    "\n",
    "Let's examine whether there is an association between welfare attitudes and perceptions of benefits fraud (i.e., what percentage of individuals are claiming their benefits fraudulently)."
   ]
  },
  {
   "cell_type": "markdown",
   "id": "numeric-evaluation",
   "metadata": {},
   "source": [
    "#### Joint distribution"
   ]
  },
  {
   "cell_type": "markdown",
   "id": "1029125c",
   "metadata": {},
   "source": [
    "Firstly, we can examine the distribution of each variable side-by-side:"
   ]
  },
  {
   "cell_type": "code",
   "execution_count": null,
   "id": "8020242c",
   "metadata": {},
   "outputs": [],
   "source": [
    "# create a figure with two plots\n",
    "# set graphical parameters for a figure of one row, two columns\n",
    "par(mfrow = c(1, 2))\n",
    "\n",
    "hist(bsa2019$welfare2)\n",
    "hist(bsa2019$NatFrEst)"
   ]
  },
  {
   "cell_type": "markdown",
   "id": "existing-wildlife",
   "metadata": {},
   "source": [
    "A better way of displaying the joint distribution of two numeric variables is to use a **scatterplot**:"
   ]
  },
  {
   "cell_type": "code",
   "execution_count": null,
   "id": "environmental-powell",
   "metadata": {},
   "outputs": [],
   "source": [
    "plot(bsa2019$NatFrEst, bsa2019$welfare2) # X variable (axis) is listed first, Y variable (axis) second"
   ]
  },
  {
   "cell_type": "markdown",
   "id": "tracked-clinton",
   "metadata": {},
   "source": [
    "A visual inspection of the joint distribution reveals a pattern: the more people a respondent thinks is committing benefit fraud, the less sympathetic their attitude is to wlefare claimants / welfare system more generally.\n",
    "\n",
    "How do you detect the pattern? Move along the horizontal (X) axis and trace what happens the values along the vertical (Y) axis.\n",
    "\n",
    "We can confirm our interpretation by calculating an appropriate measure of association."
   ]
  },
  {
   "cell_type": "markdown",
   "id": "particular-hawaii",
   "metadata": {},
   "source": [
    "#### Measure of association"
   ]
  },
  {
   "cell_type": "markdown",
   "id": "essential-oliver",
   "metadata": {},
   "source": [
    "We will use the following measure of association:\n",
    "* *Pearson's correlation coefficient (r)*\n",
    "\n",
    "Similar to other measures of association, it tells us the strength and direction of the association between two variables. The coefficient ranges between -1 and 1, with negative values representing negative associations, and positive values positive associations. Values closer to -1 or 1 indicate stronger associations than those closer to 0."
   ]
  },
  {
   "cell_type": "code",
   "execution_count": null,
   "id": "infinite-attack",
   "metadata": {},
   "outputs": [],
   "source": [
    "cor(bsa2019$NatFrEst, bsa2019$welfare2, use = \"complete.obs\")"
   ]
  },
  {
   "cell_type": "markdown",
   "id": "6867d57d-d637-49f6-9a9e-e5991fa9cc21",
   "metadata": {},
   "source": [
    "The correlation coefficient confirms our interpretation: there is a moderate, positive association. That is, attitudes to welfare are less sympathetic at higher levels of perceived benefit fraud."
   ]
  },
  {
   "cell_type": "markdown",
   "id": "c0116019",
   "metadata": {},
   "source": [
    "We can make the graph more interpretable by including the correlation coefficient as a line of best fit:"
   ]
  },
  {
   "cell_type": "code",
   "execution_count": null,
   "id": "d6b421e2",
   "metadata": {},
   "outputs": [],
   "source": [
    "plot(bsa2019$NatFrEst, bsa2019$welfare2)\n",
    "abline(lm(bsa2019$welfare2 ~ bsa2019$NatFrEst))"
   ]
  },
  {
   "cell_type": "markdown",
   "id": "colored-plate",
   "metadata": {},
   "source": [
    "## Conclusion"
   ]
  },
  {
   "cell_type": "markdown",
   "id": "southeast-giving",
   "metadata": {},
   "source": [
    "In this lesson we encountered a range of techniques for summarising more than one variable at a time, in particular focusing on whether two variables are related.\n",
    "\n",
    "In this next lesson we focus on summarising the joint distribution of two variables, this time across values of a third variable, a technique known as *multivariate* analysis. We also look at how we can produce statistics that help us make claims about the *generalisability* of our results."
   ]
  }
 ],
 "metadata": {
  "kernelspec": {
   "display_name": "R",
   "language": "R",
   "name": "ir"
  },
  "language_info": {
   "codemirror_mode": "r",
   "file_extension": ".r",
   "mimetype": "text/x-r-source",
   "name": "R",
   "pygments_lexer": "r",
   "version": "4.3.1"
  }
 },
 "nbformat": 4,
 "nbformat_minor": 5
}
