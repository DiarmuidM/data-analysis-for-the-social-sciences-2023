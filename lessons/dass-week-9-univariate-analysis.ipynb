{
 "cells": [
  {
   "cell_type": "markdown",
   "id": "otherwise-cache",
   "metadata": {},
   "source": [
    "<p align=\"right\"><i>Data Analysis for the Social Sciences - Part II - YYYY-MM-DD</i></p>"
   ]
  },
  {
   "cell_type": "markdown",
   "id": "dynamic-conjunction",
   "metadata": {},
   "source": [
    "# Week 9 - Univariate Data Analysis"
   ]
  },
  {
   "cell_type": "markdown",
   "id": "exclusive-methodology",
   "metadata": {},
   "source": [
    "Welcome to Part II of Data Analysis for the Social Sciences. In this lab session we will conduct a range of descriptive analyses of categorical and numeric variables."
   ]
  },
  {
   "cell_type": "markdown",
   "id": "5b14b363",
   "metadata": {},
   "source": [
    "We will use real data from the *British Social Attitudes survey, 2019: Poverty and Welfare*, specifically the open dataset available from the UK Data Service: https://doi.org/10.5255/UKDA-SN-8850-1"
   ]
  },
  {
   "cell_type": "markdown",
   "id": "1814a668-9c59-4906-a67f-22f1884b8eb6",
   "metadata": {},
   "source": [
    "We will structure our analyses around the following research question:"
   ]
  },
  {
   "cell_type": "markdown",
   "id": "a42de79d-72a8-41ad-adcb-daef782f432a",
   "metadata": {},
   "source": [
    "<p><center><i>Are attitudes to welfare associated with sex, age, interest in politics, and perception of benefits fraud?</i></center></p>"
   ]
  },
  {
   "cell_type": "markdown",
   "id": "scenic-silly",
   "metadata": {},
   "source": [
    "### Aims\n",
    "\n",
    "This lesson - **Univariate Data Analysis** - has two aims:\n",
    "1. Demonstrate how to conduct descriptive analyses of categorical and numeric variables individually.\n",
    "2. Cultivate your computational skills through the use of the statistical programming langauge *R*. For example, there are a number of opportunities for you to amend or write R syntax (code)."
   ]
  },
  {
   "cell_type": "markdown",
   "id": "judicial-prediction",
   "metadata": {},
   "source": [
    "### Lesson details\n",
    "\n",
    "* **Level**: Introductory, for individuals with no prior knowledge or experience of quantitative data analysis.\n",
    "* **Duration**: 60-75 minutes.\n",
    "* **Pre-requisites**: None.\n",
    "* **Programming language**: R.\n",
    "* **Learning outcomes**:\n",
    "\t1. Understand how to use R for conducting univariate data analysis.\n",
    "\t2. Understand how to select and apply common descriptive analysis techniques for categorical and numeric variables."
   ]
  },
  {
   "cell_type": "markdown",
   "id": "terminal-agenda",
   "metadata": {},
   "source": [
    "## Guide to using this resource\n",
    "\n",
    "This learning resource was built using <a href=\"https://jupyter.org/\" target=_blank>Jupyter Notebook</a>, an open-source software application that allows you to mix code, results and narrative in a single document. As <a href=\"https://jupyter4edu.github.io/jupyter-edu-book/\" target=_blank>Barba et al. (2019)</a> espouse:\n",
    "> In a world where every subject matter can have a data-supported treatment, where computational devices are omnipresent and pervasive, the union of natural language and computation creates compelling communication and learning opportunities.\n",
    "\n",
    "If you are familiar with Jupyter notebooks then skip ahead to the main content (*Quick Recap: Analysing Data*). Otherwise, the following is a quick guide to navigating and interacting with the notebook."
   ]
  },
  {
   "cell_type": "markdown",
   "id": "interested-radar",
   "metadata": {},
   "source": [
    "### Interaction\n",
    "\n",
    "**You only need to execute the code that is contained in sections which are marked by `[]`.**\n",
    "\n",
    "To execute a cell, click or double-click the cell and press the `Play` button next to the cell or select the `Run` button on the top toolbar (*Runtime > Run the focused cell*); you can also use the keyboard shortcuts `Shift + Enter` or `Ctrl + Enter`).\n",
    "\n",
    "Try it for yourself:"
   ]
  },
  {
   "cell_type": "code",
   "execution_count": 1,
   "id": "dominican-hardware",
   "metadata": {},
   "outputs": [
    {
     "name": "stdin",
     "output_type": "stream",
     "text": [
      "Enter name:  Diarmuid\n"
     ]
    },
    {
     "name": "stdout",
     "output_type": "stream",
     "text": [
      "[1] \"Hi, Diarmuid enjoy learning more about R and exploring data!\"\n"
     ]
    }
   ],
   "source": [
    "name <- readline(prompt=\"Enter name: \")\n",
    "print(paste(\"Hi,\", name, \"enjoy learning more about R and exploring data!\"))"
   ]
  },
  {
   "cell_type": "markdown",
   "id": "through-storm",
   "metadata": {},
   "source": [
    "Notebooks are sequential, meaning code should be executed in order (top to bottom). For example, the following code won't work:"
   ]
  },
  {
   "cell_type": "code",
   "execution_count": 2,
   "id": "outstanding-bulgaria",
   "metadata": {},
   "outputs": [
    {
     "ename": "ERROR",
     "evalue": "Error in eval(expr, envir, enclos): object 'x' not found\n",
     "output_type": "error",
     "traceback": [
      "Error in eval(expr, envir, enclos): object 'x' not found\nTraceback:\n"
     ]
    }
   ],
   "source": [
    "x * 5"
   ]
  },
  {
   "cell_type": "markdown",
   "id": "handmade-madagascar",
   "metadata": {},
   "source": [
    "As the error message suggests, there is no object (variable) called `x`, therefore we cannot do any calculations with it. \n",
    "\n",
    "Let's try a sequential approach:"
   ]
  },
  {
   "cell_type": "code",
   "execution_count": 3,
   "id": "addressed-assumption",
   "metadata": {},
   "outputs": [],
   "source": [
    "x <- 10 # create an object called 'x' and give it the value '10'"
   ]
  },
  {
   "cell_type": "code",
   "execution_count": 4,
   "id": "crucial-implement",
   "metadata": {},
   "outputs": [
    {
     "data": {
      "text/html": [
       "50"
      ],
      "text/latex": [
       "50"
      ],
      "text/markdown": [
       "50"
      ],
      "text/plain": [
       "[1] 50"
      ]
     },
     "metadata": {},
     "output_type": "display_data"
    }
   ],
   "source": [
    "x * 5 # multiply 'x' by 5"
   ]
  },
  {
   "cell_type": "markdown",
   "id": "covered-round",
   "metadata": {},
   "source": [
    "### Learn more\n",
    "\n",
    "Jupyter notebooks provide rich, flexible features for conducting and documenting your data analysis workflow. To learn more about additional notebook features, we recommend working through some of the <a href=\"https://github.com/darribas/gds19/blob/master/content/labs/lab_00.ipynb\" target=_blank>materials</a> provided by Dani Arribas-Bel at the University of Liverpool. "
   ]
  },
  {
   "cell_type": "markdown",
   "id": "floppy-escape",
   "metadata": {},
   "source": [
    "### Learner input\n",
    "\n",
    "Throughout the lessons there times when you need to do the following activities:\n",
    "* **TASK:** A coding task for you to complete (e.g. analyse different variables).\n",
    "* **QUESTION:** A question regarding your interpretation of some code or a technique (e.g. what is the piece of code doing?).\n",
    "* **EXERCISE:** A data analysis challenge for you to complete."
   ]
  },
  {
   "cell_type": "markdown",
   "id": "democratic-office",
   "metadata": {},
   "source": [
    "## Quick Recap: Analysing Data"
   ]
  },
  {
   "cell_type": "markdown",
   "id": "respected-comedy",
   "metadata": {},
   "source": [
    "Once we have collected and explored our data, we can turn to the interesting part: analysis. Our ultimate aim is to answer the research question accurately: to do so we need to produce summaries of our key variables. In our case we need to analyse variables relating to religious beliefs and sexual attitudes/behaviours. \n",
    "\n",
    "How do we know which summaries to choose? We need to look at the **level of measurement** of each variable: are we dealing with categorical (e.g., marital status) or numeric (e.g., income) variables? We covered level of measurement in Part I of the module but here is a quick refresher: "
   ]
  },
  {
   "cell_type": "markdown",
   "id": "enclosed-pulse",
   "metadata": {},
   "source": [
    "![Differentiation of numeric and categorical variables](./images/lvl_msr_diagr.png)"
   ]
  },
  {
   "cell_type": "markdown",
   "id": "modern-nursery",
   "metadata": {},
   "source": [
    "Source: [https://maczokni.github.io/MSCD_labs/week2.html#univariate-analysis](https://maczokni.github.io/MSCD_labs/week2.html#univariate-analysis)"
   ]
  },
  {
   "cell_type": "markdown",
   "id": "synthetic-amino",
   "metadata": {},
   "source": [
    "**Numeric variables** measure the amount or magnitude of some characteristic / attribute / outcome. For example, how much income a person receives from their part-time job; how many people are classed as homeless in Scotland in a given year. There are two types of numeric variables: *interval* and *ratio*. We don't focus on the differences between the two types in this module, but the following is a useful explainer: [Types of Data: Nominal, Ordinal, Interval/Ratio - Statistics Help](https://youtu.be/hZxnzfnt5v8)\n",
    "\n",
    "**Categorical variables** measure the presence of some characteristic / attribute / outcome. For example, a person's country of birth; marital status. These are examples of *nominal* categorical variables. However there is another type of categorical variable that also captures the rank or ordering of the categories. For example, a student's degree classification; social class; agreement with a statement (\"strongly agree\", \"agree\", \"disagree\"). These are examples of *ordinal* categorical variables."
   ]
  },
  {
   "cell_type": "markdown",
   "id": "classical-hypothetical",
   "metadata": {},
   "source": [
    "The analytical techniques we use depend on whether we are dealing with a numeric or categorical variable. However the aims of our analysis are similar:\n",
    "1. We want to summarise the **central tendency** of the values\n",
    "2. We want to summarise the **distribution** of the values"
   ]
  },
  {
   "cell_type": "markdown",
   "id": "endless-entertainment",
   "metadata": {},
   "source": [
    "### Central tendency\n",
    "\n",
    "Central tendency conveys what the *typical observation / case* looks like for a variable (Fogarty, 2019). There are a number of different measures of central tendency but the three most recognisable are:\n",
    "* **Mode** - the most common value of a variable.\n",
    "* **Median** - the middle value in a variable's distribution, where an equal number of observations lie above and below this value.\n",
    "* **Mean** - the average value of a variable. \n",
    "\n",
    "We'll clarify what is meant by each of these measures when we encounter some examples in the *British Social Attitudes survey* data."
   ]
  },
  {
   "cell_type": "markdown",
   "id": "forbidden-hobby",
   "metadata": {},
   "source": [
    "### Distribution\n",
    "\n",
    "The pattern of variation in the values of a variable is called a *distribution*. For example, here is the distribution of median (typical) age for all countries in 2015:"
   ]
  },
  {
   "cell_type": "markdown",
   "id": "stable-aurora",
   "metadata": {},
   "source": [
    "![](./images/median-age-2015.png)"
   ]
  },
  {
   "cell_type": "markdown",
   "id": "comparable-garden",
   "metadata": {},
   "source": [
    "We observe that the values of this variable are quite uniformly distributed; that is, each median age is roughly as likely to be observed as any other (with the notable exception of ages < 15 and ages > 45).\n",
    "\n",
    "Observing the full distribution of values is important but there are also a number of summary statistics that describe interesting features of a distribution. These are called **measures of dispersion** and some of the most commonly encountered are:\n",
    "* **Minimum** - the lowest value observed\n",
    "* **Maximum** - the highest value observed\n",
    "* **Range** - the difference between the minimum and maximum\n",
    "* **Standard deviation** - the average difference a value is from the mean\n",
    "* **Variance** - the sum of the differences between the values and the mean\n",
    "\n",
    "Many of these really only apply to numeric variables."
   ]
  },
  {
   "cell_type": "markdown",
   "id": "attended-bathroom",
   "metadata": {},
   "source": [
    "For example, here are some measures of dispersion of typical ages:"
   ]
  },
  {
   "cell_type": "code",
   "execution_count": 5,
   "id": "eligible-spencer",
   "metadata": {},
   "outputs": [
    {
     "data": {
      "text/plain": [
       "   Min. 1st Qu.  Median    Mean 3rd Qu.    Max. \n",
       "  14.30   21.00   31.20   31.93   42.00   56.80 "
      ]
     },
     "metadata": {},
     "output_type": "display_data"
    }
   ],
   "source": [
    "country_ages <- read.csv(\"https://raw.githubusercontent.com/DiarmuidM/data-analysis-for-the-social-sciences-2023/main/lessons/data/median-age-our-world-in-data.csv\", header=TRUE, na=\"NA\")\n",
    "country_ages_2015 <- country_ages[country_ages$Year==2015,]\n",
    "summary(country_ages$Age)"
   ]
  },
  {
   "cell_type": "markdown",
   "id": "sudden-improvement",
   "metadata": {},
   "source": [
    "The lowest typical age is 14 years old (i.e., roughly half of the population are younger, and half older than this age), while the highest typical age is 57 years old.\n",
    "\n",
    "We observe that the mean age is 32 years old. To decide whether this is a good representation of the typical value for this variable, we calculate the standard deviation:"
   ]
  },
  {
   "cell_type": "code",
   "execution_count": 6,
   "id": "electronic-genealogy",
   "metadata": {},
   "outputs": [
    {
     "data": {
      "text/html": [
       "11.1344374181114"
      ],
      "text/latex": [
       "11.1344374181114"
      ],
      "text/markdown": [
       "11.1344374181114"
      ],
      "text/plain": [
       "[1] 11.13444"
      ]
     },
     "metadata": {},
     "output_type": "display_data"
    }
   ],
   "source": [
    "sd(country_ages$Age)"
   ]
  },
  {
   "cell_type": "markdown",
   "id": "graphic-chrome",
   "metadata": {},
   "source": [
    "On average, a country is within 11 years of the mean age. When we consider this statistic in light of the shape of the distribution (see above), we can conclude the typical age varies considerably across countries: there are at least 50 countries with a median age < 20 years old, and at least 40 with a median age > 40 years old.\n",
    "\n",
    "Therefore the mean and median summary statistics are not very representative of the typical country with regards to age."
   ]
  },
  {
   "cell_type": "markdown",
   "id": "rural-progress",
   "metadata": {},
   "source": [
    "## Univariate Data Analysis"
   ]
  },
  {
   "cell_type": "markdown",
   "id": "caroline-province",
   "metadata": {},
   "source": [
    "As you may have guessed, *uni* variate analysis simply involves the analysis of *one* variable at a time. We may be interested in many variables in our study but we produce summaries of them separately, rather than trying to analyse them jointly (like in a correlation analysis).\n",
    "\n",
    "One variable, sounds simple right? Well yes, as long as:\n",
    "* You have variables that measure the concept you are interested in.\n",
    "* You correctly identify the level of measurement) of each variable."
   ]
  },
  {
   "cell_type": "markdown",
   "id": "framed-privacy",
   "metadata": {},
   "source": [
    "### Importing data"
   ]
  },
  {
   "cell_type": "markdown",
   "id": "stone-qatar",
   "metadata": {},
   "source": [
    "The first step is to import the *British Social Attitudes survey* data for analysis."
   ]
  },
  {
   "cell_type": "code",
   "execution_count": 7,
   "id": "agreed-future",
   "metadata": {},
   "outputs": [
    {
     "data": {
      "text/html": [
       "<table class=\"dataframe\">\n",
       "<caption>A data.frame: 6 × 26</caption>\n",
       "<thead>\n",
       "\t<tr><th></th><th scope=col>Sserial</th><th scope=col>WtFactor</th><th scope=col>RSex</th><th scope=col>RAgeCat</th><th scope=col>eq_inc_quintiles</th><th scope=col>RClassGp</th><th scope=col>HEdQual3</th><th scope=col>Married</th><th scope=col>ChildHh</th><th scope=col>skipmeal</th><th scope=col>⋯</th><th scope=col>Dole</th><th scope=col>TaxSpend</th><th scope=col>MuchPov</th><th scope=col>Poverty1</th><th scope=col>Poverty2</th><th scope=col>NatFrEst</th><th scope=col>incdiffs</th><th scope=col>welfare2</th><th scope=col>leftrigh</th><th scope=col>libauth</th></tr>\n",
       "\t<tr><th></th><th scope=col>&lt;int&gt;</th><th scope=col>&lt;dbl&gt;</th><th scope=col>&lt;int&gt;</th><th scope=col>&lt;int&gt;</th><th scope=col>&lt;int&gt;</th><th scope=col>&lt;int&gt;</th><th scope=col>&lt;int&gt;</th><th scope=col>&lt;int&gt;</th><th scope=col>&lt;int&gt;</th><th scope=col>&lt;int&gt;</th><th scope=col>⋯</th><th scope=col>&lt;int&gt;</th><th scope=col>&lt;int&gt;</th><th scope=col>&lt;int&gt;</th><th scope=col>&lt;int&gt;</th><th scope=col>&lt;int&gt;</th><th scope=col>&lt;int&gt;</th><th scope=col>&lt;int&gt;</th><th scope=col>&lt;dbl&gt;</th><th scope=col>&lt;dbl&gt;</th><th scope=col>&lt;dbl&gt;</th></tr>\n",
       "</thead>\n",
       "<tbody>\n",
       "\t<tr><th scope=row>1</th><td>310001</td><td>0.9119594</td><td>2</td><td>6</td><td>-1</td><td>1</td><td>2</td><td>1</td><td>2</td><td>-1</td><td>⋯</td><td>3</td><td>3</td><td>8</td><td>2</td><td>1</td><td> 5</td><td>-1</td><td>2.500</td><td>2.4</td><td>3.500000</td></tr>\n",
       "\t<tr><th scope=row>2</th><td>310002</td><td>0.4439626</td><td>2</td><td>3</td><td> 5</td><td>1</td><td>2</td><td>2</td><td>2</td><td> 1</td><td>⋯</td><td>2</td><td>3</td><td>2</td><td>2</td><td>2</td><td>30</td><td> 2</td><td>3.125</td><td>2.0</td><td>3.833333</td></tr>\n",
       "\t<tr><th scope=row>3</th><td>310003</td><td>1.2182741</td><td>2</td><td>4</td><td>-1</td><td>1</td><td>3</td><td>1</td><td>1</td><td>-1</td><td>⋯</td><td>2</td><td>2</td><td>2</td><td>2</td><td>2</td><td>50</td><td>-1</td><td>3.125</td><td>2.2</td><td>4.166667</td></tr>\n",
       "\t<tr><th scope=row>4</th><td>310004</td><td>1.5839969</td><td>1</td><td>2</td><td> 4</td><td>1</td><td>2</td><td>4</td><td>2</td><td>-1</td><td>⋯</td><td>3</td><td>3</td><td>2</td><td>2</td><td>1</td><td>50</td><td>-1</td><td>2.250</td><td>3.2</td><td>2.166667</td></tr>\n",
       "\t<tr><th scope=row>5</th><td>310005</td><td>0.4743091</td><td>1</td><td>6</td><td>-1</td><td>5</td><td>4</td><td>4</td><td>2</td><td> 1</td><td>⋯</td><td>2</td><td>3</td><td>1</td><td>2</td><td>1</td><td>50</td><td> 4</td><td>3.375</td><td>1.6</td><td>4.666667</td></tr>\n",
       "\t<tr><th scope=row>6</th><td>310006</td><td>1.1363125</td><td>1</td><td>4</td><td> 1</td><td>3</td><td>8</td><td>1</td><td>1</td><td>-1</td><td>⋯</td><td>2</td><td>2</td><td>1</td><td>1</td><td>1</td><td>10</td><td>-1</td><td>2.875</td><td>1.8</td><td>3.666667</td></tr>\n",
       "</tbody>\n",
       "</table>\n"
      ],
      "text/latex": [
       "A data.frame: 6 × 26\n",
       "\\begin{tabular}{r|lllllllllllllllllllll}\n",
       "  & Sserial & WtFactor & RSex & RAgeCat & eq\\_inc\\_quintiles & RClassGp & HEdQual3 & Married & ChildHh & skipmeal & ⋯ & Dole & TaxSpend & MuchPov & Poverty1 & Poverty2 & NatFrEst & incdiffs & welfare2 & leftrigh & libauth\\\\\n",
       "  & <int> & <dbl> & <int> & <int> & <int> & <int> & <int> & <int> & <int> & <int> & ⋯ & <int> & <int> & <int> & <int> & <int> & <int> & <int> & <dbl> & <dbl> & <dbl>\\\\\n",
       "\\hline\n",
       "\t1 & 310001 & 0.9119594 & 2 & 6 & -1 & 1 & 2 & 1 & 2 & -1 & ⋯ & 3 & 3 & 8 & 2 & 1 &  5 & -1 & 2.500 & 2.4 & 3.500000\\\\\n",
       "\t2 & 310002 & 0.4439626 & 2 & 3 &  5 & 1 & 2 & 2 & 2 &  1 & ⋯ & 2 & 3 & 2 & 2 & 2 & 30 &  2 & 3.125 & 2.0 & 3.833333\\\\\n",
       "\t3 & 310003 & 1.2182741 & 2 & 4 & -1 & 1 & 3 & 1 & 1 & -1 & ⋯ & 2 & 2 & 2 & 2 & 2 & 50 & -1 & 3.125 & 2.2 & 4.166667\\\\\n",
       "\t4 & 310004 & 1.5839969 & 1 & 2 &  4 & 1 & 2 & 4 & 2 & -1 & ⋯ & 3 & 3 & 2 & 2 & 1 & 50 & -1 & 2.250 & 3.2 & 2.166667\\\\\n",
       "\t5 & 310005 & 0.4743091 & 1 & 6 & -1 & 5 & 4 & 4 & 2 &  1 & ⋯ & 2 & 3 & 1 & 2 & 1 & 50 &  4 & 3.375 & 1.6 & 4.666667\\\\\n",
       "\t6 & 310006 & 1.1363125 & 1 & 4 &  1 & 3 & 8 & 1 & 1 & -1 & ⋯ & 2 & 2 & 1 & 1 & 1 & 10 & -1 & 2.875 & 1.8 & 3.666667\\\\\n",
       "\\end{tabular}\n"
      ],
      "text/markdown": [
       "\n",
       "A data.frame: 6 × 26\n",
       "\n",
       "| <!--/--> | Sserial &lt;int&gt; | WtFactor &lt;dbl&gt; | RSex &lt;int&gt; | RAgeCat &lt;int&gt; | eq_inc_quintiles &lt;int&gt; | RClassGp &lt;int&gt; | HEdQual3 &lt;int&gt; | Married &lt;int&gt; | ChildHh &lt;int&gt; | skipmeal &lt;int&gt; | ⋯ ⋯ | Dole &lt;int&gt; | TaxSpend &lt;int&gt; | MuchPov &lt;int&gt; | Poverty1 &lt;int&gt; | Poverty2 &lt;int&gt; | NatFrEst &lt;int&gt; | incdiffs &lt;int&gt; | welfare2 &lt;dbl&gt; | leftrigh &lt;dbl&gt; | libauth &lt;dbl&gt; |\n",
       "|---|---|---|---|---|---|---|---|---|---|---|---|---|---|---|---|---|---|---|---|---|---|\n",
       "| 1 | 310001 | 0.9119594 | 2 | 6 | -1 | 1 | 2 | 1 | 2 | -1 | ⋯ | 3 | 3 | 8 | 2 | 1 |  5 | -1 | 2.500 | 2.4 | 3.500000 |\n",
       "| 2 | 310002 | 0.4439626 | 2 | 3 |  5 | 1 | 2 | 2 | 2 |  1 | ⋯ | 2 | 3 | 2 | 2 | 2 | 30 |  2 | 3.125 | 2.0 | 3.833333 |\n",
       "| 3 | 310003 | 1.2182741 | 2 | 4 | -1 | 1 | 3 | 1 | 1 | -1 | ⋯ | 2 | 2 | 2 | 2 | 2 | 50 | -1 | 3.125 | 2.2 | 4.166667 |\n",
       "| 4 | 310004 | 1.5839969 | 1 | 2 |  4 | 1 | 2 | 4 | 2 | -1 | ⋯ | 3 | 3 | 2 | 2 | 1 | 50 | -1 | 2.250 | 3.2 | 2.166667 |\n",
       "| 5 | 310005 | 0.4743091 | 1 | 6 | -1 | 5 | 4 | 4 | 2 |  1 | ⋯ | 2 | 3 | 1 | 2 | 1 | 50 |  4 | 3.375 | 1.6 | 4.666667 |\n",
       "| 6 | 310006 | 1.1363125 | 1 | 4 |  1 | 3 | 8 | 1 | 1 | -1 | ⋯ | 2 | 2 | 1 | 1 | 1 | 10 | -1 | 2.875 | 1.8 | 3.666667 |\n",
       "\n"
      ],
      "text/plain": [
       "  Sserial WtFactor  RSex RAgeCat eq_inc_quintiles RClassGp HEdQual3 Married\n",
       "1 310001  0.9119594 2    6       -1               1        2        1      \n",
       "2 310002  0.4439626 2    3        5               1        2        2      \n",
       "3 310003  1.2182741 2    4       -1               1        3        1      \n",
       "4 310004  1.5839969 1    2        4               1        2        4      \n",
       "5 310005  0.4743091 1    6       -1               5        4        4      \n",
       "6 310006  1.1363125 1    4        1               3        8        1      \n",
       "  ChildHh skipmeal ⋯ Dole TaxSpend MuchPov Poverty1 Poverty2 NatFrEst incdiffs\n",
       "1 2       -1       ⋯ 3    3        8       2        1         5       -1      \n",
       "2 2        1       ⋯ 2    3        2       2        2        30        2      \n",
       "3 1       -1       ⋯ 2    2        2       2        2        50       -1      \n",
       "4 2       -1       ⋯ 3    3        2       2        1        50       -1      \n",
       "5 2        1       ⋯ 2    3        1       2        1        50        4      \n",
       "6 1       -1       ⋯ 2    2        1       1        1        10       -1      \n",
       "  welfare2 leftrigh libauth \n",
       "1 2.500    2.4      3.500000\n",
       "2 3.125    2.0      3.833333\n",
       "3 3.125    2.2      4.166667\n",
       "4 2.250    3.2      2.166667\n",
       "5 3.375    1.6      4.666667\n",
       "6 2.875    1.8      3.666667"
      ]
     },
     "metadata": {},
     "output_type": "display_data"
    }
   ],
   "source": [
    "bsa2019 <- read.table(\"https://raw.githubusercontent.com/DiarmuidM/data-analysis-for-the-social-sciences-2023/main/lessons/data/bsa2019_poverty_open.tab\", header=TRUE, na=\"NA\", sep=\"\\t\")\n",
    "head(bsa2019) # view the first six observations"
   ]
  },
  {
   "cell_type": "markdown",
   "id": "based-thousand",
   "metadata": {},
   "source": [
    "Let's get a list of variable names and see which ones relate to our two main concepts (*religious beliefs* and *sexual attitudes/behaviours*)."
   ]
  },
  {
   "cell_type": "code",
   "execution_count": 8,
   "id": "greek-result",
   "metadata": {},
   "outputs": [
    {
     "data": {
      "text/html": [
       "<style>\n",
       ".list-inline {list-style: none; margin:0; padding: 0}\n",
       ".list-inline>li {display: inline-block}\n",
       ".list-inline>li:not(:last-child)::after {content: \"\\00b7\"; padding: 0 .5ex}\n",
       "</style>\n",
       "<ol class=list-inline><li>'Sserial'</li><li>'WtFactor'</li><li>'RSex'</li><li>'RAgeCat'</li><li>'eq_inc_quintiles'</li><li>'RClassGp'</li><li>'HEdQual3'</li><li>'Married'</li><li>'ChildHh'</li><li>'skipmeal'</li><li>'paptype'</li><li>'SMNews'</li><li>'PartyId2'</li><li>'Politics'</li><li>'SocTrust'</li><li>'Spend1'</li><li>'Dole'</li><li>'TaxSpend'</li><li>'MuchPov'</li><li>'Poverty1'</li><li>'Poverty2'</li><li>'NatFrEst'</li><li>'incdiffs'</li><li>'welfare2'</li><li>'leftrigh'</li><li>'libauth'</li></ol>\n"
      ],
      "text/latex": [
       "\\begin{enumerate*}\n",
       "\\item 'Sserial'\n",
       "\\item 'WtFactor'\n",
       "\\item 'RSex'\n",
       "\\item 'RAgeCat'\n",
       "\\item 'eq\\_inc\\_quintiles'\n",
       "\\item 'RClassGp'\n",
       "\\item 'HEdQual3'\n",
       "\\item 'Married'\n",
       "\\item 'ChildHh'\n",
       "\\item 'skipmeal'\n",
       "\\item 'paptype'\n",
       "\\item 'SMNews'\n",
       "\\item 'PartyId2'\n",
       "\\item 'Politics'\n",
       "\\item 'SocTrust'\n",
       "\\item 'Spend1'\n",
       "\\item 'Dole'\n",
       "\\item 'TaxSpend'\n",
       "\\item 'MuchPov'\n",
       "\\item 'Poverty1'\n",
       "\\item 'Poverty2'\n",
       "\\item 'NatFrEst'\n",
       "\\item 'incdiffs'\n",
       "\\item 'welfare2'\n",
       "\\item 'leftrigh'\n",
       "\\item 'libauth'\n",
       "\\end{enumerate*}\n"
      ],
      "text/markdown": [
       "1. 'Sserial'\n",
       "2. 'WtFactor'\n",
       "3. 'RSex'\n",
       "4. 'RAgeCat'\n",
       "5. 'eq_inc_quintiles'\n",
       "6. 'RClassGp'\n",
       "7. 'HEdQual3'\n",
       "8. 'Married'\n",
       "9. 'ChildHh'\n",
       "10. 'skipmeal'\n",
       "11. 'paptype'\n",
       "12. 'SMNews'\n",
       "13. 'PartyId2'\n",
       "14. 'Politics'\n",
       "15. 'SocTrust'\n",
       "16. 'Spend1'\n",
       "17. 'Dole'\n",
       "18. 'TaxSpend'\n",
       "19. 'MuchPov'\n",
       "20. 'Poverty1'\n",
       "21. 'Poverty2'\n",
       "22. 'NatFrEst'\n",
       "23. 'incdiffs'\n",
       "24. 'welfare2'\n",
       "25. 'leftrigh'\n",
       "26. 'libauth'\n",
       "\n",
       "\n"
      ],
      "text/plain": [
       " [1] \"Sserial\"          \"WtFactor\"         \"RSex\"             \"RAgeCat\"         \n",
       " [5] \"eq_inc_quintiles\" \"RClassGp\"         \"HEdQual3\"         \"Married\"         \n",
       " [9] \"ChildHh\"          \"skipmeal\"         \"paptype\"          \"SMNews\"          \n",
       "[13] \"PartyId2\"         \"Politics\"         \"SocTrust\"         \"Spend1\"          \n",
       "[17] \"Dole\"             \"TaxSpend\"         \"MuchPov\"          \"Poverty1\"        \n",
       "[21] \"Poverty2\"         \"NatFrEst\"         \"incdiffs\"         \"welfare2\"        \n",
       "[25] \"leftrigh\"         \"libauth\"         "
      ]
     },
     "metadata": {},
     "output_type": "display_data"
    }
   ],
   "source": [
    "names(bsa2019)"
   ]
  },
  {
   "cell_type": "markdown",
   "id": "legendary-tactics",
   "metadata": {},
   "source": [
    "After looking up the [codebook](./codebooks/8735_natsal_teaching_codebook_v1.pdf), there are two variables definitely of interest:\n",
    "* `welfare2` is a measure of how sympathetic a respondent's attitudes to welfare claimants sex are: on a scale of 1-5, higher scores indicate less sympathy. Therefore this is a numeric variable, specifically an interval variable.\n",
    "* `RSex` is a measure of a respondent's sex. Therefore this is a categorical variable, specifically a nominal variable.\n",
    "\n",
    "Let's focus on summarising the values of each of these variables."
   ]
  },
  {
   "cell_type": "markdown",
   "id": "4e4bcb2e",
   "metadata": {},
   "source": [
    "### Data cleaning"
   ]
  },
  {
   "cell_type": "markdown",
   "id": "a3763678",
   "metadata": {},
   "source": [
    "There are a number of important steps that need to be executed before proceeding with the analysis:\n",
    "* Handling missing values\n",
    "* Labelling values of categorical variables\n",
    "\n",
    "We cover these techniques in more detial in a separate notebook: [Data Cleaning](./dass-bsa-data-cleaning.ipynb) \n",
    "\n",
    "**Please note that you will be expected to perform these tasks for your own analysis.**"
   ]
  },
  {
   "cell_type": "markdown",
   "id": "5ff03998",
   "metadata": {},
   "source": [
    "For the `welfare2` variable note the values outwith the expected range of 1-5. We need to tell *R* how to deal with these before proceeding with our analysis. We will tell *R* to treat these values as \"missing\" i.e., as blank or non-responses."
   ]
  },
  {
   "cell_type": "code",
   "execution_count": 16,
   "id": "cc60b36b",
   "metadata": {},
   "outputs": [
    {
     "data": {
      "text/plain": [
       "   Min. 1st Qu.  Median    Mean 3rd Qu.    Max.    NA's \n",
       "  1.000   2.308   2.750   2.731   3.125   5.000     642 "
      ]
     },
     "metadata": {},
     "output_type": "display_data"
    }
   ],
   "source": [
    "summary(bsa2019$welfare2)"
   ]
  },
  {
   "cell_type": "code",
   "execution_count": 11,
   "id": "e7b6df17-b292-46c0-b5fc-f9e416134585",
   "metadata": {},
   "outputs": [],
   "source": [
    "bsa2019$welfare2[bsa2019$welfare2<1 | bsa2019$welfare2>5] <- NA # convert \"-1\" and \"9\" to missing"
   ]
  },
  {
   "cell_type": "markdown",
   "id": "sexual-gates",
   "metadata": {},
   "source": [
    "**TASK:** Use the summary command to reinspect the values of the cleaned variable."
   ]
  },
  {
   "cell_type": "code",
   "execution_count": null,
   "id": "wrapped-final",
   "metadata": {},
   "outputs": [],
   "source": [
    "# INSERT CODE HERE"
   ]
  },
  {
   "cell_type": "markdown",
   "id": "27a8444f",
   "metadata": {},
   "source": [
    "For the `RSex` variable there are no missing values but we should label the values so we do not need to refer to the codebook all of the time."
   ]
  },
  {
   "cell_type": "code",
   "execution_count": 17,
   "id": "08d3cc74",
   "metadata": {},
   "outputs": [],
   "source": [
    "bsa2019$RSex <- factor(bsa2019$RSex, levels = c(1,2), labels = c(\"Male\", \"Female\"))"
   ]
  },
  {
   "cell_type": "code",
   "execution_count": 18,
   "id": "5cc1ff8b",
   "metadata": {},
   "outputs": [
    {
     "data": {
      "text/plain": [
       "\n",
       "  Male Female \n",
       "  1454   1770 "
      ]
     },
     "metadata": {},
     "output_type": "display_data"
    }
   ],
   "source": [
    "table(bsa2019$RSex)"
   ]
  },
  {
   "cell_type": "markdown",
   "id": "thermal-valve",
   "metadata": {},
   "source": [
    "### Summarising categorical variables"
   ]
  },
  {
   "cell_type": "markdown",
   "id": "faced-dietary",
   "metadata": {},
   "source": [
    "One of the core ways of analysing a categorical variable is to examine the frequency with which each category occurs. That is, we look at the variable's *frequency distribution*. Recall that a *distribution* is a summary of the variation in a variable: that is, observations have different values for a variable and these values form a pattern."
   ]
  },
  {
   "cell_type": "code",
   "execution_count": 19,
   "id": "sweet-vertex",
   "metadata": {},
   "outputs": [
    {
     "data": {
      "text/plain": [
       "\n",
       "  Male Female \n",
       "  1454   1770 "
      ]
     },
     "metadata": {},
     "output_type": "display_data"
    }
   ],
   "source": [
    "table(bsa2019$RSex)"
   ]
  },
  {
   "cell_type": "markdown",
   "id": "standard-turkish",
   "metadata": {},
   "source": [
    "The `table()` command is pretty basic but does give us some useful information. For instance we learn that there are more female respondents than males (i.e., \"Female\" is the modal category of this variable)."
   ]
  },
  {
   "cell_type": "markdown",
   "id": "otherwise-domestic",
   "metadata": {},
   "source": [
    "It would be useful to know the percentage of observations in each category. *R* doesn't make this as easy as we would like but it can be achieved like so:"
   ]
  },
  {
   "cell_type": "code",
   "execution_count": 20,
   "id": "alone-transfer",
   "metadata": {},
   "outputs": [
    {
     "data": {
      "text/plain": [
       "\n",
       "  Male Female \n",
       "    45     55 "
      ]
     },
     "metadata": {},
     "output_type": "display_data"
    }
   ],
   "source": [
    "round(prop.table(table(bsa2019$RSex)) * 100, 0)"
   ]
  },
  {
   "cell_type": "markdown",
   "id": "pregnant-wells",
   "metadata": {},
   "source": [
    "Now we can see that a majority (55%) of respondents are female, even though the percentage is closer to 50% in the general population (perhaps we need to keep this in mind as we progress with our analysis?)."
   ]
  },
  {
   "cell_type": "markdown",
   "id": "rolled-acoustic",
   "metadata": {},
   "source": [
    "Finally, summarising the distribution of a categorical variable is often best done through a graph or visualisation. A common graph type for categorical variables is a **bar chart**."
   ]
  },
  {
   "cell_type": "code",
   "execution_count": 21,
   "id": "senior-making",
   "metadata": {},
   "outputs": [
    {
     "data": {
      "image/png": "[encoded data removed]",
      "text/plain": [
       "plot without title"
      ]
     },
     "metadata": {
      "image/png": {
       "height": 420,
       "width": 420
      }
     },
     "output_type": "display_data"
    }
   ],
   "source": [
    "barplot(table(bsa2019$RSex))"
   ]
  },
  {
   "cell_type": "markdown",
   "id": "humanitarian-leisure",
   "metadata": {},
   "source": [
    "We can clearly see the pattern in the distribution using a bar chart as well."
   ]
  },
  {
   "cell_type": "markdown",
   "id": "retired-stopping",
   "metadata": {},
   "source": [
    "Don't worry about the basic presentation of the graph: we will produce more visually appealing graphs in later weeks."
   ]
  },
  {
   "cell_type": "markdown",
   "id": "76711948-913c-41d8-bf1d-3bfe3b913cec",
   "metadata": {},
   "source": [
    "**TASK:** Use frequency tables and bar charts to summarise the `RAgeCat` and `Married` variables. Make sure you clean these variables first (i.e., deal with missing values, label values)."
   ]
  },
  {
   "cell_type": "code",
   "execution_count": null,
   "id": "0b1f5fe2-5cc1-4bcc-982e-2b7784afff1c",
   "metadata": {},
   "outputs": [],
   "source": [
    "# INSERT CODE HERE"
   ]
  },
  {
   "cell_type": "markdown",
   "id": "united-kidney",
   "metadata": {},
   "source": [
    "### Summarising numeric variables"
   ]
  },
  {
   "cell_type": "code",
   "execution_count": 22,
   "id": "breathing-liberal",
   "metadata": {},
   "outputs": [
    {
     "data": {
      "text/html": [
       "2.73113680793774"
      ],
      "text/latex": [
       "2.73113680793774"
      ],
      "text/markdown": [
       "2.73113680793774"
      ],
      "text/plain": [
       "[1] 2.731137"
      ]
     },
     "metadata": {},
     "output_type": "display_data"
    }
   ],
   "source": [
    "mean(bsa2019$welfare2, na.rm=TRUE)  # ignore missing values when calculating the mean"
   ]
  },
  {
   "cell_type": "code",
   "execution_count": 23,
   "id": "gentle-custody",
   "metadata": {},
   "outputs": [
    {
     "data": {
      "text/html": [
       "2.75"
      ],
      "text/latex": [
       "2.75"
      ],
      "text/markdown": [
       "2.75"
      ],
      "text/plain": [
       "[1] 2.75"
      ]
     },
     "metadata": {},
     "output_type": "display_data"
    }
   ],
   "source": [
    "median(bsa2019$welfare2, na.rm=TRUE)  # ignore missing values when calculating the median"
   ]
  },
  {
   "cell_type": "markdown",
   "id": "voluntary-motor",
   "metadata": {},
   "source": [
    "Here we see the mean and median values of the welfare attitude variable. The mean represents the average value of this variable and is calculated by adding up all the values and dividing by the number of observations for this variable.\n",
    "\n",
    "The median represents the middle value: roughly 50% of respondents have an attitude score less than this value, and 50% have a higher value."
   ]
  },
  {
   "cell_type": "markdown",
   "id": "searching-sharp",
   "metadata": {},
   "source": [
    "These measures are useful for analysing typical or representative values of variable. However it is also important we consider the distribution of values, so we can assess just *how* useful the mean and median are.\n",
    "\n",
    "First we can view a summary of the **range** of values of this variable:"
   ]
  },
  {
   "cell_type": "code",
   "execution_count": 24,
   "id": "increasing-array",
   "metadata": {},
   "outputs": [
    {
     "data": {
      "text/plain": [
       "   Min. 1st Qu.  Median    Mean 3rd Qu.    Max.    NA's \n",
       "  1.000   2.308   2.750   2.731   3.125   5.000     642 "
      ]
     },
     "metadata": {},
     "output_type": "display_data"
    }
   ],
   "source": [
    "summary(bsa2019$welfare2)"
   ]
  },
  {
   "cell_type": "markdown",
   "id": "informal-fundamentals",
   "metadata": {},
   "source": [
    "A common graph type for numeric variables is a **histogram**."
   ]
  },
  {
   "cell_type": "code",
   "execution_count": 27,
   "id": "forward-empire",
   "metadata": {},
   "outputs": [
    {
     "data": {
      "image/png": "[encoded data removed]",
      "text/plain": [
       "Plot with title \"Histogram of bsa2019$welfare2\""
      ]
     },
     "metadata": {
      "image/png": {
       "height": 420,
       "width": 420
      }
     },
     "output_type": "display_data"
    }
   ],
   "source": [
    "hist(bsa2019$welfare2, breaks = seq(1, 5, by=.5))"
   ]
  },
  {
   "cell_type": "markdown",
   "id": "tropical-binary",
   "metadata": {},
   "source": [
    "We can clearly see the pattern in the distribution using a histogram: most respondents have their first child between the ages of 18 and 28, with a decreasing likelihood of being in your late thirties when having your first child. \n",
    "\n",
    "This type of distribution, where the values are bunched to the left, can be described as being **positively skewed**. That is, there are a small number of \"extreme\" values on the right-hand side of the distribution."
   ]
  },
  {
   "cell_type": "markdown",
   "id": "civilian-contamination",
   "metadata": {},
   "source": [
    "When we have a small range of values for a numeric variable, then a bar chart may also be appropriate:"
   ]
  },
  {
   "cell_type": "code",
   "execution_count": null,
   "id": "forward-electricity",
   "metadata": {},
   "outputs": [],
   "source": [
    "barplot(table(natsal$dage1ch))"
   ]
  },
  {
   "cell_type": "markdown",
   "id": "offensive-transport",
   "metadata": {},
   "source": [
    "OK, let's return to our main numeric ariable of interest: `attconservative`"
   ]
  },
  {
   "cell_type": "code",
   "execution_count": null,
   "id": "hairy-bradford",
   "metadata": {},
   "outputs": [],
   "source": [
    "summary(natsal$attconservative)"
   ]
  },
  {
   "cell_type": "code",
   "execution_count": null,
   "id": "hundred-witness",
   "metadata": {},
   "outputs": [],
   "source": [
    "mean(natsal$attconservative, na.rm=TRUE) # ignore missing values when calculating the mean"
   ]
  },
  {
   "cell_type": "code",
   "execution_count": null,
   "id": "specified-childhood",
   "metadata": {},
   "outputs": [],
   "source": [
    "median(natsal$attconservative, na.rm=TRUE) # ignore missing values when calculating the mean)"
   ]
  },
  {
   "cell_type": "code",
   "execution_count": null,
   "id": "double-excess",
   "metadata": {},
   "outputs": [],
   "source": [
    "hist(natsal$attconservative)"
   ]
  },
  {
   "cell_type": "markdown",
   "id": "british-dayton",
   "metadata": {},
   "source": [
    "The exact values of this variable are not inherently meaningful, they simply represent a scale of how conservative a respondent's attitudes to sex are: postive values of this variable indicate a more conservative attitude to sex, negative values a more liberal attitude. The average respondent is slightly conservative in their attitudes to sex, though most respondents have a score slightly below or above 0."
   ]
  },
  {
   "cell_type": "markdown",
   "id": "japanese-balloon",
   "metadata": {},
   "source": [
    "Let's assess the distribution of this variable using some measures of dispersion:"
   ]
  },
  {
   "cell_type": "code",
   "execution_count": null,
   "id": "square-attempt",
   "metadata": {},
   "outputs": [],
   "source": [
    "summary(natsal$attconservative)"
   ]
  },
  {
   "cell_type": "code",
   "execution_count": null,
   "id": "balanced-tiffany",
   "metadata": {},
   "outputs": [],
   "source": [
    "sd(natsal$attconservative, na.rm=TRUE)"
   ]
  },
  {
   "cell_type": "markdown",
   "id": "material-congo",
   "metadata": {},
   "source": [
    "**QUESTION**: How would you describe how representative the mean/median is for this variable? That is, how closely packed are values around these measures?"
   ]
  },
  {
   "cell_type": "markdown",
   "id": "d43b21f1",
   "metadata": {},
   "source": [
    "**TASK**: Use histograms and summary functions (e.g., mean(), summary()) to summarise the `total_wt` variable. Make sure you clean this variable first (if necessary)."
   ]
  },
  {
   "cell_type": "code",
   "execution_count": null,
   "id": "0e8430e3",
   "metadata": {},
   "outputs": [],
   "source": [
    "# INSERT CODE HERE"
   ]
  },
  {
   "cell_type": "markdown",
   "id": "editorial-poetry",
   "metadata": {},
   "source": [
    "## Conclusion"
   ]
  },
  {
   "cell_type": "markdown",
   "id": "happy-starter",
   "metadata": {},
   "source": [
    "In this lesson we encountered a range of techniques for summarising categorical and numeric variables one at a time.\n",
    "\n",
    "In this next lesson we focus on summarising the joint distribution of two variables, a technique known as *bivariate* analysis."
   ]
  }
 ],
 "metadata": {
  "kernelspec": {
   "display_name": "R",
   "language": "R",
   "name": "ir"
  },
  "language_info": {
   "codemirror_mode": "r",
   "file_extension": ".r",
   "mimetype": "text/x-r-source",
   "name": "R",
   "pygments_lexer": "r",
   "version": "4.3.1"
  }
 },
 "nbformat": 4,
 "nbformat_minor": 5
}
