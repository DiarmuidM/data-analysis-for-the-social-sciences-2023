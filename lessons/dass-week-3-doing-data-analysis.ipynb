{
 "cells": [
  {
   "cell_type": "markdown",
   "id": "otherwise-cache",
   "metadata": {},
   "source": [
    "<p align=\"right\"><i>Data Analysis for the Social Sciences - Part I - 2023-09-26</i></p>"
   ]
  },
  {
   "cell_type": "markdown",
   "id": "dynamic-conjunction",
   "metadata": {},
   "source": [
    "# Week 3 - Doing Quantitative Data Analysis"
   ]
  },
  {
   "cell_type": "markdown",
   "id": "exclusive-methodology",
   "metadata": {},
   "source": [
    "Welcome to Part I of Data Analysis for the Social Sciences. In this lab session we will introduce you to the fundamental steps in quantitative data analysis. \n",
    "\n",
    "We will use real data from the *British Social Attitudes Survey, 2017* and we will conduct a range of simple statistical analyses of some variables relating to respondent age, sex at birth, and climate change beliefs."
   ]
  },
  {
   "cell_type": "markdown",
   "id": "scenic-silly",
   "metadata": {},
   "source": [
    "### Aims\n",
    "\n",
    "This lesson - **Doing Quantitative Data Analysis** - has two aims:\n",
    "1. Demonstrate how to import and explore a secondary dataset.\n",
    "2. Cultivate your computational skills through the use of the statistical programming langauge *R*. For example, there are a number of opportunities for you to amend or write R syntax (code)."
   ]
  },
  {
   "cell_type": "markdown",
   "id": "judicial-prediction",
   "metadata": {},
   "source": [
    "### Lesson details\n",
    "\n",
    "* **Level**: Introductory, for individuals with no prior knowledge or experience of quantitative data analysis.\n",
    "* **Duration**: 30-45 minutes.\n",
    "* **Pre-requisites**: None.\n",
    "* **Programming language**: R.\n",
    "* **Learning outcomes**:\n",
    "\t1. Understand how to use R for conducting common data exploration tasks.\n",
    "\t2. Understand how to describe and explore a secondary dataset containing quantitative data."
   ]
  },
  {
   "cell_type": "markdown",
   "id": "terminal-agenda",
   "metadata": {},
   "source": [
    "## Guide to using this notebook\n",
    "\n",
    "This learning resource was built using <a href=\"https://jupyter.org/\" target=_blank>Jupyter Notebook</a>, an open-source software application that allows you to mix code, results and narrative in a single document. As <a href=\"https://jupyter4edu.github.io/jupyter-edu-book/\" target=_blank>Barba et al. (2019)</a> espouse:\n",
    "> In a world where every subject matter can have a data-supported treatment, where computational devices are omnipresent and pervasive, the union of natural language and computation creates compelling communication and learning opportunities.\n",
    "\n",
    "If you are familiar with Jupyter notebooks then skip ahead to the main content (*Exploring Data*). Otherwise, the following is a quick guide to navigating and interacting with the notebook."
   ]
  },
  {
   "cell_type": "markdown",
   "id": "interested-radar",
   "metadata": {},
   "source": [
    "### Interaction\n",
    "\n",
    "**You only need to execute the code that is contained in sections which are marked by `[]`.**\n",
    "\n",
    "To execute a cell, click or double-click the cell and press the `Play` button next to the cell or select the `Run` button on the top toolbar (*Runtime > Run the focused cell*); you can also use the keyboard shortcuts `Shift + Enter` or `Ctrl + Enter`).\n",
    "\n",
    "Try it for yourself:"
   ]
  },
  {
   "cell_type": "code",
   "execution_count": null,
   "id": "dominican-hardware",
   "metadata": {},
   "outputs": [],
   "source": [
    "name <- readline(prompt=\"Enter name: \")\n",
    "print(paste(\"Hi,\", name, \"enjoy learning more about R and exploring data!\"))"
   ]
  },
  {
   "cell_type": "markdown",
   "id": "through-storm",
   "metadata": {},
   "source": [
    "Notebooks are sequential, meaning code should be executed in order (top to bottom). For example, the following code won't work:"
   ]
  },
  {
   "cell_type": "code",
   "execution_count": null,
   "id": "outstanding-bulgaria",
   "metadata": {},
   "outputs": [],
   "source": [
    "x * 5"
   ]
  },
  {
   "cell_type": "markdown",
   "id": "handmade-madagascar",
   "metadata": {},
   "source": [
    "As the error message suggests, there is no object (variable) called `x`, therefore we cannot do any calculations with it. \n",
    "\n",
    "Let's try a sequential approach:"
   ]
  },
  {
   "cell_type": "code",
   "execution_count": null,
   "id": "addressed-assumption",
   "metadata": {},
   "outputs": [],
   "source": [
    "x <- 10 # create an object called 'x' and give it the value '10'"
   ]
  },
  {
   "cell_type": "code",
   "execution_count": null,
   "id": "crucial-implement",
   "metadata": {},
   "outputs": [],
   "source": [
    "x * 5 # multiply 'x' by 5"
   ]
  },
  {
   "cell_type": "markdown",
   "id": "covered-round",
   "metadata": {},
   "source": [
    "### Learn more\n",
    "\n",
    "Jupyter notebooks provide rich, flexible features for conducting and documenting your data analysis workflow. To learn more about additional notebook features, we recommend working through some of the <a href=\"https://github.com/darribas/gds19/blob/master/content/labs/lab_00.ipynb\" target=_blank>materials</a> provided by Dani Arribas-Bel at the University of Liverpool. "
   ]
  },
  {
   "cell_type": "markdown",
   "id": "floppy-escape",
   "metadata": {},
   "source": [
    "### Learner input\n",
    "\n",
    "Throughout the lessons there times when you need to do the following activities:\n",
    "* **TASK:** A coding task for you to complete (e.g. create new variables).\n",
    "* **QUESTION:** A question regarding your interpretation of some code or a technique (e.g. what is the piece of code doing?).\n",
    "* **EXERCISE:** A data analysis challenge for you to complete."
   ]
  },
  {
   "cell_type": "markdown",
   "id": "democratic-office",
   "metadata": {},
   "source": [
    "## Exploring Data"
   ]
  },
  {
   "cell_type": "markdown",
   "id": "respected-comedy",
   "metadata": {},
   "source": [
    "Data exploration is an important first-step in the quantitative data analysis process. It involves a mix of functional and analytical tasks that in sum provide you with a keen sense of the data. For example, it is important to know how many variables are relevant for our analysis, how many observations are in the sample, whether there is missing data for some of our variables, whether the dataset \"looks right\" or there were problems downloading and importing the data etc."
   ]
  },
  {
   "cell_type": "markdown",
   "id": "rural-progress",
   "metadata": {},
   "source": [
    "### Secondary data"
   ]
  },
  {
   "cell_type": "markdown",
   "id": "caroline-province",
   "metadata": {},
   "source": [
    "For this lesson we will use the open access version of the *British Social Attitudes Survey, 2017, Environment and Politics* dataset: [available here](https://beta.ukdataservice.ac.uk/datacatalogue/studies/study?id=8849)\n",
    "\n",
    "This provides a limited number of variables and observations from the original, larger study.\n",
    "\n",
    "For Assessment 2, you can choose to analyse one of two datasets:\n",
    "* British Social Attitudes Survey, 2017, Environment and Politics\n",
    "* British Social Attitudes Survey, 2019, Poverty and Welfare"
   ]
  },
  {
   "cell_type": "markdown",
   "id": "framed-privacy",
   "metadata": {},
   "source": [
    "### Importing data"
   ]
  },
  {
   "cell_type": "markdown",
   "id": "stone-qatar",
   "metadata": {},
   "source": [
    "Importing data - also known as loading or reading in data - is the natural first step in a piece of quantitative data analysis. It requires two pieces of information:\n",
    "1. The location of the dataset on your machine / on the internet\n",
    "2. The file type of the dataset\n",
    "\n",
    "The first refers to the specific folder / directory on your machine where the dataset resides (e.g., \"C:\\Users\\mcdonndz-local\\data\\\"); the second to the type of file (e.g., MS Excel (.xlsx)).\n",
    "\n",
    "Don't worry if the file management aspects are unfamiliar / daunting just now: we will get plenty of practice importing and saving files to different locations on our machine."
   ]
  },
  {
   "cell_type": "markdown",
   "id": "female-string",
   "metadata": {},
   "source": [
    "OK, let's import a dataset into *R* for the first time!"
   ]
  },
  {
   "cell_type": "code",
   "execution_count": null,
   "id": "agreed-future",
   "metadata": {},
   "outputs": [],
   "source": [
    "bsa <- read.csv(\"https://raw.githubusercontent.com/DiarmuidM/data-analysis-for-the-social-sciences-2023/main/lessons/data/bsa2017_open_enviropol.csv\", header=TRUE, na=\"NA\")\n",
    "head(bsa) # view the first six observations"
   ]
  },
  {
   "cell_type": "markdown",
   "id": "played-quilt",
   "metadata": {},
   "source": [
    "There were no error messages, so our *R* command must have worked (it did). Here is what the above command does:\n",
    "* imports a file using the `read.csv()` command\n",
    "* recognises that the first line of the file contains the variable names (`header=TRUE`)\n",
    "* recognises missing values for variables (`na=\"NA\"`)\n",
    "\n",
    "Finally, we need an object name for the imported dataset so that we can reference it in future commands (`bsa`). The `<-` is the assignment operator i.e., import the dataset and assign it to the object `bsa`. "
   ]
  },
  {
   "cell_type": "markdown",
   "id": "thermal-valve",
   "metadata": {},
   "source": [
    "#### Viewing the dataset"
   ]
  },
  {
   "cell_type": "markdown",
   "id": "faced-dietary",
   "metadata": {},
   "source": [
    "One of the most common ways of exploring a dataset is by visually inspecting its contents. We can do so by referencing the name we gave the dataset:"
   ]
  },
  {
   "cell_type": "code",
   "execution_count": null,
   "id": "sweet-vertex",
   "metadata": {},
   "outputs": [],
   "source": [
    "bsa"
   ]
  },
  {
   "cell_type": "markdown",
   "id": "solid-jenny",
   "metadata": {},
   "source": [
    "Doing so returns some useful output:\n",
    "* A description of the dataset (`data.frame` containing 3988 observations and 25 variables).\n",
    "* A truncated list of the observations in the dataset - by default *R* and other languages do not display the full dataset."
   ]
  },
  {
   "cell_type": "code",
   "execution_count": null,
   "id": "postal-apparel",
   "metadata": {},
   "outputs": [],
   "source": [
    "head(bsa)"
   ]
  },
  {
   "cell_type": "code",
   "execution_count": null,
   "id": "flexible-blues",
   "metadata": {},
   "outputs": [],
   "source": [
    "tail(bsa)"
   ]
  },
  {
   "cell_type": "markdown",
   "id": "confidential-negative",
   "metadata": {},
   "source": [
    "**QUESTION:** What do you think the `head()` and `tail()` commands do?"
   ]
  },
  {
   "cell_type": "markdown",
   "id": "sexual-gates",
   "metadata": {},
   "source": [
    "We can view a list of all of the variables in the dataset:"
   ]
  },
  {
   "cell_type": "code",
   "execution_count": null,
   "id": "wrapped-final",
   "metadata": {},
   "outputs": [],
   "source": [
    "names(bsa)"
   ]
  },
  {
   "cell_type": "markdown",
   "id": "broken-coupon",
   "metadata": {},
   "source": [
    "And get a sense of each variable's contents like so:"
   ]
  },
  {
   "cell_type": "code",
   "execution_count": null,
   "id": "breathing-liberal",
   "metadata": {},
   "outputs": [],
   "source": [
    "str(bsa)"
   ]
  },
  {
   "cell_type": "markdown",
   "id": "supposed-generation",
   "metadata": {},
   "source": [
    "We can see that each variable contains numeric values, however this does not mean there are no categorical variables in the dataset. Slightly confusing, I know: but remember that all quantitative data must be represented numerically, otherwise we have no way of counting or performing calculations. Therefore we need to know what the numbers **represent**. Let's do this using some obvious examples:\n",
    "* `Rsex` is a binary measure of whether a respondent is male or female. As is common in quantitative social science, the male category is coded \"1\" and the female category \"2\". Therefore this is a categorical variable, specifically a nominal variable.\n",
    "* `RAgeCat` is measure of which age group a respondent belongs to e.g., 16-24, 25-34. The youngest age group is coded \"1\" and subsequent groups are coded sequentially. Therefore this is a categorical variable, specifically an ordinal variable.\n",
    "* `CCBELIEV` is a measure of whether a respondent agrees that climate change is real and/or caused by human action. conservative a respondent's attitudes to sex are: higher scores indicate more conservative attitudes. Respondents could choose one of three options, therefore this is a categorical variable: it could be argued to be nominal or ordinal depending on your view - we will treat it as nominal.\n",
    "\n",
    "How do we know what the numeric values represent? Helpfully, the UK Data Service has provided a description of each variable and its contents (known as a *codebook*): [Open Data Codebook](https://github.com/DiarmuidM/data-analysis-for-the-social-sciences-2023/blob/main/lessons/codebooks/8849_bsa_open_enviropol_2017_codebook.pdf)"
   ]
  },
  {
   "cell_type": "markdown",
   "id": "lucky-simon",
   "metadata": {},
   "source": [
    "#### Summarising variables"
   ]
  },
  {
   "cell_type": "markdown",
   "id": "handled-liverpool",
   "metadata": {},
   "source": [
    "Once we have an understanding of the data at a macro level (i.e., number of observations and variables, variable names and types), we can start to explore specific variables in more detail. Let's do this for three variables of interest:\n",
    "* `Rsex`\n",
    "* `RAgeCat`\n",
    "* `CCBELIEV`"
   ]
  },
  {
   "cell_type": "code",
   "execution_count": null,
   "id": "ongoing-sewing",
   "metadata": {},
   "outputs": [],
   "source": [
    "summary(bsa$Rsex)"
   ]
  },
  {
   "cell_type": "code",
   "execution_count": null,
   "id": "constant-cookie",
   "metadata": {},
   "outputs": [],
   "source": [
    "summary(bsa$RAgeCat)"
   ]
  },
  {
   "cell_type": "code",
   "execution_count": null,
   "id": "treated-answer",
   "metadata": {},
   "outputs": [],
   "source": [
    "summary(bsa$CCBELIEV)"
   ]
  },
  {
   "cell_type": "markdown",
   "id": "downtown-authority",
   "metadata": {},
   "source": [
    "The `summary()` command produces a range of summary statistics for numeric variables, including the mean, median and some measures of the range of values (e.g., minimum and maximum). Note how we refer to the variables by listing the dataset first (`bsa$Rsex`). This is because we may have multiple datasets loaded in to R at one time and there may be variables in different datasets with the same name.\n",
    "\n",
    "As we learned earlier however, some of our variables are categorical and thus are not well described using these summary statistics: for example, what does it mean to say a respondent's average sex is 1.547? We know this is a binary measure of whether somebody is male or female and thus it would be better to know how many respondents fall into each category.\n",
    "\n",
    "In Part II of the module we will learn how to select and apply the correct statistical summaries."
   ]
  },
  {
   "cell_type": "markdown",
   "id": "posted-impact",
   "metadata": {},
   "source": [
    "**TASK:** Produce a summary of the `Married` (marital status) and `leftrigh` (how left / right leaning a respondent is) variables. Can you learn anything useful about the values of these variables using the `summary()` command? Consult the codebook if you need help understanding the values of these variables.\n",
    "\n",
    "Use the cell below to insert your code."
   ]
  },
  {
   "cell_type": "code",
   "execution_count": null,
   "id": "underlying-monitor",
   "metadata": {},
   "outputs": [],
   "source": [
    "# INSERT CODE HERE"
   ]
  },
  {
   "cell_type": "markdown",
   "id": "indian-constitution",
   "metadata": {},
   "source": [
    "## Analysing Data"
   ]
  },
  {
   "cell_type": "markdown",
   "id": "covered-assistant",
   "metadata": {},
   "source": [
    "In Part II we will learn how to conduct a range of insightful, accurate analyses of the *bsa* dataset. To whet your appetite, here is a mini-analysis of the following research question:\n",
    "\n",
    "<p><center><i>Are climate change beliefs associated with sex and age among British people?</i></center></p>"
   ]
  },
  {
   "cell_type": "markdown",
   "id": "interesting-tiffany",
   "metadata": {},
   "source": [
    "### Import the data"
   ]
  },
  {
   "cell_type": "code",
   "execution_count": null,
   "id": "0b94ba2a-2094-4a8e-ae04-4432f90958a6",
   "metadata": {},
   "outputs": [],
   "source": [
    "bsa <- read.csv(\"https://raw.githubusercontent.com/DiarmuidM/data-analysis-for-the-social-sciences-2023/main/lessons/data/bsa2017_open_enviropol.csv\", header=TRUE, na=\"NA\")\n",
    "head(bsa) # view the first six observations"
   ]
  },
  {
   "cell_type": "markdown",
   "id": "interracial-belfast",
   "metadata": {},
   "source": [
    "### View the data"
   ]
  },
  {
   "cell_type": "code",
   "execution_count": null,
   "id": "incoming-elite",
   "metadata": {},
   "outputs": [],
   "source": [
    "head(bsa)"
   ]
  },
  {
   "cell_type": "markdown",
   "id": "naval-delivery",
   "metadata": {},
   "source": [
    "### Data cleaning"
   ]
  },
  {
   "cell_type": "markdown",
   "id": "comparative-architecture",
   "metadata": {},
   "source": [
    "We are only interested in respondents who provided a valid answer to the climate change question. For example, some respondents may have refused to answer, some do not have a belief or opinion, some were not asked as part of the sampling design etc. Therefore we need to perform some simple data cleaning."
   ]
  },
  {
   "cell_type": "code",
   "execution_count": null,
   "id": "suspected-costume",
   "metadata": {},
   "outputs": [],
   "source": [
    "table(bsa$CCBELIEV)"
   ]
  },
  {
   "cell_type": "markdown",
   "id": "current-citation",
   "metadata": {},
   "source": [
    "Having consulted the codebook, we know that the value \"-1\" indicates that that this question was not relevant to a respondent, and \"8\" that a respondent answered \"Don't know. Therefore let's tell *R* to ignore these values when summarising / analysing the `CCBELIEV` variable."
   ]
  },
  {
   "cell_type": "code",
   "execution_count": null,
   "id": "neural-sunrise",
   "metadata": {},
   "outputs": [],
   "source": [
    "bsa$CCBELIEV[bsa$CCBELIEV==-1 | bsa$CCBELIEV==8] <- NA # convert \"-1\" and \"8\" to missing"
   ]
  },
  {
   "cell_type": "code",
   "execution_count": null,
   "id": "greatest-norwegian",
   "metadata": {},
   "outputs": [],
   "source": [
    "table(bsa$CCBELIEV)"
   ]
  },
  {
   "cell_type": "code",
   "execution_count": null,
   "id": "c0c5b7c6-789c-492a-bac9-3586fa9fac86",
   "metadata": {},
   "outputs": [],
   "source": [
    "summary(bsa$CCBELIEV)"
   ]
  },
  {
   "cell_type": "markdown",
   "id": "unexpected-tutorial",
   "metadata": {},
   "source": [
    "Note there are now 1,048 respondents with missing values for this variable i.e., we ignore \"-1\" and \"8\" when producing statistical summaries.\n",
    "\n",
    "Let's quickly do the same for our other variables."
   ]
  },
  {
   "cell_type": "code",
   "execution_count": null,
   "id": "dfbbb906-7203-4f04-b286-8eb50526ca2f",
   "metadata": {},
   "outputs": [],
   "source": [
    "bsa$RAgeCat[bsa$RAgeCat==-1 | bsa$RAgeCat==8] <- NA # convert \"8\" to missing"
   ]
  },
  {
   "cell_type": "markdown",
   "id": "built-number",
   "metadata": {},
   "source": [
    "### Univariate analysis"
   ]
  },
  {
   "cell_type": "markdown",
   "id": "classified-capacity",
   "metadata": {},
   "source": [
    "Every analysis begins with a summary of individual variables."
   ]
  },
  {
   "cell_type": "code",
   "execution_count": null,
   "id": "essential-software",
   "metadata": {},
   "outputs": [],
   "source": [
    "table(bsa$Rsex)\n",
    "barplot(table(bsa$Rsex))"
   ]
  },
  {
   "cell_type": "markdown",
   "id": "ranging-holiday",
   "metadata": {},
   "source": [
    "We see that there are more females than males in the sample."
   ]
  },
  {
   "cell_type": "code",
   "execution_count": null,
   "id": "9507549f-a6e5-454d-8c48-584c4d79c5e3",
   "metadata": {},
   "outputs": [],
   "source": [
    "table(bsa$RAgeCat)\n",
    "barplot(table(bsa$RAgeCat))"
   ]
  },
  {
   "cell_type": "markdown",
   "id": "a1a8d354-199a-47fd-b6b5-a2f4abd69ada",
   "metadata": {},
   "source": [
    "Respondents are skewed towards 65+ years old."
   ]
  },
  {
   "cell_type": "code",
   "execution_count": null,
   "id": "interested-remove",
   "metadata": {},
   "outputs": [],
   "source": [
    "table(bsa$CCBELIEV)\n",
    "barplot(table(bsa$CCBELIEV))"
   ]
  },
  {
   "cell_type": "markdown",
   "id": "copyrighted-victor",
   "metadata": {},
   "source": [
    "The vast majority of respondents believe that \n",
    "climate change i \r\n",
    "taking place a d\r\n",
    "is, at least part y,\r\n",
    "a result uf h man\r\n",
    "ac.tions"
   ]
  },
  {
   "cell_type": "markdown",
   "id": "aerial-smith",
   "metadata": {},
   "source": [
    "### Bivariate analysis"
   ]
  },
  {
   "cell_type": "markdown",
   "id": "painful-tracker",
   "metadata": {},
   "source": [
    "The next step in our analysis is to see if our two variables are associated or not. That is, does knowing somebody's age help us predict what they believe about climate change? Or vice versa: does knowing somebody's climate change beliefs tell you anything about what age they are?\n",
    "\n",
    "The first step is to visualise the joint distribution of two variables."
   ]
  },
  {
   "cell_type": "code",
   "execution_count": null,
   "id": "448e119d-678b-4519-ac58-cbc1e18b7215",
   "metadata": {},
   "outputs": [],
   "source": [
    "table(bsa$RAgeCat, bsa$CCBELIEV) "
   ]
  },
  {
   "cell_type": "markdown",
   "id": "ded39f44-00e5-4a7a-a64c-408b2d1d8f99",
   "metadata": {},
   "source": [
    "Hmm, it's a little bit tricky to interpret due to the lack of labels and percentages. Let's tidy up the variables before producing the crosstabulation."
   ]
  },
  {
   "cell_type": "code",
   "execution_count": null,
   "id": "9cd53e7f-2ed7-41f6-aa9f-2abb3478f8ff",
   "metadata": {},
   "outputs": [],
   "source": [
    "bsa$Rsex <- factor(bsa$Rsex, levels = c(1,2), labels = c(\"Male\", \"Female\"))"
   ]
  },
  {
   "cell_type": "code",
   "execution_count": null,
   "id": "b3f155ef-2820-4dd9-9811-045c97a4b969",
   "metadata": {},
   "outputs": [],
   "source": [
    "bsa$RAgeCat <- factor(bsa$RAgeCat, levels = c(1,2,3,4,5,6,7), labels = c(\"18-24\", \"25-34\", \"35-44\", \"45-54\", \"55-59\", \"60-64\", \"65+\"))"
   ]
  },
  {
   "cell_type": "code",
   "execution_count": null,
   "id": "cf32ebc1-310f-49f9-b6ae-cc9c4c05ca02",
   "metadata": {},
   "outputs": [],
   "source": [
    "bsa$CCBELIEV <- factor(bsa$CCBELIEV, levels = c(1,2,3), labels = c(\"Dont believe\", \"Believe but no human cause\", \"Believe and human cause\"))"
   ]
  },
  {
   "cell_type": "code",
   "execution_count": null,
   "id": "2f15b2d8-ad24-4b6d-b814-bb2dce48d905",
   "metadata": {},
   "outputs": [],
   "source": [
    "cc_age_table <- table(bsa$RAgeCat, bsa$CCBELIEV) # store the results of the `table()` command in an object called 'cc_age_table'"
   ]
  },
  {
   "cell_type": "code",
   "execution_count": null,
   "id": "963e9c60-1748-4577-ac51-3240a1f2c826",
   "metadata": {},
   "outputs": [],
   "source": [
    "round(prop.table(cc_age_table, 1)* 100, 0) # display row percentages"
   ]
  },
  {
   "cell_type": "markdown",
   "id": "parallel-least",
   "metadata": {},
   "source": [
    "There does not appear to be any association between respondent age and climate change beliefs: the vast majority of people in each age group believe climate change is real and is at least partly caused by human action. \n",
    "\n",
    "We can confirm this using an appropriate measure of association:"
   ]
  },
  {
   "cell_type": "code",
   "execution_count": null,
   "id": "professional-fitness",
   "metadata": {},
   "outputs": [],
   "source": [
    "library(DescTools) # laod in package with measure of association function\n",
    "CramerV(bsa$RAgeCat, bsa$CCBELIEV)"
   ]
  },
  {
   "cell_type": "markdown",
   "id": "5eb10c08-cc77-45fe-b545-101696c125df",
   "metadata": {},
   "source": [
    "**TASK:** Produce a bivariate analysis of the `Rsex` (sex at birth) and `CCBELIEV` variables.\n",
    "\n",
    "Use the cell(s) below to insert your code."
   ]
  },
  {
   "cell_type": "code",
   "execution_count": null,
   "id": "5a8b4450-e897-4267-904c-b262a9133b98",
   "metadata": {},
   "outputs": [],
   "source": [
    "# INSERT CODE HERE"
   ]
  },
  {
   "cell_type": "code",
   "execution_count": null,
   "id": "02b3b25d-7b13-4b9f-85fb-ade53a56d72d",
   "metadata": {},
   "outputs": [],
   "source": [
    "# INSERT CODE HERE"
   ]
  },
  {
   "cell_type": "markdown",
   "id": "soviet-michael",
   "metadata": {},
   "source": [
    "### Multivariate analysis"
   ]
  },
  {
   "cell_type": "markdown",
   "id": "junior-mapping",
   "metadata": {},
   "source": [
    "There may be no apparant association between a respondent's age and their climate change beliefs, however is this true for males and females alike?\n",
    "\n",
    "Multivariate analysis allows us to see if the patterns we find are consistent across values of other variables."
   ]
  },
  {
   "cell_type": "markdown",
   "id": "vietnamese-shooting",
   "metadata": {},
   "source": [
    "### By sex"
   ]
  },
  {
   "cell_type": "code",
   "execution_count": null,
   "id": "ab8e3c5d-116d-43d2-9f8c-2b5f2933ad7d",
   "metadata": {},
   "outputs": [],
   "source": [
    "sac_table <- table(bsa$Rsex, bsa$RAgeCat, bsa$CCBELIEV) # create crosstabulation - variable 1 is the control variable,\n",
    "# variable 2 is the X (predictor) variable, variable 3 is the Y (outcome) variable.\n",
    "\n",
    "sac_prop_table <- addmargins(prop.table(sac_table, c(1,2)), 3) # calculate proportions\n",
    "sac_perc_table <- round(ftable(sac_prop_table) * 100, 0) # convert proportions to percentages\n",
    "sac_perc_table # display table"
   ]
  },
  {
   "cell_type": "code",
   "execution_count": null,
   "id": "altered-class",
   "metadata": {},
   "outputs": [],
   "source": [
    "bsa_males <- subset(bsa, Rsex==\"Male\") # create a subset of observations containing only male respondents\n",
    "CramerV(bsa_males$RAgeCat, bsa_males$CCBELIEV)"
   ]
  },
  {
   "cell_type": "code",
   "execution_count": null,
   "id": "intellectual-advertiser",
   "metadata": {},
   "outputs": [],
   "source": [
    "bsa_females <- subset(bsa, Rsex==\"Female\") # create a subset of observations containing only female respondents\n",
    "CramerV(bsa_females$RAgeCat, bsa_females$CCBELIEV)"
   ]
  },
  {
   "cell_type": "markdown",
   "id": "executive-medicaid",
   "metadata": {},
   "source": [
    "The measure of association is slightly different across sexes: there is a stronger association between age and climate change beliefs for males. But given there are more females in the sample, the overall measure of association is closer to that in the female cohort."
   ]
  },
  {
   "cell_type": "markdown",
   "id": "colored-plate",
   "metadata": {},
   "source": [
    "## Conclusion"
   ]
  },
  {
   "cell_type": "markdown",
   "id": "corresponding-cowboy",
   "metadata": {},
   "source": [
    "Hopefully this notebook has given you a sense of what quantitative data analysis entails:\n",
    "* Importing datasets\n",
    "* Exploring observations\n",
    "* Summarising variables\n",
    "* Writing syntax"
   ]
  },
  {
   "cell_type": "markdown",
   "id": "eecc342b-4cb5-470c-98b0-a23cd70998fe",
   "metadata": {},
   "source": [
    "In part II of the module we delve into each of these steps in detail."
   ]
  }
 ],
 "metadata": {
  "kernelspec": {
   "display_name": "R",
   "language": "R",
   "name": "ir"
  },
  "language_info": {
   "codemirror_mode": "r",
   "file_extension": ".r",
   "mimetype": "text/x-r-source",
   "name": "R",
   "pygments_lexer": "r",
   "version": "4.3.1"
  }
 },
 "nbformat": 4,
 "nbformat_minor": 5
}
